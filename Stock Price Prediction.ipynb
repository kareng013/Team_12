{
 "cells": [
  {
   "cell_type": "code",
   "execution_count": 1,
   "id": "1d4e2444",
   "metadata": {},
   "outputs": [],
   "source": [
    "# Import dependencies\n",
    "import pandas as pd\n",
    "import numpy as np\n",
    "import matplotlib.pyplot as plt\n",
    "import psycopg2\n",
    "from config import PGHOST, PGDATABASE, PGUSER, PGPASSWORD\n",
    "\n",
    "from sklearn.preprocessing import MinMaxScaler\n",
    "from tensorflow.keras.models import Sequential\n",
    "from tensorflow.keras.optimizers import Adam\n",
    "from tensorflow.keras.layers import Dense, LSTM"
   ]
  },
  {
   "cell_type": "code",
   "execution_count": 2,
   "id": "4f5c9757",
   "metadata": {},
   "outputs": [],
   "source": [
    "# Define a function to connect to AWS database instance\n",
    "\n",
    "def connect():\n",
    "    \n",
    "    # Set up a connection to the postgres server.\n",
    "    conn_string = \"host=\"+PGHOST +\" port=\"+ \"5432\" +\" dbname=\"+PGDATABASE +\" user=\" + PGUSER \\\n",
    "                  +\" password=\"+ PGPASSWORD\n",
    "    \n",
    "    conn = psycopg2.connect(conn_string)\n",
    "    print(\"Connected!\")\n",
    "\n",
    "    # Create a cursor object\n",
    "    cursor = conn.cursor()\n",
    "    \n",
    "    return conn, cursor"
   ]
  },
  {
   "cell_type": "code",
   "execution_count": 3,
   "id": "2643e777",
   "metadata": {},
   "outputs": [
    {
     "name": "stdout",
     "output_type": "stream",
     "text": [
      "Connected!\n"
     ]
    }
   ],
   "source": [
    "conn, cursor = connect()"
   ]
  },
  {
   "cell_type": "code",
   "execution_count": 4,
   "id": "5ea0d6e8",
   "metadata": {},
   "outputs": [
    {
     "data": {
      "text/html": [
       "<div>\n",
       "<style scoped>\n",
       "    .dataframe tbody tr th:only-of-type {\n",
       "        vertical-align: middle;\n",
       "    }\n",
       "\n",
       "    .dataframe tbody tr th {\n",
       "        vertical-align: top;\n",
       "    }\n",
       "\n",
       "    .dataframe thead th {\n",
       "        text-align: right;\n",
       "    }\n",
       "</style>\n",
       "<table border=\"1\" class=\"dataframe\">\n",
       "  <thead>\n",
       "    <tr style=\"text-align: right;\">\n",
       "      <th></th>\n",
       "      <th>Date</th>\n",
       "      <th>open_price</th>\n",
       "      <th>high_price</th>\n",
       "      <th>low_price</th>\n",
       "      <th>close_price</th>\n",
       "      <th>adj_close</th>\n",
       "      <th>volume</th>\n",
       "    </tr>\n",
       "  </thead>\n",
       "  <tbody>\n",
       "    <tr>\n",
       "      <th>0</th>\n",
       "      <td>1999-02-04</td>\n",
       "      <td>2.145833</td>\n",
       "      <td>2.166667</td>\n",
       "      <td>1.895833</td>\n",
       "      <td>1.924479</td>\n",
       "      <td>1.924479</td>\n",
       "      <td>16788600</td>\n",
       "    </tr>\n",
       "    <tr>\n",
       "      <th>1</th>\n",
       "      <td>1999-02-05</td>\n",
       "      <td>1.929688</td>\n",
       "      <td>1.947917</td>\n",
       "      <td>1.822917</td>\n",
       "      <td>1.833333</td>\n",
       "      <td>1.833333</td>\n",
       "      <td>3053400</td>\n",
       "    </tr>\n",
       "    <tr>\n",
       "      <th>2</th>\n",
       "      <td>1999-02-08</td>\n",
       "      <td>1.854167</td>\n",
       "      <td>1.927083</td>\n",
       "      <td>1.783854</td>\n",
       "      <td>1.812500</td>\n",
       "      <td>1.812500</td>\n",
       "      <td>1548000</td>\n",
       "    </tr>\n",
       "    <tr>\n",
       "      <th>3</th>\n",
       "      <td>1999-02-09</td>\n",
       "      <td>1.822917</td>\n",
       "      <td>1.833333</td>\n",
       "      <td>1.656250</td>\n",
       "      <td>1.666667</td>\n",
       "      <td>1.666667</td>\n",
       "      <td>3501600</td>\n",
       "    </tr>\n",
       "    <tr>\n",
       "      <th>4</th>\n",
       "      <td>1999-02-10</td>\n",
       "      <td>1.708333</td>\n",
       "      <td>1.708333</td>\n",
       "      <td>1.604167</td>\n",
       "      <td>1.677083</td>\n",
       "      <td>1.677083</td>\n",
       "      <td>1597200</td>\n",
       "    </tr>\n",
       "  </tbody>\n",
       "</table>\n",
       "</div>"
      ],
      "text/plain": [
       "         Date  open_price  high_price  low_price  close_price  adj_close  \\\n",
       "0  1999-02-04    2.145833    2.166667   1.895833     1.924479   1.924479   \n",
       "1  1999-02-05    1.929688    1.947917   1.822917     1.833333   1.833333   \n",
       "2  1999-02-08    1.854167    1.927083   1.783854     1.812500   1.812500   \n",
       "3  1999-02-09    1.822917    1.833333   1.656250     1.666667   1.666667   \n",
       "4  1999-02-10    1.708333    1.708333   1.604167     1.677083   1.677083   \n",
       "\n",
       "     volume  \n",
       "0  16788600  \n",
       "1   3053400  \n",
       "2   1548000  \n",
       "3   3501600  \n",
       "4   1597200  "
      ]
     },
     "execution_count": 4,
     "metadata": {},
     "output_type": "execute_result"
    }
   ],
   "source": [
    "# Get the data, read SQL query into data frame\n",
    "bb_data = pd.read_sql_query(\"SELECT * FROM blackberry\", con=conn)\n",
    "bb_df = pd.DataFrame(bb_data)\n",
    "bb_df.head()"
   ]
  },
  {
   "cell_type": "code",
   "execution_count": 5,
   "id": "4db4c610",
   "metadata": {},
   "outputs": [
    {
     "data": {
      "text/html": [
       "<div>\n",
       "<style scoped>\n",
       "    .dataframe tbody tr th:only-of-type {\n",
       "        vertical-align: middle;\n",
       "    }\n",
       "\n",
       "    .dataframe tbody tr th {\n",
       "        vertical-align: top;\n",
       "    }\n",
       "\n",
       "    .dataframe thead th {\n",
       "        text-align: right;\n",
       "    }\n",
       "</style>\n",
       "<table border=\"1\" class=\"dataframe\">\n",
       "  <thead>\n",
       "    <tr style=\"text-align: right;\">\n",
       "      <th></th>\n",
       "      <th>Date</th>\n",
       "      <th>open_price</th>\n",
       "      <th>high_price</th>\n",
       "      <th>low_price</th>\n",
       "      <th>close_price</th>\n",
       "      <th>adj_close</th>\n",
       "      <th>volume</th>\n",
       "    </tr>\n",
       "  </thead>\n",
       "  <tbody>\n",
       "    <tr>\n",
       "      <th>0</th>\n",
       "      <td>2004-08-19</td>\n",
       "      <td>2.502503</td>\n",
       "      <td>2.604104</td>\n",
       "      <td>2.401401</td>\n",
       "      <td>2.511011</td>\n",
       "      <td>2.511011</td>\n",
       "      <td>893181924</td>\n",
       "    </tr>\n",
       "    <tr>\n",
       "      <th>1</th>\n",
       "      <td>2004-08-20</td>\n",
       "      <td>2.527778</td>\n",
       "      <td>2.729730</td>\n",
       "      <td>2.515015</td>\n",
       "      <td>2.710460</td>\n",
       "      <td>2.710460</td>\n",
       "      <td>456686856</td>\n",
       "    </tr>\n",
       "    <tr>\n",
       "      <th>2</th>\n",
       "      <td>2004-08-23</td>\n",
       "      <td>2.771522</td>\n",
       "      <td>2.839840</td>\n",
       "      <td>2.728979</td>\n",
       "      <td>2.737738</td>\n",
       "      <td>2.737738</td>\n",
       "      <td>365122512</td>\n",
       "    </tr>\n",
       "    <tr>\n",
       "      <th>3</th>\n",
       "      <td>2004-08-24</td>\n",
       "      <td>2.783784</td>\n",
       "      <td>2.792793</td>\n",
       "      <td>2.591842</td>\n",
       "      <td>2.624374</td>\n",
       "      <td>2.624374</td>\n",
       "      <td>304946748</td>\n",
       "    </tr>\n",
       "    <tr>\n",
       "      <th>4</th>\n",
       "      <td>2004-08-25</td>\n",
       "      <td>2.626627</td>\n",
       "      <td>2.702703</td>\n",
       "      <td>2.599600</td>\n",
       "      <td>2.652653</td>\n",
       "      <td>2.652653</td>\n",
       "      <td>183772044</td>\n",
       "    </tr>\n",
       "  </tbody>\n",
       "</table>\n",
       "</div>"
      ],
      "text/plain": [
       "         Date  open_price  high_price  low_price  close_price  adj_close  \\\n",
       "0  2004-08-19    2.502503    2.604104   2.401401     2.511011   2.511011   \n",
       "1  2004-08-20    2.527778    2.729730   2.515015     2.710460   2.710460   \n",
       "2  2004-08-23    2.771522    2.839840   2.728979     2.737738   2.737738   \n",
       "3  2004-08-24    2.783784    2.792793   2.591842     2.624374   2.624374   \n",
       "4  2004-08-25    2.626627    2.702703   2.599600     2.652653   2.652653   \n",
       "\n",
       "      volume  \n",
       "0  893181924  \n",
       "1  456686856  \n",
       "2  365122512  \n",
       "3  304946748  \n",
       "4  183772044  "
      ]
     },
     "execution_count": 5,
     "metadata": {},
     "output_type": "execute_result"
    }
   ],
   "source": [
    "# Get the data, read SQL query into data frame\n",
    "gg_data = pd.read_sql_query(\"SELECT * FROM google\", con=conn)\n",
    "gg_df = pd.DataFrame(gg_data)\n",
    "gg_df.head()"
   ]
  },
  {
   "cell_type": "code",
   "execution_count": 6,
   "id": "eb2ff095",
   "metadata": {},
   "outputs": [
    {
     "data": {
      "text/html": [
       "<div>\n",
       "<style scoped>\n",
       "    .dataframe tbody tr th:only-of-type {\n",
       "        vertical-align: middle;\n",
       "    }\n",
       "\n",
       "    .dataframe tbody tr th {\n",
       "        vertical-align: top;\n",
       "    }\n",
       "\n",
       "    .dataframe thead th {\n",
       "        text-align: right;\n",
       "    }\n",
       "</style>\n",
       "<table border=\"1\" class=\"dataframe\">\n",
       "  <thead>\n",
       "    <tr style=\"text-align: right;\">\n",
       "      <th></th>\n",
       "      <th>Date</th>\n",
       "      <th>open_price</th>\n",
       "      <th>high_price</th>\n",
       "      <th>low_price</th>\n",
       "      <th>close_price</th>\n",
       "      <th>adj_close</th>\n",
       "      <th>volume</th>\n",
       "    </tr>\n",
       "  </thead>\n",
       "  <tbody>\n",
       "    <tr>\n",
       "      <th>0</th>\n",
       "      <td>2002-05-23</td>\n",
       "      <td>1.156429</td>\n",
       "      <td>1.242857</td>\n",
       "      <td>1.145714</td>\n",
       "      <td>1.196429</td>\n",
       "      <td>1.196429</td>\n",
       "      <td>104790000</td>\n",
       "    </tr>\n",
       "    <tr>\n",
       "      <th>1</th>\n",
       "      <td>2002-05-24</td>\n",
       "      <td>1.214286</td>\n",
       "      <td>1.225000</td>\n",
       "      <td>1.197143</td>\n",
       "      <td>1.210000</td>\n",
       "      <td>1.210000</td>\n",
       "      <td>11104800</td>\n",
       "    </tr>\n",
       "    <tr>\n",
       "      <th>2</th>\n",
       "      <td>2002-05-28</td>\n",
       "      <td>1.213571</td>\n",
       "      <td>1.232143</td>\n",
       "      <td>1.157143</td>\n",
       "      <td>1.157143</td>\n",
       "      <td>1.157143</td>\n",
       "      <td>6609400</td>\n",
       "    </tr>\n",
       "    <tr>\n",
       "      <th>3</th>\n",
       "      <td>2002-05-29</td>\n",
       "      <td>1.164286</td>\n",
       "      <td>1.164286</td>\n",
       "      <td>1.085714</td>\n",
       "      <td>1.103571</td>\n",
       "      <td>1.103571</td>\n",
       "      <td>6757800</td>\n",
       "    </tr>\n",
       "    <tr>\n",
       "      <th>4</th>\n",
       "      <td>2002-05-30</td>\n",
       "      <td>1.107857</td>\n",
       "      <td>1.107857</td>\n",
       "      <td>1.071429</td>\n",
       "      <td>1.071429</td>\n",
       "      <td>1.071429</td>\n",
       "      <td>10154200</td>\n",
       "    </tr>\n",
       "  </tbody>\n",
       "</table>\n",
       "</div>"
      ],
      "text/plain": [
       "         Date  open_price  high_price  low_price  close_price  adj_close  \\\n",
       "0  2002-05-23    1.156429    1.242857   1.145714     1.196429   1.196429   \n",
       "1  2002-05-24    1.214286    1.225000   1.197143     1.210000   1.210000   \n",
       "2  2002-05-28    1.213571    1.232143   1.157143     1.157143   1.157143   \n",
       "3  2002-05-29    1.164286    1.164286   1.085714     1.103571   1.103571   \n",
       "4  2002-05-30    1.107857    1.107857   1.071429     1.071429   1.071429   \n",
       "\n",
       "      volume  \n",
       "0  104790000  \n",
       "1   11104800  \n",
       "2    6609400  \n",
       "3    6757800  \n",
       "4   10154200  "
      ]
     },
     "execution_count": 6,
     "metadata": {},
     "output_type": "execute_result"
    }
   ],
   "source": [
    "# Get the data, read SQL query into data frame\n",
    "nf_data = pd.read_sql_query(\"SELECT * FROM netflix\", con=conn)\n",
    "nf_df = pd.DataFrame(nf_data)\n",
    "nf_df.head()"
   ]
  },
  {
   "cell_type": "code",
   "execution_count": 7,
   "id": "ce1a716c",
   "metadata": {},
   "outputs": [
    {
     "name": "stdout",
     "output_type": "stream",
     "text": [
      "(5945, 7)\n",
      "(4553, 7)\n",
      "(5117, 7)\n"
     ]
    }
   ],
   "source": [
    "# Check the rows and columns of dfs\n",
    "print(bb_df.shape)\n",
    "print(gg_df.shape)\n",
    "print(nf_df.shape)"
   ]
  },
  {
   "cell_type": "code",
   "execution_count": 8,
   "id": "677a019f",
   "metadata": {},
   "outputs": [
    {
     "data": {
      "text/plain": [
       "Date           0\n",
       "open_price     0\n",
       "high_price     0\n",
       "low_price      0\n",
       "close_price    0\n",
       "adj_close      0\n",
       "volume         0\n",
       "dtype: int64"
      ]
     },
     "execution_count": 8,
     "metadata": {},
     "output_type": "execute_result"
    }
   ],
   "source": [
    "# Check if there is null values\n",
    "bb_df.isnull().sum()"
   ]
  },
  {
   "cell_type": "code",
   "execution_count": 9,
   "id": "ecb4bd19",
   "metadata": {},
   "outputs": [
    {
     "name": "stdout",
     "output_type": "stream",
     "text": [
      "<class 'pandas.core.frame.DataFrame'>\n",
      "RangeIndex: 5945 entries, 0 to 5944\n",
      "Data columns (total 7 columns):\n",
      " #   Column       Non-Null Count  Dtype  \n",
      "---  ------       --------------  -----  \n",
      " 0   Date         5945 non-null   object \n",
      " 1   open_price   5945 non-null   float64\n",
      " 2   high_price   5945 non-null   float64\n",
      " 3   low_price    5945 non-null   float64\n",
      " 4   close_price  5945 non-null   float64\n",
      " 5   adj_close    5945 non-null   float64\n",
      " 6   volume       5945 non-null   int64  \n",
      "dtypes: float64(5), int64(1), object(1)\n",
      "memory usage: 325.2+ KB\n"
     ]
    }
   ],
   "source": [
    "# Check the data types in df\n",
    "bb_df.info()"
   ]
  },
  {
   "cell_type": "code",
   "execution_count": 10,
   "id": "0327da91",
   "metadata": {},
   "outputs": [
    {
     "data": {
      "text/plain": [
       "Date           0\n",
       "open_price     0\n",
       "high_price     0\n",
       "low_price      0\n",
       "close_price    0\n",
       "adj_close      0\n",
       "volume         0\n",
       "dtype: int64"
      ]
     },
     "execution_count": 10,
     "metadata": {},
     "output_type": "execute_result"
    }
   ],
   "source": [
    "gg_df.isnull().sum()"
   ]
  },
  {
   "cell_type": "code",
   "execution_count": 11,
   "id": "65823e36",
   "metadata": {},
   "outputs": [
    {
     "data": {
      "text/plain": [
       "Date           0\n",
       "open_price     0\n",
       "high_price     0\n",
       "low_price      0\n",
       "close_price    0\n",
       "adj_close      0\n",
       "volume         0\n",
       "dtype: int64"
      ]
     },
     "execution_count": 11,
     "metadata": {},
     "output_type": "execute_result"
    }
   ],
   "source": [
    "nf_df.isnull().sum()"
   ]
  },
  {
   "cell_type": "code",
   "execution_count": 12,
   "id": "f506ed61",
   "metadata": {},
   "outputs": [],
   "source": [
    "# Change [Date] data type to data time\n",
    "\n",
    "bb_df['Date'] = pd.to_datetime(bb_df.Date)\n",
    "gg_df['Date'] = pd.to_datetime(gg_df.Date)\n",
    "nf_df['Date'] = pd.to_datetime(nf_df.Date)"
   ]
  },
  {
   "cell_type": "code",
   "execution_count": 13,
   "id": "784a1508",
   "metadata": {},
   "outputs": [
    {
     "name": "stdout",
     "output_type": "stream",
     "text": [
      "<class 'pandas.core.frame.DataFrame'>\n",
      "RangeIndex: 5945 entries, 0 to 5944\n",
      "Data columns (total 7 columns):\n",
      " #   Column       Non-Null Count  Dtype         \n",
      "---  ------       --------------  -----         \n",
      " 0   Date         5945 non-null   datetime64[ns]\n",
      " 1   open_price   5945 non-null   float64       \n",
      " 2   high_price   5945 non-null   float64       \n",
      " 3   low_price    5945 non-null   float64       \n",
      " 4   close_price  5945 non-null   float64       \n",
      " 5   adj_close    5945 non-null   float64       \n",
      " 6   volume       5945 non-null   int64         \n",
      "dtypes: datetime64[ns](1), float64(5), int64(1)\n",
      "memory usage: 325.2 KB\n"
     ]
    }
   ],
   "source": [
    "bb_df.info()"
   ]
  },
  {
   "cell_type": "code",
   "execution_count": 14,
   "id": "c18469dc",
   "metadata": {},
   "outputs": [],
   "source": [
    "# Delete 'Adj Close' column and check df\n",
    "\n",
    "bb_df = bb_df.drop('adj_close', axis=1)\n",
    "gg_df = gg_df.drop('adj_close', axis=1)\n",
    "nf_df = nf_df.drop('adj_close', axis=1)"
   ]
  },
  {
   "cell_type": "code",
   "execution_count": 15,
   "id": "d6621683",
   "metadata": {},
   "outputs": [
    {
     "data": {
      "text/html": [
       "<div>\n",
       "<style scoped>\n",
       "    .dataframe tbody tr th:only-of-type {\n",
       "        vertical-align: middle;\n",
       "    }\n",
       "\n",
       "    .dataframe tbody tr th {\n",
       "        vertical-align: top;\n",
       "    }\n",
       "\n",
       "    .dataframe thead th {\n",
       "        text-align: right;\n",
       "    }\n",
       "</style>\n",
       "<table border=\"1\" class=\"dataframe\">\n",
       "  <thead>\n",
       "    <tr style=\"text-align: right;\">\n",
       "      <th></th>\n",
       "      <th>open_price</th>\n",
       "      <th>high_price</th>\n",
       "      <th>low_price</th>\n",
       "      <th>close_price</th>\n",
       "      <th>volume</th>\n",
       "    </tr>\n",
       "    <tr>\n",
       "      <th>Date</th>\n",
       "      <th></th>\n",
       "      <th></th>\n",
       "      <th></th>\n",
       "      <th></th>\n",
       "      <th></th>\n",
       "    </tr>\n",
       "  </thead>\n",
       "  <tbody>\n",
       "    <tr>\n",
       "      <th>2002-05-23</th>\n",
       "      <td>1.156429</td>\n",
       "      <td>1.242857</td>\n",
       "      <td>1.145714</td>\n",
       "      <td>1.196429</td>\n",
       "      <td>104790000</td>\n",
       "    </tr>\n",
       "    <tr>\n",
       "      <th>2002-05-24</th>\n",
       "      <td>1.214286</td>\n",
       "      <td>1.225000</td>\n",
       "      <td>1.197143</td>\n",
       "      <td>1.210000</td>\n",
       "      <td>11104800</td>\n",
       "    </tr>\n",
       "    <tr>\n",
       "      <th>2002-05-28</th>\n",
       "      <td>1.213571</td>\n",
       "      <td>1.232143</td>\n",
       "      <td>1.157143</td>\n",
       "      <td>1.157143</td>\n",
       "      <td>6609400</td>\n",
       "    </tr>\n",
       "    <tr>\n",
       "      <th>2002-05-29</th>\n",
       "      <td>1.164286</td>\n",
       "      <td>1.164286</td>\n",
       "      <td>1.085714</td>\n",
       "      <td>1.103571</td>\n",
       "      <td>6757800</td>\n",
       "    </tr>\n",
       "    <tr>\n",
       "      <th>2002-05-30</th>\n",
       "      <td>1.107857</td>\n",
       "      <td>1.107857</td>\n",
       "      <td>1.071429</td>\n",
       "      <td>1.071429</td>\n",
       "      <td>10154200</td>\n",
       "    </tr>\n",
       "    <tr>\n",
       "      <th>...</th>\n",
       "      <td>...</td>\n",
       "      <td>...</td>\n",
       "      <td>...</td>\n",
       "      <td>...</td>\n",
       "      <td>...</td>\n",
       "    </tr>\n",
       "    <tr>\n",
       "      <th>2022-09-13</th>\n",
       "      <td>226.500000</td>\n",
       "      <td>227.690000</td>\n",
       "      <td>217.720000</td>\n",
       "      <td>218.130000</td>\n",
       "      <td>8000100</td>\n",
       "    </tr>\n",
       "    <tr>\n",
       "      <th>2022-09-14</th>\n",
       "      <td>219.820000</td>\n",
       "      <td>228.000000</td>\n",
       "      <td>215.800000</td>\n",
       "      <td>224.120000</td>\n",
       "      <td>8230300</td>\n",
       "    </tr>\n",
       "    <tr>\n",
       "      <th>2022-09-15</th>\n",
       "      <td>230.470000</td>\n",
       "      <td>242.290000</td>\n",
       "      <td>229.100000</td>\n",
       "      <td>235.380000</td>\n",
       "      <td>19454100</td>\n",
       "    </tr>\n",
       "    <tr>\n",
       "      <th>2022-09-16</th>\n",
       "      <td>231.220000</td>\n",
       "      <td>241.360000</td>\n",
       "      <td>227.830000</td>\n",
       "      <td>240.130000</td>\n",
       "      <td>18871600</td>\n",
       "    </tr>\n",
       "    <tr>\n",
       "      <th>2022-09-19</th>\n",
       "      <td>245.050000</td>\n",
       "      <td>245.250000</td>\n",
       "      <td>235.750000</td>\n",
       "      <td>243.630000</td>\n",
       "      <td>17912400</td>\n",
       "    </tr>\n",
       "  </tbody>\n",
       "</table>\n",
       "<p>5117 rows × 5 columns</p>\n",
       "</div>"
      ],
      "text/plain": [
       "            open_price  high_price   low_price  close_price     volume\n",
       "Date                                                                  \n",
       "2002-05-23    1.156429    1.242857    1.145714     1.196429  104790000\n",
       "2002-05-24    1.214286    1.225000    1.197143     1.210000   11104800\n",
       "2002-05-28    1.213571    1.232143    1.157143     1.157143    6609400\n",
       "2002-05-29    1.164286    1.164286    1.085714     1.103571    6757800\n",
       "2002-05-30    1.107857    1.107857    1.071429     1.071429   10154200\n",
       "...                ...         ...         ...          ...        ...\n",
       "2022-09-13  226.500000  227.690000  217.720000   218.130000    8000100\n",
       "2022-09-14  219.820000  228.000000  215.800000   224.120000    8230300\n",
       "2022-09-15  230.470000  242.290000  229.100000   235.380000   19454100\n",
       "2022-09-16  231.220000  241.360000  227.830000   240.130000   18871600\n",
       "2022-09-19  245.050000  245.250000  235.750000   243.630000   17912400\n",
       "\n",
       "[5117 rows x 5 columns]"
      ]
     },
     "execution_count": 15,
     "metadata": {},
     "output_type": "execute_result"
    }
   ],
   "source": [
    "bb_df.set_index('Date')\n",
    "gg_df.set_index('Date')\n",
    "nf_df.set_index('Date')"
   ]
  },
  {
   "cell_type": "code",
   "execution_count": 16,
   "id": "5d2bfce9",
   "metadata": {},
   "outputs": [
    {
     "data": {
      "image/png": "[encoded data removed]",
      "text/plain": [
       "<Figure size 432x288 with 1 Axes>"
      ]
     },
     "metadata": {
      "needs_background": "light"
     },
     "output_type": "display_data"
    }
   ],
   "source": [
    "# Vistulize the stock price trend by using 'Close' column\n",
    "plt.plot(bb_df['Date'], bb_df['close_price'], label='Close')\n",
    "plt.xlabel('Date')\n",
    "plt.ylabel('Price')\n",
    "plt.title('BB History Stock Price')\n",
    "plt.grid()\n",
    "plt.legend()\n",
    "plt.show()"
   ]
  },
  {
   "cell_type": "code",
   "execution_count": 17,
   "id": "d536654b",
   "metadata": {},
   "outputs": [
    {
     "data": {
      "image/png": "[encoded data removed]",
      "text/plain": [
       "<Figure size 432x288 with 1 Axes>"
      ]
     },
     "metadata": {
      "needs_background": "light"
     },
     "output_type": "display_data"
    }
   ],
   "source": [
    "# Vistulize the stock price trend by using 'Close' column\n",
    "plt.plot(gg_df['Date'], gg_df['close_price'], label='Close')\n",
    "plt.xlabel('Date')\n",
    "plt.ylabel('Price')\n",
    "plt.title('Google History Stock Price')\n",
    "plt.grid()\n",
    "plt.legend()\n",
    "plt.show()"
   ]
  },
  {
   "cell_type": "code",
   "execution_count": 18,
   "id": "435bfe18",
   "metadata": {},
   "outputs": [
    {
     "data": {
      "image/png": "[encoded data removed]",
      "text/plain": [
       "<Figure size 432x288 with 1 Axes>"
      ]
     },
     "metadata": {
      "needs_background": "light"
     },
     "output_type": "display_data"
    }
   ],
   "source": [
    "# Vistulize the stock price trend by using 'Close' column\n",
    "plt.plot(nf_df['Date'], nf_df['close_price'], label='Close')\n",
    "plt.xlabel('Date')\n",
    "plt.ylabel('Price')\n",
    "plt.title('Netflix History Stock Price')\n",
    "plt.grid()\n",
    "plt.legend()\n",
    "plt.show()"
   ]
  },
  {
   "cell_type": "markdown",
   "id": "96e3ddcd",
   "metadata": {},
   "source": [
    "# Multiple Linear Regression Model"
   ]
  },
  {
   "cell_type": "code",
   "execution_count": 19,
   "id": "031ea410",
   "metadata": {},
   "outputs": [],
   "source": [
    "from sklearn.linear_model import LinearRegression\n",
    "from sklearn.model_selection import train_test_split"
   ]
  },
  {
   "cell_type": "code",
   "execution_count": 20,
   "id": "73afa036",
   "metadata": {},
   "outputs": [],
   "source": [
    "# Split our preprocessed data into our features and target arrays\n",
    "\n",
    "X = bb_df[['open_price','high_price','low_price','volume']].values\n",
    "y = bb_df['close_price'].values"
   ]
  },
  {
   "cell_type": "code",
   "execution_count": 21,
   "id": "0e1b6629",
   "metadata": {},
   "outputs": [],
   "source": [
    "# Split the preprocessed data into a training and testing dataset\n",
    "\n",
    "X_train, X_test, y_train, y_test = train_test_split(X, y, random_state=78)"
   ]
  },
  {
   "cell_type": "code",
   "execution_count": 22,
   "id": "a9eb2e48",
   "metadata": {},
   "outputs": [
    {
     "name": "stdout",
     "output_type": "stream",
     "text": [
      "(4458, 4)\n",
      "(1487, 4)\n"
     ]
    }
   ],
   "source": [
    "# Check the shape of X_train and X_test\n",
    "\n",
    "print(X_train.shape)\n",
    "print(X_test.shape)"
   ]
  },
  {
   "cell_type": "code",
   "execution_count": 23,
   "id": "1712aa69",
   "metadata": {},
   "outputs": [
    {
     "data": {
      "text/plain": [
       "LinearRegression()"
      ]
     },
     "execution_count": 23,
     "metadata": {},
     "output_type": "execute_result"
    }
   ],
   "source": [
    "# Build linear reg model\n",
    "\n",
    "lr_model = LinearRegression()\n",
    "lr_model.fit(X_train, y_train)"
   ]
  },
  {
   "cell_type": "code",
   "execution_count": 24,
   "id": "c976872b",
   "metadata": {},
   "outputs": [
    {
     "data": {
      "text/plain": [
       "0.9997635230910699"
      ]
     },
     "execution_count": 24,
     "metadata": {},
     "output_type": "execute_result"
    }
   ],
   "source": [
    "# Check the model score\n",
    "\n",
    "lr_model.score(X_train, y_train)"
   ]
  },
  {
   "cell_type": "code",
   "execution_count": 25,
   "id": "ec024b3d",
   "metadata": {},
   "outputs": [
    {
     "name": "stdout",
     "output_type": "stream",
     "text": [
      "(1487,)\n",
      "[ 7.07024107  9.91884785 62.05358664 ...  2.62858694 20.86661344\n",
      " 22.28151238]\n"
     ]
    }
   ],
   "source": [
    "# Make stock price prediction\n",
    "\n",
    "prediction = lr_model.predict(X_test)\n",
    "\n",
    "print(prediction.shape)\n",
    "print(prediction)"
   ]
  },
  {
   "cell_type": "code",
   "execution_count": 26,
   "id": "a1d5c0b7",
   "metadata": {},
   "outputs": [
    {
     "data": {
      "text/html": [
       "<div>\n",
       "<style scoped>\n",
       "    .dataframe tbody tr th:only-of-type {\n",
       "        vertical-align: middle;\n",
       "    }\n",
       "\n",
       "    .dataframe tbody tr th {\n",
       "        vertical-align: top;\n",
       "    }\n",
       "\n",
       "    .dataframe thead th {\n",
       "        text-align: right;\n",
       "    }\n",
       "</style>\n",
       "<table border=\"1\" class=\"dataframe\">\n",
       "  <thead>\n",
       "    <tr style=\"text-align: right;\">\n",
       "      <th></th>\n",
       "      <th>Actual Price</th>\n",
       "      <th>Predicted Price</th>\n",
       "    </tr>\n",
       "  </thead>\n",
       "  <tbody>\n",
       "    <tr>\n",
       "      <th>0</th>\n",
       "      <td>7.050000</td>\n",
       "      <td>7.070241</td>\n",
       "    </tr>\n",
       "    <tr>\n",
       "      <th>1</th>\n",
       "      <td>9.880000</td>\n",
       "      <td>9.918848</td>\n",
       "    </tr>\n",
       "    <tr>\n",
       "      <th>2</th>\n",
       "      <td>62.410000</td>\n",
       "      <td>62.053587</td>\n",
       "    </tr>\n",
       "    <tr>\n",
       "      <th>3</th>\n",
       "      <td>7.430000</td>\n",
       "      <td>7.441019</td>\n",
       "    </tr>\n",
       "    <tr>\n",
       "      <th>4</th>\n",
       "      <td>21.630000</td>\n",
       "      <td>21.906761</td>\n",
       "    </tr>\n",
       "    <tr>\n",
       "      <th>5</th>\n",
       "      <td>6.200000</td>\n",
       "      <td>6.175861</td>\n",
       "    </tr>\n",
       "    <tr>\n",
       "      <th>6</th>\n",
       "      <td>140.840000</td>\n",
       "      <td>139.526198</td>\n",
       "    </tr>\n",
       "    <tr>\n",
       "      <th>7</th>\n",
       "      <td>7.940000</td>\n",
       "      <td>7.900663</td>\n",
       "    </tr>\n",
       "    <tr>\n",
       "      <th>8</th>\n",
       "      <td>2.983333</td>\n",
       "      <td>2.742798</td>\n",
       "    </tr>\n",
       "    <tr>\n",
       "      <th>9</th>\n",
       "      <td>8.430000</td>\n",
       "      <td>8.473819</td>\n",
       "    </tr>\n",
       "    <tr>\n",
       "      <th>10</th>\n",
       "      <td>9.920000</td>\n",
       "      <td>9.907096</td>\n",
       "    </tr>\n",
       "    <tr>\n",
       "      <th>11</th>\n",
       "      <td>3.201667</td>\n",
       "      <td>3.105859</td>\n",
       "    </tr>\n",
       "    <tr>\n",
       "      <th>12</th>\n",
       "      <td>7.220000</td>\n",
       "      <td>6.825211</td>\n",
       "    </tr>\n",
       "    <tr>\n",
       "      <th>13</th>\n",
       "      <td>7.420000</td>\n",
       "      <td>7.346986</td>\n",
       "    </tr>\n",
       "    <tr>\n",
       "      <th>14</th>\n",
       "      <td>6.080000</td>\n",
       "      <td>6.165851</td>\n",
       "    </tr>\n",
       "    <tr>\n",
       "      <th>15</th>\n",
       "      <td>10.635417</td>\n",
       "      <td>10.835357</td>\n",
       "    </tr>\n",
       "    <tr>\n",
       "      <th>16</th>\n",
       "      <td>68.270000</td>\n",
       "      <td>67.816371</td>\n",
       "    </tr>\n",
       "    <tr>\n",
       "      <th>17</th>\n",
       "      <td>2.168333</td>\n",
       "      <td>2.167463</td>\n",
       "    </tr>\n",
       "    <tr>\n",
       "      <th>18</th>\n",
       "      <td>5.080000</td>\n",
       "      <td>5.089925</td>\n",
       "    </tr>\n",
       "    <tr>\n",
       "      <th>19</th>\n",
       "      <td>23.633333</td>\n",
       "      <td>23.870884</td>\n",
       "    </tr>\n",
       "  </tbody>\n",
       "</table>\n",
       "</div>"
      ],
      "text/plain": [
       "    Actual Price  Predicted Price\n",
       "0       7.050000         7.070241\n",
       "1       9.880000         9.918848\n",
       "2      62.410000        62.053587\n",
       "3       7.430000         7.441019\n",
       "4      21.630000        21.906761\n",
       "5       6.200000         6.175861\n",
       "6     140.840000       139.526198\n",
       "7       7.940000         7.900663\n",
       "8       2.983333         2.742798\n",
       "9       8.430000         8.473819\n",
       "10      9.920000         9.907096\n",
       "11      3.201667         3.105859\n",
       "12      7.220000         6.825211\n",
       "13      7.420000         7.346986\n",
       "14      6.080000         6.165851\n",
       "15     10.635417        10.835357\n",
       "16     68.270000        67.816371\n",
       "17      2.168333         2.167463\n",
       "18      5.080000         5.089925\n",
       "19     23.633333        23.870884"
      ]
     },
     "execution_count": 26,
     "metadata": {},
     "output_type": "execute_result"
    }
   ],
   "source": [
    "# Compare y_test and our prediction value\n",
    "\n",
    "pred_df = pd.DataFrame({'Actual Price':y_test, 'Predicted Price':prediction})\n",
    "\n",
    "pred_df.head(20)"
   ]
  },
  {
   "cell_type": "code",
   "execution_count": 27,
   "id": "f9884fe9",
   "metadata": {},
   "outputs": [
    {
     "data": {
      "image/png": "[encoded data removed]",
      "text/plain": [
       "<Figure size 432x288 with 1 Axes>"
      ]
     },
     "metadata": {
      "needs_background": "light"
     },
     "output_type": "display_data"
    }
   ],
   "source": [
    "# Plot the actual and predicted price\n",
    "# from the above data frame, we can see the difference between 'actual price' and 'predicted price' is tiny\n",
    "# if using line graph, the two lines will be overlapped to each other.\n",
    "# so we choose to use bar graph to show the difference of first 20 rows of data frame\n",
    "\n",
    "fig_df = pred_df.loc[pred_df.index<20]\n",
    "\n",
    "x = np.arange(len(fig_df['Actual Price']))  # the label locations\n",
    "width = 0.35  # the width of the bars\n",
    "fig, ax = plt.subplots()\n",
    "rects1 = ax.bar(x - width/2, fig_df['Actual Price'], width, label='Actual')\n",
    "rects2 = ax.bar(x + width/2, fig_df['Predicted Price'], width, label='Predicted')\n",
    "\n",
    "# Add some text for labels, title and custom x-axis tick labels, etc.\n",
    "ax.set_xlabel('Time')\n",
    "ax.set_ylabel('Stock Price')\n",
    "ax.set_title('Stock Price predicted by Linear Regression Model')\n",
    "ax.legend()\n",
    "fig.tight_layout()\n",
    "plt.show()"
   ]
  },
  {
   "cell_type": "code",
   "execution_count": 28,
   "id": "5cefd85c",
   "metadata": {},
   "outputs": [
    {
     "name": "stdout",
     "output_type": "stream",
     "text": [
      "[-6.04633013e-01  8.49151347e-01  7.54209287e-01 -1.14024046e-09]\n",
      "-0.0010973939316194503\n"
     ]
    }
   ],
   "source": [
    "print(lr_model.coef_)\n",
    "print(lr_model.intercept_)"
   ]
  },
  {
   "cell_type": "code",
   "execution_count": 29,
   "id": "79a031d6",
   "metadata": {},
   "outputs": [
    {
     "data": {
      "text/plain": [
       "0.22175367673634705"
      ]
     },
     "execution_count": 29,
     "metadata": {},
     "output_type": "execute_result"
    }
   ],
   "source": [
    "# Calculate the MSE for our model\n",
    "# The mean squared error (MSE) tells you how close a regression line is to a set of points\n",
    "# return a non-negative floating point value (the best value is 0.0)\n",
    "\n",
    "from sklearn.metrics import mean_squared_error\n",
    "mean_squared_error(y_test, prediction)"
   ]
  },
  {
   "cell_type": "markdown",
   "id": "f69d06d5",
   "metadata": {},
   "source": [
    "# Using more popular LSTM model to predict BB stock price"
   ]
  },
  {
   "cell_type": "code",
   "execution_count": 68,
   "id": "90bd1793",
   "metadata": {},
   "outputs": [
    {
     "name": "stdout",
     "output_type": "stream",
     "text": [
      "   close_price\n",
      "0     1.924479\n",
      "1     1.833333\n",
      "2     1.812500\n",
      "3     1.666667\n",
      "4     1.677083\n",
      "      close_price\n",
      "4756        11.35\n",
      "4757        11.17\n",
      "4758        12.02\n",
      "4759        13.53\n",
      "4760        13.37\n"
     ]
    }
   ],
   "source": [
    "# Choose \"Closed\" price column as our input variable\n",
    "close_df= pd.DataFrame(bb_df['close_price'])\n",
    "\n",
    "data_len = round(len(close_df) * 0.8)\n",
    "\n",
    "close_df_train = close_df.loc[close_df.index < data_len]\n",
    "close_df_test = close_df.loc[close_df.index >= data_len]\n",
    "\n",
    "print(close_df_train.head())\n",
    "#print()\n",
    "print(close_df_test.head())"
   ]
  },
  {
   "cell_type": "code",
   "execution_count": 69,
   "id": "ba5f4e8e",
   "metadata": {},
   "outputs": [],
   "source": [
    "# Scale the training data\n",
    "scaler = MinMaxScaler(feature_range=(0,1))\n",
    "scaled_data_train = scaler.fit_transform(close_df_train.values.reshape(-1,1))\n",
    "scaled_data_test = scaler.fit_transform(close_df_test.values.reshape(-1,1))"
   ]
  },
  {
   "cell_type": "code",
   "execution_count": 70,
   "id": "e0f5cabc",
   "metadata": {},
   "outputs": [],
   "source": [
    "# Use the previous 30 days 'close' price to predict the 31st day's price\n",
    "previous_days = 30"
   ]
  },
  {
   "cell_type": "code",
   "execution_count": 73,
   "id": "b2570851",
   "metadata": {},
   "outputs": [],
   "source": [
    "# Splite data into X_train and y_train\n",
    "X_train = []\n",
    "y_train = []\n",
    "X_test = []\n",
    "y_test = close_df_test[previous_days:]\n",
    "\n",
    "for i in range(previous_days, len(scaled_data_train)):\n",
    "    X_train.append(scaled_data_train[i-previous_days:i, 0])\n",
    "    y_train.append(scaled_data_train[i, 0])\n",
    "    \n",
    "for i in range(previous_days, len(scaled_data_test)):\n",
    "    X_test.append(scaled_data_test[i-previous_days:i, 0])"
   ]
  },
  {
   "cell_type": "code",
   "execution_count": 74,
   "id": "71ce5f12",
   "metadata": {},
   "outputs": [
    {
     "name": "stdout",
     "output_type": "stream",
     "text": [
      "1159\n"
     ]
    }
   ],
   "source": [
    "print(len(y_test))"
   ]
  },
  {
   "cell_type": "code",
   "execution_count": 83,
   "id": "c87619d6",
   "metadata": {},
   "outputs": [
    {
     "name": "stdout",
     "output_type": "stream",
     "text": [
      "1159\n"
     ]
    }
   ],
   "source": [
    "print(len(X_test))"
   ]
  },
  {
   "cell_type": "code",
   "execution_count": 75,
   "id": "35739252",
   "metadata": {},
   "outputs": [
    {
     "name": "stdout",
     "output_type": "stream",
     "text": [
      "(4726, 30)\n",
      "(4726,)\n",
      "(1159, 30)\n"
     ]
    }
   ],
   "source": [
    "# Convert the X_train and y_train to numpy arrays\n",
    "X_train, y_train, X_test = np.array(X_train), np.array(y_train), np.array(X_test)\n",
    "\n",
    "print(X_train.shape)\n",
    "print(y_train.shape)\n",
    "print(X_test.shape)"
   ]
  },
  {
   "cell_type": "code",
   "execution_count": 76,
   "id": "6b21a5a6",
   "metadata": {},
   "outputs": [
    {
     "name": "stdout",
     "output_type": "stream",
     "text": [
      "(4726, 30, 1)\n",
      "(1159, 30, 1)\n"
     ]
    }
   ],
   "source": [
    "# Reshape the X_train since LSTM needs 3-dimensional inputs\n",
    "X_train = np.reshape(X_train, (X_train.shape[0], X_train.shape[1], 1))\n",
    "X_test = np.reshape(X_test, (X_test.shape[0], X_test.shape[1], 1))\n",
    "\n",
    "print(X_train.shape)\n",
    "print(X_test.shape)"
   ]
  },
  {
   "cell_type": "code",
   "execution_count": 77,
   "id": "b2e465b5",
   "metadata": {},
   "outputs": [],
   "source": [
    "# Build the LSTM model\n",
    "model = Sequential()\n",
    "# Add LSTM layer\n",
    "model.add(LSTM(units = 50, return_sequences=True, input_shape = (X_train.shape[1],1)))\n",
    "model.add(LSTM(units = 50, return_sequences=True))\n",
    "model.add(LSTM(units = 50))\n",
    "# prediction output layer\n",
    "model.add(Dense(units=1))"
   ]
  },
  {
   "cell_type": "code",
   "execution_count": 78,
   "id": "016537bf",
   "metadata": {},
   "outputs": [
    {
     "name": "stdout",
     "output_type": "stream",
     "text": [
      "Epoch 1/20\n",
      "148/148 [==============================] - 10s 24ms/step - loss: 0.0028\n",
      "Epoch 2/20\n",
      "148/148 [==============================] - 4s 24ms/step - loss: 7.3783e-04\n",
      "Epoch 3/20\n",
      "148/148 [==============================] - 4s 24ms/step - loss: 5.5934e-04\n",
      "Epoch 4/20\n",
      "148/148 [==============================] - 4s 24ms/step - loss: 5.3430e-04\n",
      "Epoch 5/20\n",
      "148/148 [==============================] - 4s 24ms/step - loss: 4.2412e-04\n",
      "Epoch 6/20\n",
      "148/148 [==============================] - 4s 25ms/step - loss: 4.5055e-04\n",
      "Epoch 7/20\n",
      "148/148 [==============================] - 4s 24ms/step - loss: 4.0475e-04\n",
      "Epoch 8/20\n",
      "148/148 [==============================] - 4s 24ms/step - loss: 3.2967e-04\n",
      "Epoch 9/20\n",
      "148/148 [==============================] - 4s 25ms/step - loss: 2.2461e-04\n",
      "Epoch 10/20\n",
      "148/148 [==============================] - 4s 24ms/step - loss: 2.3306e-04\n",
      "Epoch 11/20\n",
      "148/148 [==============================] - 4s 24ms/step - loss: 2.6400e-04\n",
      "Epoch 12/20\n",
      "148/148 [==============================] - 4s 24ms/step - loss: 1.8458e-04\n",
      "Epoch 13/20\n",
      "148/148 [==============================] - 4s 25ms/step - loss: 2.0426e-04\n",
      "Epoch 14/20\n",
      "148/148 [==============================] - 4s 24ms/step - loss: 1.7835e-04\n",
      "Epoch 15/20\n",
      "148/148 [==============================] - 4s 24ms/step - loss: 1.9250e-04\n",
      "Epoch 16/20\n",
      "148/148 [==============================] - 4s 25ms/step - loss: 1.7027e-04\n",
      "Epoch 17/20\n",
      "148/148 [==============================] - 4s 26ms/step - loss: 1.5044e-04\n",
      "Epoch 18/20\n",
      "148/148 [==============================] - 4s 25ms/step - loss: 1.9765e-04\n",
      "Epoch 19/20\n",
      "148/148 [==============================] - 4s 24ms/step - loss: 1.3637e-04\n",
      "Epoch 20/20\n",
      "148/148 [==============================] - 4s 24ms/step - loss: 1.4335e-04\n"
     ]
    },
    {
     "data": {
      "text/plain": [
       "<keras.callbacks.History at 0x240cf9f89c8>"
      ]
     },
     "execution_count": 78,
     "metadata": {},
     "output_type": "execute_result"
    }
   ],
   "source": [
    "# compile and train the data\n",
    "model.compile(optimizer='adam', loss='mean_squared_error')\n",
    "model.fit(X_train, y_train, batch_size =32, epochs=20)"
   ]
  },
  {
   "cell_type": "code",
   "execution_count": 79,
   "id": "04ae63c9",
   "metadata": {},
   "outputs": [
    {
     "name": "stdout",
     "output_type": "stream",
     "text": [
      "Model: \"sequential_2\"\n",
      "_________________________________________________________________\n",
      " Layer (type)                Output Shape              Param #   \n",
      "=================================================================\n",
      " lstm_6 (LSTM)               (None, 30, 50)            10400     \n",
      "                                                                 \n",
      " lstm_7 (LSTM)               (None, 30, 50)            20200     \n",
      "                                                                 \n",
      " lstm_8 (LSTM)               (None, 50)                20200     \n",
      "                                                                 \n",
      " dense_2 (Dense)             (None, 1)                 51        \n",
      "                                                                 \n",
      "=================================================================\n",
      "Total params: 50,851\n",
      "Trainable params: 50,851\n",
      "Non-trainable params: 0\n",
      "_________________________________________________________________\n"
     ]
    }
   ],
   "source": [
    "model.summary()"
   ]
  },
  {
   "cell_type": "code",
   "execution_count": 80,
   "id": "f4145f46",
   "metadata": {},
   "outputs": [
    {
     "name": "stdout",
     "output_type": "stream",
     "text": [
      "37/37 [==============================] - 1s 8ms/step\n",
      "1159\n"
     ]
    }
   ],
   "source": [
    "# Predict the data\n",
    "\n",
    "prediction = model.predict(X_test)\n",
    "prediction = scaler.inverse_transform(prediction)\n",
    "\n",
    "print(len(prediction))"
   ]
  },
  {
   "cell_type": "code",
   "execution_count": 85,
   "id": "779acb22",
   "metadata": {},
   "outputs": [
    {
     "name": "stderr",
     "output_type": "stream",
     "text": [
      "C:\\Users\\ivorf\\anaconda3\\envs\\PythonData\\envs\\mlenv\\lib\\site-packages\\ipykernel_launcher.py:1: SettingWithCopyWarning: \n",
      "A value is trying to be set on a copy of a slice from a DataFrame.\n",
      "Try using .loc[row_indexer,col_indexer] = value instead\n",
      "\n",
      "See the caveats in the documentation: https://pandas.pydata.org/pandas-docs/stable/user_guide/indexing.html#returning-a-view-versus-a-copy\n",
      "  \"\"\"Entry point for launching an IPython kernel.\n"
     ]
    },
    {
     "data": {
      "text/html": [
       "<div>\n",
       "<style scoped>\n",
       "    .dataframe tbody tr th:only-of-type {\n",
       "        vertical-align: middle;\n",
       "    }\n",
       "\n",
       "    .dataframe tbody tr th {\n",
       "        vertical-align: top;\n",
       "    }\n",
       "\n",
       "    .dataframe thead th {\n",
       "        text-align: right;\n",
       "    }\n",
       "</style>\n",
       "<table border=\"1\" class=\"dataframe\">\n",
       "  <thead>\n",
       "    <tr style=\"text-align: right;\">\n",
       "      <th></th>\n",
       "      <th>close_price</th>\n",
       "      <th>pred</th>\n",
       "    </tr>\n",
       "  </thead>\n",
       "  <tbody>\n",
       "    <tr>\n",
       "      <th>4786</th>\n",
       "      <td>11.73</td>\n",
       "      <td>11.780762</td>\n",
       "    </tr>\n",
       "    <tr>\n",
       "      <th>4787</th>\n",
       "      <td>11.77</td>\n",
       "      <td>11.903584</td>\n",
       "    </tr>\n",
       "    <tr>\n",
       "      <th>4788</th>\n",
       "      <td>12.10</td>\n",
       "      <td>11.975788</td>\n",
       "    </tr>\n",
       "    <tr>\n",
       "      <th>4789</th>\n",
       "      <td>12.12</td>\n",
       "      <td>12.213552</td>\n",
       "    </tr>\n",
       "    <tr>\n",
       "      <th>4790</th>\n",
       "      <td>12.06</td>\n",
       "      <td>12.310044</td>\n",
       "    </tr>\n",
       "  </tbody>\n",
       "</table>\n",
       "</div>"
      ],
      "text/plain": [
       "      close_price       pred\n",
       "4786        11.73  11.780762\n",
       "4787        11.77  11.903584\n",
       "4788        12.10  11.975788\n",
       "4789        12.12  12.213552\n",
       "4790        12.06  12.310044"
      ]
     },
     "execution_count": 85,
     "metadata": {},
     "output_type": "execute_result"
    }
   ],
   "source": [
    "\n",
    "y_test['pred'] = prediction\n",
    "y_test.head()\n"
   ]
  },
  {
   "cell_type": "code",
   "execution_count": 86,
   "id": "05b50ac7",
   "metadata": {},
   "outputs": [
    {
     "name": "stderr",
     "output_type": "stream",
     "text": [
      "No artists with labels found to put in legend.  Note that artists whose label start with an underscore are ignored when legend() is called with no argument.\n"
     ]
    },
    {
     "data": {
      "image/png": "[encoded data removed]",
      "text/plain": [
       "<Figure size 864x576 with 1 Axes>"
      ]
     },
     "metadata": {
      "needs_background": "light"
     },
     "output_type": "display_data"
    }
   ],
   "source": [
    "# plot test predictions\n",
    "\n",
    "\n",
    "plt.figure(figsize=(12, 8))\n",
    "plt.plot(close_df_train)\n",
    "plt.plot(y_test[['close_price','pred']])\n",
    "plt.legend(['Train', 'Val', 'Predictions'])\n",
    "plt.xlabel('Date')\n",
    "plt.ylabel('Stock Price')\n",
    "\n",
    "plt.title(\"Stock Price predicted by LSTM Model\")\n",
    "plt.grid()\n",
    "plt.legend()\n",
    "plt.show()"
   ]
  },
  {
   "cell_type": "markdown",
   "id": "2279b97d",
   "metadata": {},
   "source": [
    "# Using LSTM model to predict GOOGLE stock price"
   ]
  },
  {
   "cell_type": "code",
   "execution_count": 46,
   "id": "5505b816",
   "metadata": {},
   "outputs": [
    {
     "name": "stdout",
     "output_type": "stream",
     "text": [
      "0    2.511011\n",
      "1    2.710460\n",
      "2    2.737738\n",
      "3    2.624374\n",
      "4    2.652653\n",
      "Name: close_price, dtype: float64\n",
      "\n",
      "3642    55.2955\n",
      "3643    55.1190\n",
      "3644    55.1060\n",
      "3645    56.3790\n",
      "3646    56.4315\n",
      "Name: close_price, dtype: float64\n"
     ]
    }
   ],
   "source": [
    "# Choose \"Closed\" price column as our input variable\n",
    "close_df= gg_df['close_price']\n",
    "\n",
    "data_len = round(len(close_df) * 0.8)\n",
    "\n",
    "close_df_train = close_df.loc[close_df.index < data_len]\n",
    "close_df_test = close_df.loc[close_df.index >= data_len]\n",
    "\n",
    "print(close_df_train.head())\n",
    "print()\n",
    "print(close_df_test.head())"
   ]
  },
  {
   "cell_type": "code",
   "execution_count": 47,
   "id": "19cf7eab",
   "metadata": {},
   "outputs": [
    {
     "data": {
      "text/plain": [
       "(3642, 1)"
      ]
     },
     "execution_count": 47,
     "metadata": {},
     "output_type": "execute_result"
    }
   ],
   "source": [
    "# Scale the training data\n",
    "scaler = MinMaxScaler(feature_range=(0,1))\n",
    "scaled_data = scaler.fit_transform(close_df_train.values.reshape(-1,1))\n",
    "scaled_data.shape"
   ]
  },
  {
   "cell_type": "code",
   "execution_count": 48,
   "id": "430b57fd",
   "metadata": {},
   "outputs": [],
   "source": [
    "# Use the previous 30 days 'close' price to predict the 31st day's price\n",
    "previous_days = 30"
   ]
  },
  {
   "cell_type": "code",
   "execution_count": 49,
   "id": "7c1d87db",
   "metadata": {},
   "outputs": [],
   "source": [
    "# Splite data into X_train and y_train\n",
    "X_train = []\n",
    "y_train = []\n",
    "\n",
    "for i in range(previous_days, len(scaled_data)):\n",
    "    X_train.append(scaled_data[i-previous_days:i, 0])\n",
    "    y_train.append(scaled_data[i, 0])"
   ]
  },
  {
   "cell_type": "code",
   "execution_count": 50,
   "id": "f07b59db",
   "metadata": {},
   "outputs": [
    {
     "name": "stdout",
     "output_type": "stream",
     "text": [
      "(3612, 30)\n",
      "(3612,)\n"
     ]
    }
   ],
   "source": [
    "# Convert the X_train and y_train to numpy arrays\n",
    "X_train, y_train = np.array(X_train), np.array(y_train)\n",
    "\n",
    "print(X_train.shape)\n",
    "print(y_train.shape)"
   ]
  },
  {
   "cell_type": "code",
   "execution_count": 51,
   "id": "5cfc9791",
   "metadata": {},
   "outputs": [
    {
     "data": {
      "text/plain": [
       "(3612, 30, 1)"
      ]
     },
     "execution_count": 51,
     "metadata": {},
     "output_type": "execute_result"
    }
   ],
   "source": [
    "# Reshape the X_train since LSTM needs 3-dimensional inputs\n",
    "X_train = np.reshape(X_train, (X_train.shape[0], X_train.shape[1], 1))\n",
    "X_train.shape"
   ]
  },
  {
   "cell_type": "code",
   "execution_count": 52,
   "id": "f99926cc",
   "metadata": {},
   "outputs": [],
   "source": [
    "# Build the LSTM model\n",
    "model = Sequential()\n",
    "# Add LSTM layer\n",
    "model.add(LSTM(units = 50, return_sequences=True, input_shape = (X_train.shape[1],1)))\n",
    "model.add(LSTM(units = 50, return_sequences=True))\n",
    "model.add(LSTM(units = 50))\n",
    "# prediction output layer\n",
    "model.add(Dense(units=1))"
   ]
  },
  {
   "cell_type": "code",
   "execution_count": 53,
   "id": "77bc06fc",
   "metadata": {},
   "outputs": [
    {
     "name": "stdout",
     "output_type": "stream",
     "text": [
      "Epoch 1/20\n",
      "113/113 [==============================] - 9s 26ms/step - loss: 0.0069\n",
      "Epoch 2/20\n",
      "113/113 [==============================] - 3s 24ms/step - loss: 3.4358e-04\n",
      "Epoch 3/20\n",
      "113/113 [==============================] - 3s 25ms/step - loss: 3.1669e-04\n",
      "Epoch 4/20\n",
      "113/113 [==============================] - 3s 26ms/step - loss: 3.1795e-04\n",
      "Epoch 5/20\n",
      "113/113 [==============================] - 3s 26ms/step - loss: 3.4481e-04\n",
      "Epoch 6/20\n",
      "113/113 [==============================] - 3s 26ms/step - loss: 3.3414e-04\n",
      "Epoch 7/20\n",
      "113/113 [==============================] - 3s 26ms/step - loss: 3.0463e-04\n",
      "Epoch 8/20\n",
      "113/113 [==============================] - 3s 25ms/step - loss: 2.9627e-04\n",
      "Epoch 9/20\n",
      "113/113 [==============================] - 3s 26ms/step - loss: 2.7977e-04\n",
      "Epoch 10/20\n",
      "113/113 [==============================] - 3s 25ms/step - loss: 3.0017e-04\n",
      "Epoch 11/20\n",
      "113/113 [==============================] - 3s 25ms/step - loss: 2.8074e-04\n",
      "Epoch 12/20\n",
      "113/113 [==============================] - 3s 25ms/step - loss: 2.9962e-04\n",
      "Epoch 13/20\n",
      "113/113 [==============================] - 3s 25ms/step - loss: 2.4676e-04\n",
      "Epoch 14/20\n",
      "113/113 [==============================] - 3s 25ms/step - loss: 2.7595e-04\n",
      "Epoch 15/20\n",
      "113/113 [==============================] - 3s 25ms/step - loss: 2.1604e-04\n",
      "Epoch 16/20\n",
      "113/113 [==============================] - 3s 24ms/step - loss: 2.1809e-04\n",
      "Epoch 17/20\n",
      "113/113 [==============================] - 3s 25ms/step - loss: 1.7832e-04\n",
      "Epoch 18/20\n",
      "113/113 [==============================] - 3s 24ms/step - loss: 2.1788e-04\n",
      "Epoch 19/20\n",
      "113/113 [==============================] - 3s 26ms/step - loss: 1.7730e-04\n",
      "Epoch 20/20\n",
      "113/113 [==============================] - 3s 25ms/step - loss: 1.4453e-04\n"
     ]
    },
    {
     "data": {
      "text/plain": [
       "<keras.callbacks.History at 0x240c67acc88>"
      ]
     },
     "execution_count": 53,
     "metadata": {},
     "output_type": "execute_result"
    }
   ],
   "source": [
    "# compile and train the data\n",
    "model.compile(optimizer='adam', loss='mean_squared_error')\n",
    "model.fit(X_train, y_train, batch_size =32, epochs=20)"
   ]
  },
  {
   "cell_type": "code",
   "execution_count": 54,
   "id": "95a23312",
   "metadata": {},
   "outputs": [
    {
     "name": "stdout",
     "output_type": "stream",
     "text": [
      "Model: \"sequential_1\"\n",
      "_________________________________________________________________\n",
      " Layer (type)                Output Shape              Param #   \n",
      "=================================================================\n",
      " lstm_3 (LSTM)               (None, 30, 50)            10400     \n",
      "                                                                 \n",
      " lstm_4 (LSTM)               (None, 30, 50)            20200     \n",
      "                                                                 \n",
      " lstm_5 (LSTM)               (None, 50)                20200     \n",
      "                                                                 \n",
      " dense_1 (Dense)             (None, 1)                 51        \n",
      "                                                                 \n",
      "=================================================================\n",
      "Total params: 50,851\n",
      "Trainable params: 50,851\n",
      "Non-trainable params: 0\n",
      "_________________________________________________________________\n"
     ]
    }
   ],
   "source": [
    "model.summary()"
   ]
  },
  {
   "cell_type": "code",
   "execution_count": 55,
   "id": "0d81dfc8",
   "metadata": {},
   "outputs": [
    {
     "data": {
      "text/plain": [
       "(911, 1)"
      ]
     },
     "execution_count": 55,
     "metadata": {},
     "output_type": "execute_result"
    }
   ],
   "source": [
    "#### Test model ####\n",
    "\n",
    "# Scale the testing data\n",
    "scaler = MinMaxScaler(feature_range=(0,1))\n",
    "scaled_test_data = scaler.fit_transform(close_df_test.values.reshape(-1,1))\n",
    "scaled_test_data.shape"
   ]
  },
  {
   "cell_type": "code",
   "execution_count": 56,
   "id": "7b4d1b37",
   "metadata": {},
   "outputs": [],
   "source": [
    "# Create X_test and y_test\n",
    "X_test = []\n",
    "y_test = []\n",
    "\n",
    "for i in range(previous_days, len(scaled_test_data)):\n",
    "    X_test.append(scaled_test_data[i-previous_days:i, 0])\n",
    "    y_test.append(scaled_test_data[i, 0])"
   ]
  },
  {
   "cell_type": "code",
   "execution_count": 57,
   "id": "71e7e26f",
   "metadata": {},
   "outputs": [
    {
     "name": "stdout",
     "output_type": "stream",
     "text": [
      "(881, 30)\n"
     ]
    }
   ],
   "source": [
    "# Convert the X_test to numpy arrays\n",
    "X_test = np.array(X_test)\n",
    "print(X_test.shape)"
   ]
  },
  {
   "cell_type": "code",
   "execution_count": 58,
   "id": "9503f7e2",
   "metadata": {},
   "outputs": [
    {
     "name": "stdout",
     "output_type": "stream",
     "text": [
      "(881, 30, 1)\n"
     ]
    }
   ],
   "source": [
    "# reshape\n",
    "X_test = np.reshape(X_test, (X_test.shape[0], X_test.shape[1], 1))\n",
    "\n",
    "print(X_test.shape)"
   ]
  },
  {
   "cell_type": "code",
   "execution_count": 59,
   "id": "03ce5c04",
   "metadata": {},
   "outputs": [
    {
     "name": "stdout",
     "output_type": "stream",
     "text": [
      "28/28 [==============================] - 1s 9ms/step\n"
     ]
    }
   ],
   "source": [
    "# Predict the data\n",
    "\n",
    "prediction = model.predict(X_test)\n",
    "prediction = scaler.inverse_transform(prediction)"
   ]
  },
  {
   "cell_type": "code",
   "execution_count": 60,
   "id": "28b1ae05",
   "metadata": {},
   "outputs": [
    {
     "data": {
      "image/png": "[encoded data removed]",
      "text/plain": [
       "<Figure size 864x576 with 1 Axes>"
      ]
     },
     "metadata": {
      "needs_background": "light"
     },
     "output_type": "display_data"
    }
   ],
   "source": [
    "# plot test predictions\n",
    "\n",
    "plt.figure(figsize=(12, 8))\n",
    "plt.plot(y_test, color='red', label='Actual')\n",
    "plt.plot(prediction, color='green', label='Predicted')\n",
    "plt.xlabel('Date')\n",
    "plt.ylabel('Stock Price')\n",
    "\n",
    "plt.title(\"Stock Price predicted by LSTM Model\")\n",
    "plt.grid()\n",
    "plt.legend()\n",
    "plt.show()"
   ]
  },
  {
   "cell_type": "code",
   "execution_count": null,
   "id": "e5de97cd",
   "metadata": {},
   "outputs": [],
   "source": []
  }
 ],
 "metadata": {
  "kernelspec": {
   "display_name": "mlenv",
   "language": "python",
   "name": "mlenv"
  },
  "language_info": {
   "codemirror_mode": {
    "name": "ipython",
    "version": 3
   },
   "file_extension": ".py",
   "mimetype": "text/x-python",
   "name": "python",
   "nbconvert_exporter": "python",
   "pygments_lexer": "ipython3",
   "version": "3.7.13"
  }
 },
 "nbformat": 4,
 "nbformat_minor": 5
}
