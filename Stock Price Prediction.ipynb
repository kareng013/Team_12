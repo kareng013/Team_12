{
 "cells": [
  {
   "cell_type": "code",
   "execution_count": 1,
   "id": "1d4e2444",
   "metadata": {},
   "outputs": [],
   "source": [
    "# Import dependencies\n",
    "import pandas as pd\n",
    "import numpy as np\n",
    "import matplotlib.pyplot as plt\n",
    "\n",
    "from sklearn.preprocessing import MinMaxScaler\n",
    "from tensorflow.keras.models import Sequential\n",
    "from tensorflow.keras.optimizers import Adam\n",
    "from tensorflow.keras.layers import Dense, LSTM"
   ]
  },
  {
   "cell_type": "code",
   "execution_count": 2,
   "id": "4db4c610",
   "metadata": {},
   "outputs": [
    {
     "data": {
      "text/html": [
       "<div>\n",
       "<style scoped>\n",
       "    .dataframe tbody tr th:only-of-type {\n",
       "        vertical-align: middle;\n",
       "    }\n",
       "\n",
       "    .dataframe tbody tr th {\n",
       "        vertical-align: top;\n",
       "    }\n",
       "\n",
       "    .dataframe thead th {\n",
       "        text-align: right;\n",
       "    }\n",
       "</style>\n",
       "<table border=\"1\" class=\"dataframe\">\n",
       "  <thead>\n",
       "    <tr style=\"text-align: right;\">\n",
       "      <th></th>\n",
       "      <th>Date</th>\n",
       "      <th>Open</th>\n",
       "      <th>High</th>\n",
       "      <th>Low</th>\n",
       "      <th>Close</th>\n",
       "      <th>Adj Close</th>\n",
       "      <th>Volume</th>\n",
       "    </tr>\n",
       "  </thead>\n",
       "  <tbody>\n",
       "    <tr>\n",
       "      <th>0</th>\n",
       "      <td>1980-12-12</td>\n",
       "      <td>0.128348</td>\n",
       "      <td>0.128906</td>\n",
       "      <td>0.128348</td>\n",
       "      <td>0.128348</td>\n",
       "      <td>0.100039</td>\n",
       "      <td>469033600</td>\n",
       "    </tr>\n",
       "    <tr>\n",
       "      <th>1</th>\n",
       "      <td>1980-12-15</td>\n",
       "      <td>0.122210</td>\n",
       "      <td>0.122210</td>\n",
       "      <td>0.121652</td>\n",
       "      <td>0.121652</td>\n",
       "      <td>0.094820</td>\n",
       "      <td>175884800</td>\n",
       "    </tr>\n",
       "    <tr>\n",
       "      <th>2</th>\n",
       "      <td>1980-12-16</td>\n",
       "      <td>0.113281</td>\n",
       "      <td>0.113281</td>\n",
       "      <td>0.112723</td>\n",
       "      <td>0.112723</td>\n",
       "      <td>0.087861</td>\n",
       "      <td>105728000</td>\n",
       "    </tr>\n",
       "    <tr>\n",
       "      <th>3</th>\n",
       "      <td>1980-12-17</td>\n",
       "      <td>0.115513</td>\n",
       "      <td>0.116071</td>\n",
       "      <td>0.115513</td>\n",
       "      <td>0.115513</td>\n",
       "      <td>0.090035</td>\n",
       "      <td>86441600</td>\n",
       "    </tr>\n",
       "    <tr>\n",
       "      <th>4</th>\n",
       "      <td>1980-12-18</td>\n",
       "      <td>0.118862</td>\n",
       "      <td>0.119420</td>\n",
       "      <td>0.118862</td>\n",
       "      <td>0.118862</td>\n",
       "      <td>0.092646</td>\n",
       "      <td>73449600</td>\n",
       "    </tr>\n",
       "  </tbody>\n",
       "</table>\n",
       "</div>"
      ],
      "text/plain": [
       "         Date      Open      High       Low     Close  Adj Close     Volume\n",
       "0  1980-12-12  0.128348  0.128906  0.128348  0.128348   0.100039  469033600\n",
       "1  1980-12-15  0.122210  0.122210  0.121652  0.121652   0.094820  175884800\n",
       "2  1980-12-16  0.113281  0.113281  0.112723  0.112723   0.087861  105728000\n",
       "3  1980-12-17  0.115513  0.116071  0.115513  0.115513   0.090035   86441600\n",
       "4  1980-12-18  0.118862  0.119420  0.118862  0.118862   0.092646   73449600"
      ]
     },
     "execution_count": 2,
     "metadata": {},
     "output_type": "execute_result"
    }
   ],
   "source": [
    "# Get the data, read csv file into data frame\n",
    "df = pd.read_csv(\"AAPL.csv\")\n",
    "df.head()"
   ]
  },
  {
   "cell_type": "code",
   "execution_count": 3,
   "id": "ce1a716c",
   "metadata": {},
   "outputs": [
    {
     "data": {
      "text/plain": [
       "(10531, 7)"
      ]
     },
     "execution_count": 3,
     "metadata": {},
     "output_type": "execute_result"
    }
   ],
   "source": [
    "# Check the rows and columns of df\n",
    "df.shape"
   ]
  },
  {
   "cell_type": "code",
   "execution_count": 7,
   "id": "677a019f",
   "metadata": {},
   "outputs": [
    {
     "data": {
      "text/plain": [
       "Date         0\n",
       "Open         0\n",
       "High         0\n",
       "Low          0\n",
       "Close        0\n",
       "Adj Close    0\n",
       "Volume       0\n",
       "dtype: int64"
      ]
     },
     "execution_count": 7,
     "metadata": {},
     "output_type": "execute_result"
    }
   ],
   "source": [
    "# Check if there is null values\n",
    "df.isnull().sum()"
   ]
  },
  {
   "cell_type": "code",
   "execution_count": 8,
   "id": "ecb4bd19",
   "metadata": {},
   "outputs": [
    {
     "name": "stdout",
     "output_type": "stream",
     "text": [
      "<class 'pandas.core.frame.DataFrame'>\n",
      "RangeIndex: 10531 entries, 0 to 10530\n",
      "Data columns (total 7 columns):\n",
      " #   Column     Non-Null Count  Dtype  \n",
      "---  ------     --------------  -----  \n",
      " 0   Date       10531 non-null  object \n",
      " 1   Open       10531 non-null  float64\n",
      " 2   High       10531 non-null  float64\n",
      " 3   Low        10531 non-null  float64\n",
      " 4   Close      10531 non-null  float64\n",
      " 5   Adj Close  10531 non-null  float64\n",
      " 6   Volume     10531 non-null  int64  \n",
      "dtypes: float64(5), int64(1), object(1)\n",
      "memory usage: 576.0+ KB\n"
     ]
    }
   ],
   "source": [
    "# Check the data types in df\n",
    "df.info()"
   ]
  },
  {
   "cell_type": "code",
   "execution_count": 9,
   "id": "f506ed61",
   "metadata": {},
   "outputs": [],
   "source": [
    "# Change [Date] data type to data time\n",
    "\n",
    "df['Date'] = pd.to_datetime(df.Date)"
   ]
  },
  {
   "cell_type": "code",
   "execution_count": 10,
   "id": "784a1508",
   "metadata": {},
   "outputs": [
    {
     "name": "stdout",
     "output_type": "stream",
     "text": [
      "<class 'pandas.core.frame.DataFrame'>\n",
      "RangeIndex: 10531 entries, 0 to 10530\n",
      "Data columns (total 7 columns):\n",
      " #   Column     Non-Null Count  Dtype         \n",
      "---  ------     --------------  -----         \n",
      " 0   Date       10531 non-null  datetime64[ns]\n",
      " 1   Open       10531 non-null  float64       \n",
      " 2   High       10531 non-null  float64       \n",
      " 3   Low        10531 non-null  float64       \n",
      " 4   Close      10531 non-null  float64       \n",
      " 5   Adj Close  10531 non-null  float64       \n",
      " 6   Volume     10531 non-null  int64         \n",
      "dtypes: datetime64[ns](1), float64(5), int64(1)\n",
      "memory usage: 576.0 KB\n"
     ]
    }
   ],
   "source": [
    "df.info()"
   ]
  },
  {
   "cell_type": "code",
   "execution_count": 11,
   "id": "c18469dc",
   "metadata": {},
   "outputs": [
    {
     "data": {
      "text/html": [
       "<div>\n",
       "<style scoped>\n",
       "    .dataframe tbody tr th:only-of-type {\n",
       "        vertical-align: middle;\n",
       "    }\n",
       "\n",
       "    .dataframe tbody tr th {\n",
       "        vertical-align: top;\n",
       "    }\n",
       "\n",
       "    .dataframe thead th {\n",
       "        text-align: right;\n",
       "    }\n",
       "</style>\n",
       "<table border=\"1\" class=\"dataframe\">\n",
       "  <thead>\n",
       "    <tr style=\"text-align: right;\">\n",
       "      <th></th>\n",
       "      <th>Date</th>\n",
       "      <th>Open</th>\n",
       "      <th>High</th>\n",
       "      <th>Low</th>\n",
       "      <th>Close</th>\n",
       "      <th>Volume</th>\n",
       "    </tr>\n",
       "  </thead>\n",
       "  <tbody>\n",
       "    <tr>\n",
       "      <th>10526</th>\n",
       "      <td>2022-09-13</td>\n",
       "      <td>159.899994</td>\n",
       "      <td>160.539993</td>\n",
       "      <td>153.369995</td>\n",
       "      <td>153.839996</td>\n",
       "      <td>122656600</td>\n",
       "    </tr>\n",
       "    <tr>\n",
       "      <th>10527</th>\n",
       "      <td>2022-09-14</td>\n",
       "      <td>154.789993</td>\n",
       "      <td>157.100006</td>\n",
       "      <td>153.610001</td>\n",
       "      <td>155.309998</td>\n",
       "      <td>87965400</td>\n",
       "    </tr>\n",
       "    <tr>\n",
       "      <th>10528</th>\n",
       "      <td>2022-09-15</td>\n",
       "      <td>154.649994</td>\n",
       "      <td>155.240005</td>\n",
       "      <td>151.380005</td>\n",
       "      <td>152.369995</td>\n",
       "      <td>90481100</td>\n",
       "    </tr>\n",
       "    <tr>\n",
       "      <th>10529</th>\n",
       "      <td>2022-09-16</td>\n",
       "      <td>151.210007</td>\n",
       "      <td>151.350006</td>\n",
       "      <td>148.369995</td>\n",
       "      <td>150.699997</td>\n",
       "      <td>162157000</td>\n",
       "    </tr>\n",
       "    <tr>\n",
       "      <th>10530</th>\n",
       "      <td>2022-09-19</td>\n",
       "      <td>149.309998</td>\n",
       "      <td>154.559998</td>\n",
       "      <td>149.100006</td>\n",
       "      <td>154.479996</td>\n",
       "      <td>81474200</td>\n",
       "    </tr>\n",
       "  </tbody>\n",
       "</table>\n",
       "</div>"
      ],
      "text/plain": [
       "            Date        Open        High         Low       Close     Volume\n",
       "10526 2022-09-13  159.899994  160.539993  153.369995  153.839996  122656600\n",
       "10527 2022-09-14  154.789993  157.100006  153.610001  155.309998   87965400\n",
       "10528 2022-09-15  154.649994  155.240005  151.380005  152.369995   90481100\n",
       "10529 2022-09-16  151.210007  151.350006  148.369995  150.699997  162157000\n",
       "10530 2022-09-19  149.309998  154.559998  149.100006  154.479996   81474200"
      ]
     },
     "execution_count": 11,
     "metadata": {},
     "output_type": "execute_result"
    }
   ],
   "source": [
    "# Delete 'Adj Close' column and check df\n",
    "df = df.drop('Adj Close', axis=1)\n",
    "df.tail()"
   ]
  },
  {
   "cell_type": "code",
   "execution_count": 47,
   "id": "5d2bfce9",
   "metadata": {},
   "outputs": [
    {
     "data": {
      "image/png": "[encoded data removed]",
      "text/plain": [
       "<Figure size 432x288 with 1 Axes>"
      ]
     },
     "metadata": {
      "needs_background": "light"
     },
     "output_type": "display_data"
    }
   ],
   "source": [
    "# Vistulize the stock price trend by using 'Close' column\n",
    "plt.plot(df['Close'])\n",
    "plt.show()"
   ]
  },
  {
   "cell_type": "markdown",
   "id": "96e3ddcd",
   "metadata": {},
   "source": [
    "# Linear Regression Model"
   ]
  },
  {
   "cell_type": "code",
   "execution_count": 17,
   "id": "031ea410",
   "metadata": {},
   "outputs": [],
   "source": [
    "from sklearn.linear_model import LinearRegression\n",
    "from sklearn.model_selection import train_test_split"
   ]
  },
  {
   "cell_type": "code",
   "execution_count": 18,
   "id": "73afa036",
   "metadata": {},
   "outputs": [],
   "source": [
    "# Split our preprocessed data into our features and target arrays\n",
    "\n",
    "X = df[['Open','High','Low','Volume']].values\n",
    "y = df['Close'].values"
   ]
  },
  {
   "cell_type": "code",
   "execution_count": 19,
   "id": "0e1b6629",
   "metadata": {},
   "outputs": [],
   "source": [
    "# Split the preprocessed data into a training and testing dataset\n",
    "\n",
    "X_train, X_test, y_train, y_test = train_test_split(X, y, random_state=78)"
   ]
  },
  {
   "cell_type": "code",
   "execution_count": 20,
   "id": "a9eb2e48",
   "metadata": {},
   "outputs": [
    {
     "name": "stdout",
     "output_type": "stream",
     "text": [
      "(7898, 4)\n",
      "(2633, 4)\n"
     ]
    }
   ],
   "source": [
    "# Check the shape of X_train and X_test\n",
    "\n",
    "print(X_train.shape)\n",
    "print(X_test.shape)"
   ]
  },
  {
   "cell_type": "code",
   "execution_count": 21,
   "id": "1712aa69",
   "metadata": {},
   "outputs": [
    {
     "data": {
      "text/plain": [
       "LinearRegression()"
      ]
     },
     "execution_count": 21,
     "metadata": {},
     "output_type": "execute_result"
    }
   ],
   "source": [
    "# Build linear reg model\n",
    "\n",
    "lr_model = LinearRegression()\n",
    "lr_model.fit(X_train, y_train)"
   ]
  },
  {
   "cell_type": "code",
   "execution_count": 27,
   "id": "ec024b3d",
   "metadata": {},
   "outputs": [
    {
     "name": "stdout",
     "output_type": "stream",
     "text": [
      "(2633,)\n"
     ]
    }
   ],
   "source": [
    "# Make stock price prediction\n",
    "\n",
    "prediction = lr_model.predict(X_test)\n",
    "\n",
    "print(prediction.shape)"
   ]
  },
  {
   "cell_type": "code",
   "execution_count": 26,
   "id": "a1d5c0b7",
   "metadata": {},
   "outputs": [
    {
     "data": {
      "text/html": [
       "<div>\n",
       "<style scoped>\n",
       "    .dataframe tbody tr th:only-of-type {\n",
       "        vertical-align: middle;\n",
       "    }\n",
       "\n",
       "    .dataframe tbody tr th {\n",
       "        vertical-align: top;\n",
       "    }\n",
       "\n",
       "    .dataframe thead th {\n",
       "        text-align: right;\n",
       "    }\n",
       "</style>\n",
       "<table border=\"1\" class=\"dataframe\">\n",
       "  <thead>\n",
       "    <tr style=\"text-align: right;\">\n",
       "      <th></th>\n",
       "      <th>Actual Price</th>\n",
       "      <th>Predicted Price</th>\n",
       "    </tr>\n",
       "  </thead>\n",
       "  <tbody>\n",
       "    <tr>\n",
       "      <th>0</th>\n",
       "      <td>0.277902</td>\n",
       "      <td>0.277306</td>\n",
       "    </tr>\n",
       "    <tr>\n",
       "      <th>1</th>\n",
       "      <td>0.085379</td>\n",
       "      <td>0.089221</td>\n",
       "    </tr>\n",
       "    <tr>\n",
       "      <th>2</th>\n",
       "      <td>16.556429</td>\n",
       "      <td>16.664204</td>\n",
       "    </tr>\n",
       "    <tr>\n",
       "      <th>3</th>\n",
       "      <td>0.215402</td>\n",
       "      <td>0.219529</td>\n",
       "    </tr>\n",
       "    <tr>\n",
       "      <th>4</th>\n",
       "      <td>0.373929</td>\n",
       "      <td>0.372355</td>\n",
       "    </tr>\n",
       "    <tr>\n",
       "      <th>5</th>\n",
       "      <td>96.522499</td>\n",
       "      <td>96.692392</td>\n",
       "    </tr>\n",
       "    <tr>\n",
       "      <th>6</th>\n",
       "      <td>0.134487</td>\n",
       "      <td>0.136615</td>\n",
       "    </tr>\n",
       "    <tr>\n",
       "      <th>7</th>\n",
       "      <td>3.278929</td>\n",
       "      <td>3.262970</td>\n",
       "    </tr>\n",
       "    <tr>\n",
       "      <th>8</th>\n",
       "      <td>0.113281</td>\n",
       "      <td>0.118225</td>\n",
       "    </tr>\n",
       "    <tr>\n",
       "      <th>9</th>\n",
       "      <td>1.330000</td>\n",
       "      <td>1.330061</td>\n",
       "    </tr>\n",
       "    <tr>\n",
       "      <th>10</th>\n",
       "      <td>4.330714</td>\n",
       "      <td>4.305069</td>\n",
       "    </tr>\n",
       "    <tr>\n",
       "      <th>11</th>\n",
       "      <td>0.312500</td>\n",
       "      <td>0.318845</td>\n",
       "    </tr>\n",
       "    <tr>\n",
       "      <th>12</th>\n",
       "      <td>0.136719</td>\n",
       "      <td>0.145578</td>\n",
       "    </tr>\n",
       "    <tr>\n",
       "      <th>13</th>\n",
       "      <td>5.962857</td>\n",
       "      <td>5.933584</td>\n",
       "    </tr>\n",
       "    <tr>\n",
       "      <th>14</th>\n",
       "      <td>27.395000</td>\n",
       "      <td>27.024875</td>\n",
       "    </tr>\n",
       "    <tr>\n",
       "      <th>15</th>\n",
       "      <td>6.859286</td>\n",
       "      <td>6.912617</td>\n",
       "    </tr>\n",
       "    <tr>\n",
       "      <th>16</th>\n",
       "      <td>27.432501</td>\n",
       "      <td>27.724346</td>\n",
       "    </tr>\n",
       "    <tr>\n",
       "      <th>17</th>\n",
       "      <td>5.595000</td>\n",
       "      <td>5.597050</td>\n",
       "    </tr>\n",
       "    <tr>\n",
       "      <th>18</th>\n",
       "      <td>21.467857</td>\n",
       "      <td>21.200886</td>\n",
       "    </tr>\n",
       "    <tr>\n",
       "      <th>19</th>\n",
       "      <td>5.481071</td>\n",
       "      <td>5.494256</td>\n",
       "    </tr>\n",
       "  </tbody>\n",
       "</table>\n",
       "</div>"
      ],
      "text/plain": [
       "    Actual Price  Predicted Price\n",
       "0       0.277902         0.277306\n",
       "1       0.085379         0.089221\n",
       "2      16.556429        16.664204\n",
       "3       0.215402         0.219529\n",
       "4       0.373929         0.372355\n",
       "5      96.522499        96.692392\n",
       "6       0.134487         0.136615\n",
       "7       3.278929         3.262970\n",
       "8       0.113281         0.118225\n",
       "9       1.330000         1.330061\n",
       "10      4.330714         4.305069\n",
       "11      0.312500         0.318845\n",
       "12      0.136719         0.145578\n",
       "13      5.962857         5.933584\n",
       "14     27.395000        27.024875\n",
       "15      6.859286         6.912617\n",
       "16     27.432501        27.724346\n",
       "17      5.595000         5.597050\n",
       "18     21.467857        21.200886\n",
       "19      5.481071         5.494256"
      ]
     },
     "execution_count": 26,
     "metadata": {},
     "output_type": "execute_result"
    }
   ],
   "source": [
    "# Compare y_test and our prediction value\n",
    "\n",
    "pred_df = pd.DataFrame({'Actual Price':y_test, 'Predicted Price':prediction})\n",
    "\n",
    "pred_df.head(20)"
   ]
  },
  {
   "cell_type": "code",
   "execution_count": 35,
   "id": "f9884fe9",
   "metadata": {},
   "outputs": [
    {
     "data": {
      "image/png": "[encoded data removed]",
      "text/plain": [
       "<Figure size 864x576 with 1 Axes>"
      ]
     },
     "metadata": {
      "needs_background": "light"
     },
     "output_type": "display_data"
    }
   ],
   "source": [
    "# Plot the actual and predicted price\n",
    "plt.figure(figsize=(12, 8))\n",
    "plt.plot(y_test, prediction, color='orange')\n",
    "plt.xlabel('Actual Price')\n",
    "plt.ylabel('Predicted Price')\n",
    "plt.ylim(0, 200)\n",
    "plt.title(\"Stock Price predicted by Linear Regression Model\")\n",
    "plt.show()"
   ]
  },
  {
   "cell_type": "code",
   "execution_count": 36,
   "id": "5cefd85c",
   "metadata": {},
   "outputs": [
    {
     "name": "stdout",
     "output_type": "stream",
     "text": [
      "[-6.21103318e-01  8.48172871e-01  7.72097730e-01 -1.31550326e-12]\n",
      "0.003516522024439084\n"
     ]
    }
   ],
   "source": [
    "print(lr_model.coef_)\n",
    "print(lr_model.intercept_)"
   ]
  },
  {
   "cell_type": "code",
   "execution_count": 37,
   "id": "5672a4e4",
   "metadata": {},
   "outputs": [
    {
     "ename": "ValueError",
     "evalue": "continuous is not supported",
     "output_type": "error",
     "traceback": [
      "\u001b[1;31m---------------------------------------------------------------------------\u001b[0m",
      "\u001b[1;31mValueError\u001b[0m                                Traceback (most recent call last)",
      "\u001b[1;32m~\\AppData\\Local\\Temp\\ipykernel_400\\666121106.py\u001b[0m in \u001b[0;36m<module>\u001b[1;34m\u001b[0m\n\u001b[0;32m      1\u001b[0m \u001b[1;32mfrom\u001b[0m \u001b[0msklearn\u001b[0m\u001b[1;33m.\u001b[0m\u001b[0mmetrics\u001b[0m \u001b[1;32mimport\u001b[0m \u001b[0mconfusion_matrix\u001b[0m\u001b[1;33m\u001b[0m\u001b[1;33m\u001b[0m\u001b[0m\n\u001b[1;32m----> 2\u001b[1;33m \u001b[0mconfusion_matrix\u001b[0m\u001b[1;33m(\u001b[0m\u001b[0my_test\u001b[0m\u001b[1;33m,\u001b[0m \u001b[0mprediction\u001b[0m\u001b[1;33m)\u001b[0m\u001b[1;33m\u001b[0m\u001b[1;33m\u001b[0m\u001b[0m\n\u001b[0m",
      "\u001b[1;32m~\\anaconda3\\envs\\PythonData\\envs\\mlenv\\lib\\site-packages\\sklearn\\metrics\\_classification.py\u001b[0m in \u001b[0;36mconfusion_matrix\u001b[1;34m(y_true, y_pred, labels, sample_weight, normalize)\u001b[0m\n\u001b[0;32m    305\u001b[0m     \u001b[1;33m(\u001b[0m\u001b[1;36m0\u001b[0m\u001b[1;33m,\u001b[0m \u001b[1;36m2\u001b[0m\u001b[1;33m,\u001b[0m \u001b[1;36m1\u001b[0m\u001b[1;33m,\u001b[0m \u001b[1;36m1\u001b[0m\u001b[1;33m)\u001b[0m\u001b[1;33m\u001b[0m\u001b[1;33m\u001b[0m\u001b[0m\n\u001b[0;32m    306\u001b[0m     \"\"\"\n\u001b[1;32m--> 307\u001b[1;33m     \u001b[0my_type\u001b[0m\u001b[1;33m,\u001b[0m \u001b[0my_true\u001b[0m\u001b[1;33m,\u001b[0m \u001b[0my_pred\u001b[0m \u001b[1;33m=\u001b[0m \u001b[0m_check_targets\u001b[0m\u001b[1;33m(\u001b[0m\u001b[0my_true\u001b[0m\u001b[1;33m,\u001b[0m \u001b[0my_pred\u001b[0m\u001b[1;33m)\u001b[0m\u001b[1;33m\u001b[0m\u001b[1;33m\u001b[0m\u001b[0m\n\u001b[0m\u001b[0;32m    308\u001b[0m     \u001b[1;32mif\u001b[0m \u001b[0my_type\u001b[0m \u001b[1;32mnot\u001b[0m \u001b[1;32min\u001b[0m \u001b[1;33m(\u001b[0m\u001b[1;34m\"binary\"\u001b[0m\u001b[1;33m,\u001b[0m \u001b[1;34m\"multiclass\"\u001b[0m\u001b[1;33m)\u001b[0m\u001b[1;33m:\u001b[0m\u001b[1;33m\u001b[0m\u001b[1;33m\u001b[0m\u001b[0m\n\u001b[0;32m    309\u001b[0m         \u001b[1;32mraise\u001b[0m \u001b[0mValueError\u001b[0m\u001b[1;33m(\u001b[0m\u001b[1;34m\"%s is not supported\"\u001b[0m \u001b[1;33m%\u001b[0m \u001b[0my_type\u001b[0m\u001b[1;33m)\u001b[0m\u001b[1;33m\u001b[0m\u001b[1;33m\u001b[0m\u001b[0m\n",
      "\u001b[1;32m~\\anaconda3\\envs\\PythonData\\envs\\mlenv\\lib\\site-packages\\sklearn\\metrics\\_classification.py\u001b[0m in \u001b[0;36m_check_targets\u001b[1;34m(y_true, y_pred)\u001b[0m\n\u001b[0;32m    102\u001b[0m     \u001b[1;31m# No metrics support \"multiclass-multioutput\" format\u001b[0m\u001b[1;33m\u001b[0m\u001b[1;33m\u001b[0m\u001b[1;33m\u001b[0m\u001b[0m\n\u001b[0;32m    103\u001b[0m     \u001b[1;32mif\u001b[0m \u001b[0my_type\u001b[0m \u001b[1;32mnot\u001b[0m \u001b[1;32min\u001b[0m \u001b[1;33m[\u001b[0m\u001b[1;34m\"binary\"\u001b[0m\u001b[1;33m,\u001b[0m \u001b[1;34m\"multiclass\"\u001b[0m\u001b[1;33m,\u001b[0m \u001b[1;34m\"multilabel-indicator\"\u001b[0m\u001b[1;33m]\u001b[0m\u001b[1;33m:\u001b[0m\u001b[1;33m\u001b[0m\u001b[1;33m\u001b[0m\u001b[0m\n\u001b[1;32m--> 104\u001b[1;33m         \u001b[1;32mraise\u001b[0m \u001b[0mValueError\u001b[0m\u001b[1;33m(\u001b[0m\u001b[1;34m\"{0} is not supported\"\u001b[0m\u001b[1;33m.\u001b[0m\u001b[0mformat\u001b[0m\u001b[1;33m(\u001b[0m\u001b[0my_type\u001b[0m\u001b[1;33m)\u001b[0m\u001b[1;33m)\u001b[0m\u001b[1;33m\u001b[0m\u001b[1;33m\u001b[0m\u001b[0m\n\u001b[0m\u001b[0;32m    105\u001b[0m \u001b[1;33m\u001b[0m\u001b[0m\n\u001b[0;32m    106\u001b[0m     \u001b[1;32mif\u001b[0m \u001b[0my_type\u001b[0m \u001b[1;32min\u001b[0m \u001b[1;33m[\u001b[0m\u001b[1;34m\"binary\"\u001b[0m\u001b[1;33m,\u001b[0m \u001b[1;34m\"multiclass\"\u001b[0m\u001b[1;33m]\u001b[0m\u001b[1;33m:\u001b[0m\u001b[1;33m\u001b[0m\u001b[1;33m\u001b[0m\u001b[0m\n",
      "\u001b[1;31mValueError\u001b[0m: continuous is not supported"
     ]
    }
   ],
   "source": [
    "from sklearn.metrics import confusion_matrix\n",
    "confusion_matrix(y_test, prediction)"
   ]
  },
  {
   "cell_type": "code",
   "execution_count": 38,
   "id": "79a031d6",
   "metadata": {},
   "outputs": [
    {
     "data": {
      "text/plain": [
       "0.08634745684345325"
      ]
     },
     "execution_count": 38,
     "metadata": {},
     "output_type": "execute_result"
    }
   ],
   "source": [
    "# Calculate the MSE for our model\n",
    "# The mean squared error (MSE) tells you how close a regression line is to a set of points\n",
    "# return a non-negative floating point value (the best value is 0.0)\n",
    "\n",
    "from sklearn.metrics import mean_squared_error\n",
    "mean_squared_error(y_test, prediction)"
   ]
  },
  {
   "cell_type": "markdown",
   "id": "f69d06d5",
   "metadata": {},
   "source": [
    "# Using more popular LSTM model to predict stock price"
   ]
  },
  {
   "cell_type": "code",
   "execution_count": 105,
   "id": "90bd1793",
   "metadata": {},
   "outputs": [
    {
     "name": "stdout",
     "output_type": "stream",
     "text": [
      "0    0.128348\n",
      "1    0.121652\n",
      "2    0.112723\n",
      "3    0.115513\n",
      "4    0.118862\n",
      "Name: Close, dtype: float64\n",
      "\n",
      "8425    20.912144\n",
      "8426    21.172501\n",
      "8427    21.205713\n",
      "8428    21.209642\n",
      "8429    21.029285\n",
      "Name: Close, dtype: float64\n"
     ]
    }
   ],
   "source": [
    "# Choose \"Closed\" price column as our input variable\n",
    "close_df= df['Close']\n",
    "close_df_train = close_df.loc[close_df.index < len(close_df)*0.8]\n",
    "close_df_test = close_df.loc[close_df.index >= len(close_df)*0.8]\n",
    "\n",
    "print(close_df_train.head())\n",
    "print()\n",
    "print(close_df_test.head())"
   ]
  },
  {
   "cell_type": "code",
   "execution_count": 73,
   "id": "ba5f4e8e",
   "metadata": {},
   "outputs": [
    {
     "data": {
      "text/plain": [
       "(8425, 1)"
      ]
     },
     "execution_count": 73,
     "metadata": {},
     "output_type": "execute_result"
    }
   ],
   "source": [
    "# Scale the training data\n",
    "scaler = MinMaxScaler(feature_range=(0,1))\n",
    "scaled_data = scaler.fit_transform(close_df_train.values.reshape(-1,1))\n",
    "scaled_data.shape"
   ]
  },
  {
   "cell_type": "code",
   "execution_count": 70,
   "id": "e0f5cabc",
   "metadata": {},
   "outputs": [],
   "source": [
    "# Use the previous 30 days 'close' price to predict the 31st day's price\n",
    "previous_days = 30"
   ]
  },
  {
   "cell_type": "code",
   "execution_count": 71,
   "id": "b2570851",
   "metadata": {},
   "outputs": [],
   "source": [
    "# Splite data into X_train and y_train\n",
    "X_train = []\n",
    "y_train = []\n",
    "\n",
    "for i in range(previous_days, len(scaled_data)):\n",
    "    X_train.append(scaled_data[i-previous_days:i, 0])\n",
    "    y_train.append(scaled_data[i, 0])"
   ]
  },
  {
   "cell_type": "code",
   "execution_count": 100,
   "id": "35739252",
   "metadata": {},
   "outputs": [
    {
     "name": "stdout",
     "output_type": "stream",
     "text": [
      "(8365, 60, 1)\n",
      "(8365,)\n"
     ]
    }
   ],
   "source": [
    "# Convert the X_train and y_train to numpy arrays\n",
    "X_train, y_train = np.array(X_train), np.array(y_train)\n",
    "\n",
    "print(X_train.shape)\n",
    "print(y_train.shape)"
   ]
  },
  {
   "cell_type": "code",
   "execution_count": 75,
   "id": "6b21a5a6",
   "metadata": {},
   "outputs": [
    {
     "data": {
      "text/plain": [
       "(8365, 60, 1)"
      ]
     },
     "execution_count": 75,
     "metadata": {},
     "output_type": "execute_result"
    }
   ],
   "source": [
    "# Reshape the X_train since LSTM needs 3-dimensional inputs\n",
    "X_train = np.reshape(X_train, (X_train.shape[0], X_train.shape[1], 1))\n",
    "X_train.shape"
   ]
  },
  {
   "cell_type": "code",
   "execution_count": 76,
   "id": "b2e465b5",
   "metadata": {},
   "outputs": [],
   "source": [
    "# Build the LSTM model\n",
    "model = Sequential()\n",
    "# Add LSTM layer\n",
    "model.add(LSTM(units = 50, return_sequences=True, input_shape = (X_train.shape[1],1)))\n",
    "model.add(LSTM(units = 50))\n",
    "# prediction output layer\n",
    "model.add(Dense(units=1))"
   ]
  },
  {
   "cell_type": "code",
   "execution_count": 77,
   "id": "016537bf",
   "metadata": {},
   "outputs": [
    {
     "name": "stdout",
     "output_type": "stream",
     "text": [
      "Epoch 1/20\n",
      "84/84 [==============================] - 10s 68ms/step - loss: 0.0040\n",
      "Epoch 2/20\n",
      "84/84 [==============================] - 6s 70ms/step - loss: 1.1894e-04\n",
      "Epoch 3/20\n",
      "84/84 [==============================] - 6s 71ms/step - loss: 1.1103e-04\n",
      "Epoch 4/20\n",
      "84/84 [==============================] - 6s 71ms/step - loss: 1.0729e-04\n",
      "Epoch 5/20\n",
      "84/84 [==============================] - 6s 69ms/step - loss: 1.0521e-04\n",
      "Epoch 6/20\n",
      "84/84 [==============================] - 6s 71ms/step - loss: 1.0719e-04\n",
      "Epoch 7/20\n",
      "84/84 [==============================] - 6s 72ms/step - loss: 9.7802e-05\n",
      "Epoch 8/20\n",
      "84/84 [==============================] - 6s 72ms/step - loss: 8.4433e-05\n",
      "Epoch 9/20\n",
      "84/84 [==============================] - 6s 70ms/step - loss: 1.1608e-04\n",
      "Epoch 10/20\n",
      "84/84 [==============================] - 6s 71ms/step - loss: 8.4419e-05\n",
      "Epoch 11/20\n",
      "84/84 [==============================] - 6s 71ms/step - loss: 8.1992e-05\n",
      "Epoch 12/20\n",
      "84/84 [==============================] - 6s 70ms/step - loss: 7.8622e-05\n",
      "Epoch 13/20\n",
      "84/84 [==============================] - 6s 72ms/step - loss: 7.3564e-05\n",
      "Epoch 14/20\n",
      "84/84 [==============================] - 6s 71ms/step - loss: 7.2856e-05\n",
      "Epoch 15/20\n",
      "84/84 [==============================] - 6s 70ms/step - loss: 8.0290e-05\n",
      "Epoch 16/20\n",
      "84/84 [==============================] - 6s 70ms/step - loss: 7.8238e-05\n",
      "Epoch 17/20\n",
      "84/84 [==============================] - 6s 71ms/step - loss: 8.2384e-05\n",
      "Epoch 18/20\n",
      "84/84 [==============================] - 6s 72ms/step - loss: 7.9629e-05\n",
      "Epoch 19/20\n",
      "84/84 [==============================] - 6s 70ms/step - loss: 5.9497e-05\n",
      "Epoch 20/20\n",
      "84/84 [==============================] - 6s 72ms/step - loss: 6.1605e-05\n"
     ]
    },
    {
     "data": {
      "text/plain": [
       "<keras.callbacks.History at 0x1f81fcadd08>"
      ]
     },
     "execution_count": 77,
     "metadata": {},
     "output_type": "execute_result"
    }
   ],
   "source": [
    "# compile and train the data\n",
    "model.compile(optimizer='adam', loss='mean_squared_error')\n",
    "model.fit(X_train, y_train, batch_size =100, epochs=20)"
   ]
  },
  {
   "cell_type": "code",
   "execution_count": 78,
   "id": "04ae63c9",
   "metadata": {},
   "outputs": [
    {
     "name": "stdout",
     "output_type": "stream",
     "text": [
      "Model: \"sequential_2\"\n",
      "_________________________________________________________________\n",
      " Layer (type)                Output Shape              Param #   \n",
      "=================================================================\n",
      " lstm_3 (LSTM)               (None, 60, 50)            10400     \n",
      "                                                                 \n",
      " lstm_4 (LSTM)               (None, 50)                20200     \n",
      "                                                                 \n",
      " dense_3 (Dense)             (None, 1)                 51        \n",
      "                                                                 \n",
      "=================================================================\n",
      "Total params: 30,651\n",
      "Trainable params: 30,651\n",
      "Non-trainable params: 0\n",
      "_________________________________________________________________\n"
     ]
    }
   ],
   "source": [
    "model.summary()"
   ]
  },
  {
   "cell_type": "code",
   "execution_count": 81,
   "id": "ab255024",
   "metadata": {},
   "outputs": [
    {
     "data": {
      "text/plain": [
       "(2106, 1)"
      ]
     },
     "execution_count": 81,
     "metadata": {},
     "output_type": "execute_result"
    }
   ],
   "source": [
    "#### Test model ####\n",
    "\n",
    "# Scale the testing data\n",
    "scaler = MinMaxScaler(feature_range=(0,1))\n",
    "scaled_test_data = scaler.fit_transform(close_df_test.values.reshape(-1,1))\n",
    "scaled_test_data.shape"
   ]
  },
  {
   "cell_type": "code",
   "execution_count": 82,
   "id": "0a77c36d",
   "metadata": {},
   "outputs": [],
   "source": [
    "# Create X_test and y_test\n",
    "X_test = []\n",
    "y_test = []\n",
    "\n",
    "for i in range(previous_days, len(scaled_test_data)):\n",
    "    X_test.append(scaled_test_data[i-previous_days:i, 0])\n",
    "    y_test.append(scaled_test_data[i, 0])"
   ]
  },
  {
   "cell_type": "code",
   "execution_count": 83,
   "id": "47bee9e3",
   "metadata": {},
   "outputs": [
    {
     "name": "stdout",
     "output_type": "stream",
     "text": [
      "(2046, 60)\n"
     ]
    }
   ],
   "source": [
    "# Convert the X_test and y_test to numpy arrays\n",
    "X_test = np.array(X_test)\n",
    "print(X_test.shape)"
   ]
  },
  {
   "cell_type": "code",
   "execution_count": 84,
   "id": "912dee39",
   "metadata": {},
   "outputs": [
    {
     "name": "stdout",
     "output_type": "stream",
     "text": [
      "(2046, 60, 1)\n"
     ]
    }
   ],
   "source": [
    "# reshape\n",
    "X_test = np.reshape(X_test, (X_test.shape[0], X_test.shape[1], 1))\n",
    "\n",
    "print(X_test.shape)"
   ]
  },
  {
   "cell_type": "code",
   "execution_count": 87,
   "id": "f4145f46",
   "metadata": {},
   "outputs": [
    {
     "name": "stdout",
     "output_type": "stream",
     "text": [
      "64/64 [==============================] - 1s 12ms/step\n"
     ]
    }
   ],
   "source": [
    "# Predict the data\n",
    "\n",
    "prediction = model.predict(X_test)\n",
    "prediction = scaler.inverse_transform(predictions)"
   ]
  },
  {
   "cell_type": "code",
   "execution_count": 106,
   "id": "05b50ac7",
   "metadata": {},
   "outputs": [
    {
     "data": {
      "image/png": "[encoded data removed]",
      "text/plain": [
       "<Figure size 432x288 with 1 Axes>"
      ]
     },
     "metadata": {
      "needs_background": "light"
     },
     "output_type": "display_data"
    }
   ],
   "source": [
    "# plot test predictions\n",
    "\n",
    "plt.plot(prediction, color = 'orange')\n",
    "plt.plot(close_df_test, color = 'black')\n",
    "plt.show()"
   ]
  },
  {
   "cell_type": "code",
   "execution_count": null,
   "id": "bb2ae3bf",
   "metadata": {},
   "outputs": [],
   "source": []
  },
  {
   "cell_type": "code",
   "execution_count": null,
   "id": "5505b816",
   "metadata": {},
   "outputs": [],
   "source": []
  },
  {
   "cell_type": "code",
   "execution_count": null,
   "id": "19cf7eab",
   "metadata": {},
   "outputs": [],
   "source": []
  }
 ],
 "metadata": {
  "kernelspec": {
   "display_name": "mlenv",
   "language": "python",
   "name": "mlenv"
  },
  "language_info": {
   "codemirror_mode": {
    "name": "ipython",
    "version": 3
   },
   "file_extension": ".py",
   "mimetype": "text/x-python",
   "name": "python",
   "nbconvert_exporter": "python",
   "pygments_lexer": "ipython3",
   "version": "3.7.13"
  }
 },
 "nbformat": 4,
 "nbformat_minor": 5
}
