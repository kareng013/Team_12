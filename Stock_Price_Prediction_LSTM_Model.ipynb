{
 "cells": [
  {
   "cell_type": "markdown",
   "id": "1da7e2de",
   "metadata": {},
   "source": [
    "# Import dependencies\n",
    "import pandas as pd\n",
    "import numpy as np\n",
    "import matplotlib.pyplot as plt\n",
    "\n",
    "from sklearn.preprocessing import MinMaxScaler\n",
    "from tensorflow.keras.models import Sequential\n",
    "from tensorflow.keras.optimizers import Adam\n",
    "from tensorflow.keras.layers import Dense, LSTM"
   ]
  },
  {
   "cell_type": "code",
   "execution_count": null,
   "id": "a68d0ca3",
   "metadata": {},
   "outputs": [],
   "source": [
    "# Get the data, read csv file into data frame"
   ]
  },
  {
   "cell_type": "code",
   "execution_count": null,
   "id": "6e44b014",
   "metadata": {},
   "outputs": [],
   "source": [
    "# Choose \"Closed\" price column as our input variable"
   ]
  },
  {
   "cell_type": "code",
   "execution_count": null,
   "id": "c043f244",
   "metadata": {},
   "outputs": [],
   "source": [
    "# Scale the training data"
   ]
  },
  {
   "cell_type": "code",
   "execution_count": null,
   "id": "8b2b0229",
   "metadata": {},
   "outputs": [],
   "source": [
    "# Splite data into X_train and y_train, use previous 30 days to predict the 31st day's price"
   ]
  },
  {
   "cell_type": "code",
   "execution_count": null,
   "id": "c32d0e48",
   "metadata": {},
   "outputs": [],
   "source": [
    "# Convert the X_train and y_train to numpy arrays"
   ]
  },
  {
   "cell_type": "code",
   "execution_count": null,
   "id": "7df01500",
   "metadata": {},
   "outputs": [],
   "source": [
    "# Reshape the X_train since LSTM needs 3-dimensional inputs"
   ]
  },
  {
   "cell_type": "code",
   "execution_count": null,
   "id": "591e6b05",
   "metadata": {},
   "outputs": [],
   "source": [
    "# Build sequential model\n",
    "# Add LSTM layer(s) into the model\n",
    "# Add output layer"
   ]
  },
  {
   "cell_type": "code",
   "execution_count": null,
   "id": "1dca8e00",
   "metadata": {},
   "outputs": [],
   "source": [
    "# compile and train the data"
   ]
  },
  {
   "cell_type": "markdown",
   "id": "739c3090",
   "metadata": {},
   "source": [
    "# Test data"
   ]
  },
  {
   "cell_type": "code",
   "execution_count": null,
   "id": "0de8f4a0",
   "metadata": {},
   "outputs": [],
   "source": [
    "# Scale the testing data"
   ]
  },
  {
   "cell_type": "code",
   "execution_count": null,
   "id": "347c0e3d",
   "metadata": {},
   "outputs": [],
   "source": [
    "# Splite testing data into X_test and y_test"
   ]
  },
  {
   "cell_type": "code",
   "execution_count": null,
   "id": "bfaa9e4b",
   "metadata": {},
   "outputs": [],
   "source": [
    "# Convert the X_test and y_test to numpy arrays"
   ]
  },
  {
   "cell_type": "code",
   "execution_count": null,
   "id": "e0b2994a",
   "metadata": {},
   "outputs": [],
   "source": [
    "# Reshape the X_test into 3 dimensional input"
   ]
  },
  {
   "cell_type": "markdown",
   "id": "0b08076f",
   "metadata": {},
   "source": [
    "# Predict by using X_test"
   ]
  },
  {
   "cell_type": "code",
   "execution_count": null,
   "id": "52c0a360",
   "metadata": {},
   "outputs": [],
   "source": [
    "# Predict the stock price"
   ]
  },
  {
   "cell_type": "code",
   "execution_count": null,
   "id": "939db5e6",
   "metadata": {},
   "outputs": [],
   "source": [
    "# plot the observed test data and prediction"
   ]
  },
  {
   "cell_type": "code",
   "execution_count": null,
   "id": "c691dfc2",
   "metadata": {},
   "outputs": [],
   "source": []
  }
 ],
 "metadata": {
  "kernelspec": {
   "display_name": "mlenv",
   "language": "python",
   "name": "mlenv"
  },
  "language_info": {
   "codemirror_mode": {
    "name": "ipython",
    "version": 3
   },
   "file_extension": ".py",
   "mimetype": "text/x-python",
   "name": "python",
   "nbconvert_exporter": "python",
   "pygments_lexer": "ipython3",
   "version": "3.7.13"
  }
 },
 "nbformat": 4,
 "nbformat_minor": 5
}
