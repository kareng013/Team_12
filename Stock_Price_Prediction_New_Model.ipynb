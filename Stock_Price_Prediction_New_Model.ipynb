{
 "cells": [
  {
   "cell_type": "code",
   "execution_count": 1,
   "id": "1d4e2444",
   "metadata": {},
   "outputs": [],
   "source": [
    "# Import dependencies\n",
    "import pandas as pd\n",
    "import numpy as np\n",
    "import matplotlib.pyplot as plt\n",
    "import psycopg2\n",
    "from config import PGHOST, PGDATABASE, PGUSER, PGPASSWORD\n",
    "\n",
    "from sklearn.preprocessing import MinMaxScaler\n",
    "from tensorflow.keras.models import Sequential\n",
    "from tensorflow.keras.optimizers import Adam\n",
    "from tensorflow.keras.layers import Dense, LSTM"
   ]
  },
  {
   "cell_type": "code",
   "execution_count": 2,
   "id": "4f5c9757",
   "metadata": {},
   "outputs": [],
   "source": [
    "# Define a function to connect to AWS database instance\n",
    "\n",
    "def connect():\n",
    "    \n",
    "    # Set up a connection to the postgres server.\n",
    "    conn_string = \"host=\"+PGHOST +\" port=\"+ \"5432\" +\" dbname=\"+PGDATABASE +\" user=\" + PGUSER \\\n",
    "                  +\" password=\"+ PGPASSWORD\n",
    "    \n",
    "    conn = psycopg2.connect(conn_string)\n",
    "    print(\"Connected!\")\n",
    "\n",
    "    # Create a cursor object\n",
    "    cursor = conn.cursor()\n",
    "    \n",
    "    return conn, cursor"
   ]
  },
  {
   "cell_type": "code",
   "execution_count": 3,
   "id": "2643e777",
   "metadata": {},
   "outputs": [
    {
     "name": "stdout",
     "output_type": "stream",
     "text": [
      "Connected!\n"
     ]
    }
   ],
   "source": [
    "conn, cursor = connect()"
   ]
  },
  {
   "cell_type": "code",
   "execution_count": 15,
   "id": "5ea0d6e8",
   "metadata": {},
   "outputs": [
    {
     "data": {
      "text/html": [
       "<div>\n",
       "<style scoped>\n",
       "    .dataframe tbody tr th:only-of-type {\n",
       "        vertical-align: middle;\n",
       "    }\n",
       "\n",
       "    .dataframe tbody tr th {\n",
       "        vertical-align: top;\n",
       "    }\n",
       "\n",
       "    .dataframe thead th {\n",
       "        text-align: right;\n",
       "    }\n",
       "</style>\n",
       "<table border=\"1\" class=\"dataframe\">\n",
       "  <thead>\n",
       "    <tr style=\"text-align: right;\">\n",
       "      <th></th>\n",
       "      <th>Date</th>\n",
       "      <th>open_price</th>\n",
       "      <th>high_price</th>\n",
       "      <th>low_price</th>\n",
       "      <th>close_price</th>\n",
       "      <th>adj_close</th>\n",
       "      <th>volume</th>\n",
       "    </tr>\n",
       "  </thead>\n",
       "  <tbody>\n",
       "    <tr>\n",
       "      <th>0</th>\n",
       "      <td>1999-02-04</td>\n",
       "      <td>2.145833</td>\n",
       "      <td>2.166667</td>\n",
       "      <td>1.895833</td>\n",
       "      <td>1.924479</td>\n",
       "      <td>1.924479</td>\n",
       "      <td>16788600</td>\n",
       "    </tr>\n",
       "    <tr>\n",
       "      <th>1</th>\n",
       "      <td>1999-02-05</td>\n",
       "      <td>1.929688</td>\n",
       "      <td>1.947917</td>\n",
       "      <td>1.822917</td>\n",
       "      <td>1.833333</td>\n",
       "      <td>1.833333</td>\n",
       "      <td>3053400</td>\n",
       "    </tr>\n",
       "    <tr>\n",
       "      <th>2</th>\n",
       "      <td>1999-02-08</td>\n",
       "      <td>1.854167</td>\n",
       "      <td>1.927083</td>\n",
       "      <td>1.783854</td>\n",
       "      <td>1.812500</td>\n",
       "      <td>1.812500</td>\n",
       "      <td>1548000</td>\n",
       "    </tr>\n",
       "    <tr>\n",
       "      <th>3</th>\n",
       "      <td>1999-02-09</td>\n",
       "      <td>1.822917</td>\n",
       "      <td>1.833333</td>\n",
       "      <td>1.656250</td>\n",
       "      <td>1.666667</td>\n",
       "      <td>1.666667</td>\n",
       "      <td>3501600</td>\n",
       "    </tr>\n",
       "    <tr>\n",
       "      <th>4</th>\n",
       "      <td>1999-02-10</td>\n",
       "      <td>1.708333</td>\n",
       "      <td>1.708333</td>\n",
       "      <td>1.604167</td>\n",
       "      <td>1.677083</td>\n",
       "      <td>1.677083</td>\n",
       "      <td>1597200</td>\n",
       "    </tr>\n",
       "  </tbody>\n",
       "</table>\n",
       "</div>"
      ],
      "text/plain": [
       "         Date  open_price  high_price  low_price  close_price  adj_close  \\\n",
       "0  1999-02-04    2.145833    2.166667   1.895833     1.924479   1.924479   \n",
       "1  1999-02-05    1.929688    1.947917   1.822917     1.833333   1.833333   \n",
       "2  1999-02-08    1.854167    1.927083   1.783854     1.812500   1.812500   \n",
       "3  1999-02-09    1.822917    1.833333   1.656250     1.666667   1.666667   \n",
       "4  1999-02-10    1.708333    1.708333   1.604167     1.677083   1.677083   \n",
       "\n",
       "     volume  \n",
       "0  16788600  \n",
       "1   3053400  \n",
       "2   1548000  \n",
       "3   3501600  \n",
       "4   1597200  "
      ]
     },
     "execution_count": 15,
     "metadata": {},
     "output_type": "execute_result"
    }
   ],
   "source": [
    "# Get the data, read SQL query into data frame\n",
    "bb_data = pd.read_sql_query(\"SELECT * FROM blackberry\", con=conn)\n",
    "bb_df = pd.DataFrame(bb_data)\n",
    "bb_df.head()"
   ]
  },
  {
   "cell_type": "code",
   "execution_count": 16,
   "id": "a056c214",
   "metadata": {},
   "outputs": [
    {
     "data": {
      "text/html": [
       "<div>\n",
       "<style scoped>\n",
       "    .dataframe tbody tr th:only-of-type {\n",
       "        vertical-align: middle;\n",
       "    }\n",
       "\n",
       "    .dataframe tbody tr th {\n",
       "        vertical-align: top;\n",
       "    }\n",
       "\n",
       "    .dataframe thead th {\n",
       "        text-align: right;\n",
       "    }\n",
       "</style>\n",
       "<table border=\"1\" class=\"dataframe\">\n",
       "  <thead>\n",
       "    <tr style=\"text-align: right;\">\n",
       "      <th></th>\n",
       "      <th>Date</th>\n",
       "      <th>open_price</th>\n",
       "      <th>high_price</th>\n",
       "      <th>low_price</th>\n",
       "      <th>close_price</th>\n",
       "      <th>adj_close</th>\n",
       "      <th>volume</th>\n",
       "      <th>MA for 10 days</th>\n",
       "      <th>MA for 20 days</th>\n",
       "      <th>MA for 50 days</th>\n",
       "    </tr>\n",
       "  </thead>\n",
       "  <tbody>\n",
       "    <tr>\n",
       "      <th>0</th>\n",
       "      <td>1999-02-04</td>\n",
       "      <td>2.145833</td>\n",
       "      <td>2.166667</td>\n",
       "      <td>1.895833</td>\n",
       "      <td>1.924479</td>\n",
       "      <td>1.924479</td>\n",
       "      <td>16788600</td>\n",
       "      <td>NaN</td>\n",
       "      <td>NaN</td>\n",
       "      <td>NaN</td>\n",
       "    </tr>\n",
       "    <tr>\n",
       "      <th>1</th>\n",
       "      <td>1999-02-05</td>\n",
       "      <td>1.929688</td>\n",
       "      <td>1.947917</td>\n",
       "      <td>1.822917</td>\n",
       "      <td>1.833333</td>\n",
       "      <td>1.833333</td>\n",
       "      <td>3053400</td>\n",
       "      <td>NaN</td>\n",
       "      <td>NaN</td>\n",
       "      <td>NaN</td>\n",
       "    </tr>\n",
       "    <tr>\n",
       "      <th>2</th>\n",
       "      <td>1999-02-08</td>\n",
       "      <td>1.854167</td>\n",
       "      <td>1.927083</td>\n",
       "      <td>1.783854</td>\n",
       "      <td>1.812500</td>\n",
       "      <td>1.812500</td>\n",
       "      <td>1548000</td>\n",
       "      <td>NaN</td>\n",
       "      <td>NaN</td>\n",
       "      <td>NaN</td>\n",
       "    </tr>\n",
       "    <tr>\n",
       "      <th>3</th>\n",
       "      <td>1999-02-09</td>\n",
       "      <td>1.822917</td>\n",
       "      <td>1.833333</td>\n",
       "      <td>1.656250</td>\n",
       "      <td>1.666667</td>\n",
       "      <td>1.666667</td>\n",
       "      <td>3501600</td>\n",
       "      <td>NaN</td>\n",
       "      <td>NaN</td>\n",
       "      <td>NaN</td>\n",
       "    </tr>\n",
       "    <tr>\n",
       "      <th>4</th>\n",
       "      <td>1999-02-10</td>\n",
       "      <td>1.708333</td>\n",
       "      <td>1.708333</td>\n",
       "      <td>1.604167</td>\n",
       "      <td>1.677083</td>\n",
       "      <td>1.677083</td>\n",
       "      <td>1597200</td>\n",
       "      <td>NaN</td>\n",
       "      <td>NaN</td>\n",
       "      <td>NaN</td>\n",
       "    </tr>\n",
       "    <tr>\n",
       "      <th>...</th>\n",
       "      <td>...</td>\n",
       "      <td>...</td>\n",
       "      <td>...</td>\n",
       "      <td>...</td>\n",
       "      <td>...</td>\n",
       "      <td>...</td>\n",
       "      <td>...</td>\n",
       "      <td>...</td>\n",
       "      <td>...</td>\n",
       "      <td>...</td>\n",
       "    </tr>\n",
       "    <tr>\n",
       "      <th>5940</th>\n",
       "      <td>2022-09-13</td>\n",
       "      <td>5.900000</td>\n",
       "      <td>5.990000</td>\n",
       "      <td>5.830000</td>\n",
       "      <td>5.930000</td>\n",
       "      <td>5.930000</td>\n",
       "      <td>6715400</td>\n",
       "      <td>5.869</td>\n",
       "      <td>6.1370</td>\n",
       "      <td>6.1540</td>\n",
       "    </tr>\n",
       "    <tr>\n",
       "      <th>5941</th>\n",
       "      <td>2022-09-14</td>\n",
       "      <td>5.940000</td>\n",
       "      <td>6.050000</td>\n",
       "      <td>5.830000</td>\n",
       "      <td>5.960000</td>\n",
       "      <td>5.960000</td>\n",
       "      <td>7881800</td>\n",
       "      <td>5.861</td>\n",
       "      <td>6.0840</td>\n",
       "      <td>6.1604</td>\n",
       "    </tr>\n",
       "    <tr>\n",
       "      <th>5942</th>\n",
       "      <td>2022-09-15</td>\n",
       "      <td>5.900000</td>\n",
       "      <td>6.100000</td>\n",
       "      <td>5.890000</td>\n",
       "      <td>6.050000</td>\n",
       "      <td>6.050000</td>\n",
       "      <td>7950900</td>\n",
       "      <td>5.872</td>\n",
       "      <td>6.0480</td>\n",
       "      <td>6.1646</td>\n",
       "    </tr>\n",
       "    <tr>\n",
       "      <th>5943</th>\n",
       "      <td>2022-09-16</td>\n",
       "      <td>5.920000</td>\n",
       "      <td>5.920000</td>\n",
       "      <td>5.660000</td>\n",
       "      <td>5.720000</td>\n",
       "      <td>5.720000</td>\n",
       "      <td>5643200</td>\n",
       "      <td>5.868</td>\n",
       "      <td>5.9965</td>\n",
       "      <td>6.1578</td>\n",
       "    </tr>\n",
       "    <tr>\n",
       "      <th>5944</th>\n",
       "      <td>2022-09-19</td>\n",
       "      <td>5.620000</td>\n",
       "      <td>5.770000</td>\n",
       "      <td>5.560000</td>\n",
       "      <td>5.740000</td>\n",
       "      <td>5.740000</td>\n",
       "      <td>6396900</td>\n",
       "      <td>5.868</td>\n",
       "      <td>5.9650</td>\n",
       "      <td>6.1538</td>\n",
       "    </tr>\n",
       "  </tbody>\n",
       "</table>\n",
       "<p>5945 rows × 10 columns</p>\n",
       "</div>"
      ],
      "text/plain": [
       "            Date  open_price  high_price  low_price  close_price  adj_close  \\\n",
       "0     1999-02-04    2.145833    2.166667   1.895833     1.924479   1.924479   \n",
       "1     1999-02-05    1.929688    1.947917   1.822917     1.833333   1.833333   \n",
       "2     1999-02-08    1.854167    1.927083   1.783854     1.812500   1.812500   \n",
       "3     1999-02-09    1.822917    1.833333   1.656250     1.666667   1.666667   \n",
       "4     1999-02-10    1.708333    1.708333   1.604167     1.677083   1.677083   \n",
       "...          ...         ...         ...        ...          ...        ...   \n",
       "5940  2022-09-13    5.900000    5.990000   5.830000     5.930000   5.930000   \n",
       "5941  2022-09-14    5.940000    6.050000   5.830000     5.960000   5.960000   \n",
       "5942  2022-09-15    5.900000    6.100000   5.890000     6.050000   6.050000   \n",
       "5943  2022-09-16    5.920000    5.920000   5.660000     5.720000   5.720000   \n",
       "5944  2022-09-19    5.620000    5.770000   5.560000     5.740000   5.740000   \n",
       "\n",
       "        volume  MA for 10 days  MA for 20 days  MA for 50 days  \n",
       "0     16788600             NaN             NaN             NaN  \n",
       "1      3053400             NaN             NaN             NaN  \n",
       "2      1548000             NaN             NaN             NaN  \n",
       "3      3501600             NaN             NaN             NaN  \n",
       "4      1597200             NaN             NaN             NaN  \n",
       "...        ...             ...             ...             ...  \n",
       "5940   6715400           5.869          6.1370          6.1540  \n",
       "5941   7881800           5.861          6.0840          6.1604  \n",
       "5942   7950900           5.872          6.0480          6.1646  \n",
       "5943   5643200           5.868          5.9965          6.1578  \n",
       "5944   6396900           5.868          5.9650          6.1538  \n",
       "\n",
       "[5945 rows x 10 columns]"
      ]
     },
     "execution_count": 16,
     "metadata": {},
     "output_type": "execute_result"
    }
   ],
   "source": [
    "ma_day = [10, 20, 50]\n",
    "\n",
    "for ma in ma_day:\n",
    "    #for company in companies:\n",
    "    column_name = f\"MA for {ma} days\"\n",
    "    bb_df[column_name] = bb_df['close_price'].rolling(ma).mean()\n",
    "\n",
    "\n",
    "bb_df"
   ]
  },
  {
   "cell_type": "code",
   "execution_count": 19,
   "id": "05961091",
   "metadata": {},
   "outputs": [
    {
     "data": {
      "text/html": [
       "<div>\n",
       "<style scoped>\n",
       "    .dataframe tbody tr th:only-of-type {\n",
       "        vertical-align: middle;\n",
       "    }\n",
       "\n",
       "    .dataframe tbody tr th {\n",
       "        vertical-align: top;\n",
       "    }\n",
       "\n",
       "    .dataframe thead th {\n",
       "        text-align: right;\n",
       "    }\n",
       "</style>\n",
       "<table border=\"1\" class=\"dataframe\">\n",
       "  <thead>\n",
       "    <tr style=\"text-align: right;\">\n",
       "      <th></th>\n",
       "      <th>Date</th>\n",
       "      <th>open_price</th>\n",
       "      <th>high_price</th>\n",
       "      <th>low_price</th>\n",
       "      <th>close_price</th>\n",
       "      <th>adj_close</th>\n",
       "      <th>volume</th>\n",
       "      <th>MA for 10 days</th>\n",
       "      <th>MA for 20 days</th>\n",
       "      <th>MA for 50 days</th>\n",
       "    </tr>\n",
       "  </thead>\n",
       "  <tbody>\n",
       "    <tr>\n",
       "      <th>2020</th>\n",
       "      <td>2007-02-16</td>\n",
       "      <td>45.146667</td>\n",
       "      <td>46.350000</td>\n",
       "      <td>44.806667</td>\n",
       "      <td>46.273335</td>\n",
       "      <td>46.273335</td>\n",
       "      <td>18357600</td>\n",
       "      <td>45.437667</td>\n",
       "      <td>43.788500</td>\n",
       "      <td>43.796933</td>\n",
       "    </tr>\n",
       "    <tr>\n",
       "      <th>2021</th>\n",
       "      <td>2007-02-20</td>\n",
       "      <td>45.886665</td>\n",
       "      <td>47.456670</td>\n",
       "      <td>45.513332</td>\n",
       "      <td>47.206670</td>\n",
       "      <td>47.206670</td>\n",
       "      <td>25712700</td>\n",
       "      <td>45.598000</td>\n",
       "      <td>44.128834</td>\n",
       "      <td>43.834733</td>\n",
       "    </tr>\n",
       "    <tr>\n",
       "      <th>2022</th>\n",
       "      <td>2007-02-21</td>\n",
       "      <td>46.916668</td>\n",
       "      <td>47.623333</td>\n",
       "      <td>46.473330</td>\n",
       "      <td>47.326668</td>\n",
       "      <td>47.326668</td>\n",
       "      <td>24587700</td>\n",
       "      <td>45.744000</td>\n",
       "      <td>44.382667</td>\n",
       "      <td>43.878333</td>\n",
       "    </tr>\n",
       "    <tr>\n",
       "      <th>2023</th>\n",
       "      <td>2007-02-22</td>\n",
       "      <td>47.483334</td>\n",
       "      <td>47.493332</td>\n",
       "      <td>46.273335</td>\n",
       "      <td>46.766666</td>\n",
       "      <td>46.766666</td>\n",
       "      <td>20338200</td>\n",
       "      <td>45.864334</td>\n",
       "      <td>44.592167</td>\n",
       "      <td>43.955333</td>\n",
       "    </tr>\n",
       "    <tr>\n",
       "      <th>2024</th>\n",
       "      <td>2007-02-23</td>\n",
       "      <td>46.610000</td>\n",
       "      <td>46.950000</td>\n",
       "      <td>46.190000</td>\n",
       "      <td>46.666668</td>\n",
       "      <td>46.666668</td>\n",
       "      <td>14927100</td>\n",
       "      <td>45.917668</td>\n",
       "      <td>44.808167</td>\n",
       "      <td>44.037400</td>\n",
       "    </tr>\n",
       "    <tr>\n",
       "      <th>...</th>\n",
       "      <td>...</td>\n",
       "      <td>...</td>\n",
       "      <td>...</td>\n",
       "      <td>...</td>\n",
       "      <td>...</td>\n",
       "      <td>...</td>\n",
       "      <td>...</td>\n",
       "      <td>...</td>\n",
       "      <td>...</td>\n",
       "      <td>...</td>\n",
       "    </tr>\n",
       "    <tr>\n",
       "      <th>5940</th>\n",
       "      <td>2022-09-13</td>\n",
       "      <td>5.900000</td>\n",
       "      <td>5.990000</td>\n",
       "      <td>5.830000</td>\n",
       "      <td>5.930000</td>\n",
       "      <td>5.930000</td>\n",
       "      <td>6715400</td>\n",
       "      <td>5.869000</td>\n",
       "      <td>6.137000</td>\n",
       "      <td>6.154000</td>\n",
       "    </tr>\n",
       "    <tr>\n",
       "      <th>5941</th>\n",
       "      <td>2022-09-14</td>\n",
       "      <td>5.940000</td>\n",
       "      <td>6.050000</td>\n",
       "      <td>5.830000</td>\n",
       "      <td>5.960000</td>\n",
       "      <td>5.960000</td>\n",
       "      <td>7881800</td>\n",
       "      <td>5.861000</td>\n",
       "      <td>6.084000</td>\n",
       "      <td>6.160400</td>\n",
       "    </tr>\n",
       "    <tr>\n",
       "      <th>5942</th>\n",
       "      <td>2022-09-15</td>\n",
       "      <td>5.900000</td>\n",
       "      <td>6.100000</td>\n",
       "      <td>5.890000</td>\n",
       "      <td>6.050000</td>\n",
       "      <td>6.050000</td>\n",
       "      <td>7950900</td>\n",
       "      <td>5.872000</td>\n",
       "      <td>6.048000</td>\n",
       "      <td>6.164600</td>\n",
       "    </tr>\n",
       "    <tr>\n",
       "      <th>5943</th>\n",
       "      <td>2022-09-16</td>\n",
       "      <td>5.920000</td>\n",
       "      <td>5.920000</td>\n",
       "      <td>5.660000</td>\n",
       "      <td>5.720000</td>\n",
       "      <td>5.720000</td>\n",
       "      <td>5643200</td>\n",
       "      <td>5.868000</td>\n",
       "      <td>5.996500</td>\n",
       "      <td>6.157800</td>\n",
       "    </tr>\n",
       "    <tr>\n",
       "      <th>5944</th>\n",
       "      <td>2022-09-19</td>\n",
       "      <td>5.620000</td>\n",
       "      <td>5.770000</td>\n",
       "      <td>5.560000</td>\n",
       "      <td>5.740000</td>\n",
       "      <td>5.740000</td>\n",
       "      <td>6396900</td>\n",
       "      <td>5.868000</td>\n",
       "      <td>5.965000</td>\n",
       "      <td>6.153800</td>\n",
       "    </tr>\n",
       "  </tbody>\n",
       "</table>\n",
       "<p>3925 rows × 10 columns</p>\n",
       "</div>"
      ],
      "text/plain": [
       "            Date  open_price  high_price  low_price  close_price  adj_close  \\\n",
       "2020  2007-02-16   45.146667   46.350000  44.806667    46.273335  46.273335   \n",
       "2021  2007-02-20   45.886665   47.456670  45.513332    47.206670  47.206670   \n",
       "2022  2007-02-21   46.916668   47.623333  46.473330    47.326668  47.326668   \n",
       "2023  2007-02-22   47.483334   47.493332  46.273335    46.766666  46.766666   \n",
       "2024  2007-02-23   46.610000   46.950000  46.190000    46.666668  46.666668   \n",
       "...          ...         ...         ...        ...          ...        ...   \n",
       "5940  2022-09-13    5.900000    5.990000   5.830000     5.930000   5.930000   \n",
       "5941  2022-09-14    5.940000    6.050000   5.830000     5.960000   5.960000   \n",
       "5942  2022-09-15    5.900000    6.100000   5.890000     6.050000   6.050000   \n",
       "5943  2022-09-16    5.920000    5.920000   5.660000     5.720000   5.720000   \n",
       "5944  2022-09-19    5.620000    5.770000   5.560000     5.740000   5.740000   \n",
       "\n",
       "        volume  MA for 10 days  MA for 20 days  MA for 50 days  \n",
       "2020  18357600       45.437667       43.788500       43.796933  \n",
       "2021  25712700       45.598000       44.128834       43.834733  \n",
       "2022  24587700       45.744000       44.382667       43.878333  \n",
       "2023  20338200       45.864334       44.592167       43.955333  \n",
       "2024  14927100       45.917668       44.808167       44.037400  \n",
       "...        ...             ...             ...             ...  \n",
       "5940   6715400        5.869000        6.137000        6.154000  \n",
       "5941   7881800        5.861000        6.084000        6.160400  \n",
       "5942   7950900        5.872000        6.048000        6.164600  \n",
       "5943   5643200        5.868000        5.996500        6.157800  \n",
       "5944   6396900        5.868000        5.965000        6.153800  \n",
       "\n",
       "[3925 rows x 10 columns]"
      ]
     },
     "execution_count": 19,
     "metadata": {},
     "output_type": "execute_result"
    }
   ],
   "source": [
    "bb_df = bb_df.loc[\"2000-01-01\":]\n",
    "bb_df"
   ]
  },
  {
   "cell_type": "code",
   "execution_count": null,
   "id": "b9c6f98c",
   "metadata": {},
   "outputs": [],
   "source": []
  },
  {
   "cell_type": "code",
   "execution_count": null,
   "id": "b772bba6",
   "metadata": {},
   "outputs": [],
   "source": []
  },
  {
   "cell_type": "code",
   "execution_count": null,
   "id": "9bf6ed93",
   "metadata": {},
   "outputs": [],
   "source": []
  },
  {
   "cell_type": "code",
   "execution_count": null,
   "id": "43e93c86",
   "metadata": {},
   "outputs": [],
   "source": []
  },
  {
   "cell_type": "code",
   "execution_count": null,
   "id": "d735f062",
   "metadata": {},
   "outputs": [],
   "source": []
  },
  {
   "cell_type": "code",
   "execution_count": null,
   "id": "c4bc1c44",
   "metadata": {},
   "outputs": [],
   "source": []
  },
  {
   "cell_type": "code",
   "execution_count": 7,
   "id": "4db4c610",
   "metadata": {},
   "outputs": [],
   "source": [
    "# Get the data, read SQL query into data frame\n",
    "# gg_data = pd.read_sql_query(\"SELECT * FROM google\", con=conn)\n",
    "# gg_df = pd.DataFrame(gg_data)\n",
    "# gg_df"
   ]
  },
  {
   "cell_type": "code",
   "execution_count": 8,
   "id": "eb2ff095",
   "metadata": {},
   "outputs": [],
   "source": [
    "# Get the data, read SQL query into data frame\n",
    "# nf_data = pd.read_sql_query(\"SELECT * FROM netflix\", con=conn)\n",
    "# nf_df = pd.DataFrame(nf_data)\n",
    "# nf_df.head()"
   ]
  },
  {
   "cell_type": "code",
   "execution_count": 9,
   "id": "ce1a716c",
   "metadata": {},
   "outputs": [],
   "source": [
    "# Check the rows and columns of dfs\n",
    "# print(bb_df.shape)\n",
    "# print(gg_df.shape)\n",
    "# print(nf_df.shape)"
   ]
  },
  {
   "cell_type": "code",
   "execution_count": 10,
   "id": "677a019f",
   "metadata": {},
   "outputs": [
    {
     "data": {
      "text/plain": [
       "0"
      ]
     },
     "execution_count": 10,
     "metadata": {},
     "output_type": "execute_result"
    }
   ],
   "source": [
    "# Check if there is null values\n",
    "bb_df.isnull().sum()"
   ]
  },
  {
   "cell_type": "code",
   "execution_count": 11,
   "id": "ecb4bd19",
   "metadata": {},
   "outputs": [
    {
     "ename": "AttributeError",
     "evalue": "'Series' object has no attribute 'info'",
     "output_type": "error",
     "traceback": [
      "\u001b[1;31m---------------------------------------------------------------------------\u001b[0m",
      "\u001b[1;31mAttributeError\u001b[0m                            Traceback (most recent call last)",
      "\u001b[1;32m~\\AppData\\Local\\Temp\\ipykernel_44764\\1576863569.py\u001b[0m in \u001b[0;36m<module>\u001b[1;34m\u001b[0m\n\u001b[0;32m      1\u001b[0m \u001b[1;31m# Check the data types in df\u001b[0m\u001b[1;33m\u001b[0m\u001b[1;33m\u001b[0m\u001b[1;33m\u001b[0m\u001b[0m\n\u001b[1;32m----> 2\u001b[1;33m \u001b[0mbb_df\u001b[0m\u001b[1;33m.\u001b[0m\u001b[0minfo\u001b[0m\u001b[1;33m(\u001b[0m\u001b[1;33m)\u001b[0m\u001b[1;33m\u001b[0m\u001b[1;33m\u001b[0m\u001b[0m\n\u001b[0m",
      "\u001b[1;32m~\\anaconda3\\envs\\PythonData\\envs\\mlenv\\lib\\site-packages\\pandas\\core\\generic.py\u001b[0m in \u001b[0;36m__getattr__\u001b[1;34m(self, name)\u001b[0m\n\u001b[0;32m   5485\u001b[0m         ):\n\u001b[0;32m   5486\u001b[0m             \u001b[1;32mreturn\u001b[0m \u001b[0mself\u001b[0m\u001b[1;33m[\u001b[0m\u001b[0mname\u001b[0m\u001b[1;33m]\u001b[0m\u001b[1;33m\u001b[0m\u001b[1;33m\u001b[0m\u001b[0m\n\u001b[1;32m-> 5487\u001b[1;33m         \u001b[1;32mreturn\u001b[0m \u001b[0mobject\u001b[0m\u001b[1;33m.\u001b[0m\u001b[0m__getattribute__\u001b[0m\u001b[1;33m(\u001b[0m\u001b[0mself\u001b[0m\u001b[1;33m,\u001b[0m \u001b[0mname\u001b[0m\u001b[1;33m)\u001b[0m\u001b[1;33m\u001b[0m\u001b[1;33m\u001b[0m\u001b[0m\n\u001b[0m\u001b[0;32m   5488\u001b[0m \u001b[1;33m\u001b[0m\u001b[0m\n\u001b[0;32m   5489\u001b[0m     \u001b[1;32mdef\u001b[0m \u001b[0m__setattr__\u001b[0m\u001b[1;33m(\u001b[0m\u001b[0mself\u001b[0m\u001b[1;33m,\u001b[0m \u001b[0mname\u001b[0m\u001b[1;33m:\u001b[0m \u001b[0mstr\u001b[0m\u001b[1;33m,\u001b[0m \u001b[0mvalue\u001b[0m\u001b[1;33m)\u001b[0m \u001b[1;33m->\u001b[0m \u001b[1;32mNone\u001b[0m\u001b[1;33m:\u001b[0m\u001b[1;33m\u001b[0m\u001b[1;33m\u001b[0m\u001b[0m\n",
      "\u001b[1;31mAttributeError\u001b[0m: 'Series' object has no attribute 'info'"
     ]
    }
   ],
   "source": [
    "# Check the data types in df\n",
    "bb_df.info()"
   ]
  },
  {
   "cell_type": "code",
   "execution_count": null,
   "id": "0327da91",
   "metadata": {},
   "outputs": [],
   "source": [
    "# gg_df.isnull().sum()"
   ]
  },
  {
   "cell_type": "code",
   "execution_count": null,
   "id": "65823e36",
   "metadata": {},
   "outputs": [],
   "source": [
    "# nf_df.isnull().sum()"
   ]
  },
  {
   "cell_type": "code",
   "execution_count": null,
   "id": "f506ed61",
   "metadata": {},
   "outputs": [],
   "source": [
    "# Change [Date] data type to data time\n",
    "\n",
    "bb_df['Date'] = pd.to_datetime(bb_df.Date)\n",
    "# gg_df['Date'] = pd.to_datetime(gg_df.Date)\n",
    "# nf_df['Date'] = pd.to_datetime(nf_df.Date)"
   ]
  },
  {
   "cell_type": "code",
   "execution_count": null,
   "id": "784a1508",
   "metadata": {},
   "outputs": [],
   "source": [
    "bb_df.info()"
   ]
  },
  {
   "cell_type": "code",
   "execution_count": null,
   "id": "c18469dc",
   "metadata": {},
   "outputs": [],
   "source": [
    "# Delete 'Adj Close' column and check df\n",
    "\n",
    "# bb_df = bb_df.drop('adj_close', axis=1)\n",
    "# gg_df = gg_df.drop('adj_close', axis=1)\n",
    "# nf_df = nf_df.drop('adj_close', axis=1)"
   ]
  },
  {
   "cell_type": "code",
   "execution_count": null,
   "id": "d6621683",
   "metadata": {},
   "outputs": [],
   "source": [
    "bb_df.set_index('Date')\n",
    "# gg_df.set_index('Date')\n",
    "# nf_df.set_index('Date')"
   ]
  },
  {
   "cell_type": "code",
   "execution_count": null,
   "id": "5d2bfce9",
   "metadata": {},
   "outputs": [],
   "source": [
    "# Vistulize the stock price trend by using 'Close' column\n",
    "plt.plot(bb_df['Date'], bb_df['close_price'],label='Close')\n",
    "# plt.plot(bb_df['MA for 10 days'], color = \"green\")\n",
    "# plt.plot(bb_df['MA for 20 days'], color = \"orange\")\n",
    "# plt.plot(bb_df['MA for 50 days'], color = \"purple\")\n",
    "plt.xlabel('Date')\n",
    "plt.ylabel('Price')\n",
    "plt.title('BB History Stock Price')\n",
    "plt.grid()\n",
    "plt.legend()\n",
    "plt.show()"
   ]
  },
  {
   "cell_type": "code",
   "execution_count": null,
   "id": "d536654b",
   "metadata": {},
   "outputs": [],
   "source": [
    "# Vistulize the stock price trend by using 'Close' column\n",
    "plt.plot(gg_df['Date'], gg_df['close_price'], label='Close')\n",
    "plt.xlabel('Date')\n",
    "plt.ylabel('Price')\n",
    "plt.title('Google History Stock Price')\n",
    "plt.grid()\n",
    "plt.legend()\n",
    "plt.show()"
   ]
  },
  {
   "cell_type": "code",
   "execution_count": null,
   "id": "435bfe18",
   "metadata": {},
   "outputs": [],
   "source": [
    "# Vistulize the stock price trend by using 'Close' column\n",
    "plt.plot(nf_df['Date'], nf_df['close_price'], label='Close')\n",
    "plt.xlabel('Date')\n",
    "plt.ylabel('Price')\n",
    "plt.title('Netflix History Stock Price')\n",
    "plt.grid()\n",
    "plt.legend()\n",
    "plt.show()"
   ]
  },
  {
   "cell_type": "markdown",
   "id": "96e3ddcd",
   "metadata": {},
   "source": [
    "# Multiple Linear Regression Model"
   ]
  },
  {
   "cell_type": "code",
   "execution_count": null,
   "id": "031ea410",
   "metadata": {},
   "outputs": [],
   "source": [
    "from sklearn.linear_model import LinearRegression\n",
    "from sklearn.model_selection import train_test_split"
   ]
  },
  {
   "cell_type": "code",
   "execution_count": null,
   "id": "73afa036",
   "metadata": {},
   "outputs": [],
   "source": [
    "# Split our preprocessed data into our features and target arrays\n",
    "\n",
    "X = bb_df[['open_price','high_price','low_price','volume']].values\n",
    "y = bb_df['close_price'].values"
   ]
  },
  {
   "cell_type": "code",
   "execution_count": null,
   "id": "0e1b6629",
   "metadata": {},
   "outputs": [],
   "source": [
    "# Split the preprocessed data into a training and testing dataset\n",
    "\n",
    "X_train, X_test, y_train, y_test = train_test_split(X, y, random_state=78)"
   ]
  },
  {
   "cell_type": "code",
   "execution_count": null,
   "id": "a9eb2e48",
   "metadata": {},
   "outputs": [],
   "source": [
    "# Check the shape of X_train and X_test\n",
    "\n",
    "print(X_train.shape)\n",
    "print(X_test.shape)"
   ]
  },
  {
   "cell_type": "code",
   "execution_count": null,
   "id": "1712aa69",
   "metadata": {},
   "outputs": [],
   "source": [
    "# Build linear reg model\n",
    "\n",
    "lr_model = LinearRegression()\n",
    "lr_model.fit(X_train, y_train)"
   ]
  },
  {
   "cell_type": "code",
   "execution_count": null,
   "id": "c976872b",
   "metadata": {},
   "outputs": [],
   "source": [
    "# Check the model score\n",
    "\n",
    "lr_model.score(X_train, y_train)"
   ]
  },
  {
   "cell_type": "code",
   "execution_count": null,
   "id": "ec024b3d",
   "metadata": {},
   "outputs": [],
   "source": [
    "# Make stock price prediction\n",
    "\n",
    "prediction = lr_model.predict(X_test)\n",
    "\n",
    "print(prediction.shape)\n",
    "print(prediction)"
   ]
  },
  {
   "cell_type": "code",
   "execution_count": null,
   "id": "a1d5c0b7",
   "metadata": {},
   "outputs": [],
   "source": [
    "# Compare y_test and our prediction value\n",
    "\n",
    "pred_df = pd.DataFrame({'Actual Price':y_test, 'Predicted Price':prediction})\n",
    "\n",
    "pred_df.head(20)"
   ]
  },
  {
   "cell_type": "code",
   "execution_count": null,
   "id": "f9884fe9",
   "metadata": {},
   "outputs": [],
   "source": [
    "# Plot the actual and predicted price\n",
    "# from the above data frame, we can see the difference between 'actual price' and 'predicted price' is tiny\n",
    "# if using line graph, the two lines will be overlapped to each other.\n",
    "# so we choose to use bar graph to show the difference of first 20 rows of data frame\n",
    "\n",
    "fig_df = pred_df.loc[pred_df.index<20]\n",
    "\n",
    "x = np.arange(len(fig_df['Actual Price']))  # the label locations\n",
    "width = 0.35  # the width of the bars\n",
    "fig, ax = plt.subplots()\n",
    "rects1 = ax.bar(x - width/2, fig_df['Actual Price'], width, label='Actual')\n",
    "rects2 = ax.bar(x + width/2, fig_df['Predicted Price'], width, label='Predicted')\n",
    "\n",
    "# Add some text for labels, title and custom x-axis tick labels, etc.\n",
    "ax.set_xlabel('Time')\n",
    "ax.set_ylabel('Stock Price')\n",
    "ax.set_title('Stock Price predicted by Linear Regression Model')\n",
    "ax.legend()\n",
    "fig.tight_layout()\n",
    "plt.show()"
   ]
  },
  {
   "cell_type": "code",
   "execution_count": null,
   "id": "5cefd85c",
   "metadata": {},
   "outputs": [],
   "source": [
    "print(lr_model.coef_)\n",
    "print(lr_model.intercept_)"
   ]
  },
  {
   "cell_type": "code",
   "execution_count": null,
   "id": "79a031d6",
   "metadata": {},
   "outputs": [],
   "source": [
    "# Calculate the MSE for our model\n",
    "# The mean squared error (MSE) tells you how close a regression line is to a set of points\n",
    "# return a non-negative floating point value (the best value is 0.0)\n",
    "\n",
    "from sklearn.metrics import mean_squared_error\n",
    "mean_squared_error(y_test, prediction)"
   ]
  },
  {
   "cell_type": "markdown",
   "id": "f69d06d5",
   "metadata": {},
   "source": [
    "# Using more popular LSTM model to predict BB stock price"
   ]
  },
  {
   "cell_type": "code",
   "execution_count": null,
   "id": "90bd1793",
   "metadata": {},
   "outputs": [],
   "source": [
    "# Choose \"Closed\" price column as our input variable\n",
    "close_df= bb_df['close_price']\n",
    "\n",
    "data_len = round(len(close_df) * 0.8)\n",
    "\n",
    "close_df_train = close_df.loc[close_df.index < data_len]\n",
    "close_df_test = close_df.loc[close_df.index >= data_len]\n",
    "\n",
    "#print(close_df_train.head())\n",
    "#print()\n",
    "#print(close_df_test.head())\n",
    "close_df"
   ]
  },
  {
   "cell_type": "code",
   "execution_count": null,
   "id": "ba5f4e8e",
   "metadata": {},
   "outputs": [],
   "source": [
    "# Scale the training data\n",
    "scaler = MinMaxScaler(feature_range=(0,1))\n",
    "scaled_data = scaler.fit_transform(close_df_train.values.reshape(-1,1))\n",
    "scaled_data.shape"
   ]
  },
  {
   "cell_type": "code",
   "execution_count": null,
   "id": "e0f5cabc",
   "metadata": {},
   "outputs": [],
   "source": [
    "# Use the previous 30 days 'close' price to predict the 31st day's price\n",
    "previous_days = 30"
   ]
  },
  {
   "cell_type": "code",
   "execution_count": null,
   "id": "b2570851",
   "metadata": {},
   "outputs": [],
   "source": [
    "# Splite data into X_train and y_train\n",
    "X_train = []\n",
    "y_train = []\n",
    "\n",
    "for i in range(previous_days, len(scaled_data)):\n",
    "    X_train.append(scaled_data[i-previous_days:i, 0])\n",
    "    y_train.append(scaled_data[i, 0])"
   ]
  },
  {
   "cell_type": "code",
   "execution_count": null,
   "id": "35739252",
   "metadata": {},
   "outputs": [],
   "source": [
    "# Convert the X_train and y_train to numpy arrays\n",
    "X_train, y_train = np.array(X_train), np.array(y_train)\n",
    "\n",
    "print(X_train.shape)\n",
    "print(y_train)"
   ]
  },
  {
   "cell_type": "code",
   "execution_count": null,
   "id": "6b21a5a6",
   "metadata": {},
   "outputs": [],
   "source": [
    "# Reshape the X_train since LSTM needs 3-dimensional inputs\n",
    "X_train = np.reshape(X_train, (X_train.shape[0], X_train.shape[1], 1))\n",
    "X_train.shape"
   ]
  },
  {
   "cell_type": "code",
   "execution_count": null,
   "id": "b2e465b5",
   "metadata": {},
   "outputs": [],
   "source": [
    "# Build the LSTM model\n",
    "model = Sequential()\n",
    "# Add LSTM layer\n",
    "model.add(LSTM(units = 50, return_sequences=True, input_shape = (X_train.shape[1],1)))\n",
    "model.add(LSTM(units = 50, return_sequences=True))\n",
    "model.add(LSTM(units = 50))\n",
    "# prediction output layer\n",
    "model.add(Dense(units=1))"
   ]
  },
  {
   "cell_type": "code",
   "execution_count": null,
   "id": "016537bf",
   "metadata": {},
   "outputs": [],
   "source": [
    "# compile and train the data\n",
    "model.compile(optimizer='adam', loss='mean_squared_error')\n",
    "model.fit(X_train, y_train, batch_size =32, epochs=20)"
   ]
  },
  {
   "cell_type": "code",
   "execution_count": null,
   "id": "04ae63c9",
   "metadata": {},
   "outputs": [],
   "source": [
    "model.summary()"
   ]
  },
  {
   "cell_type": "code",
   "execution_count": null,
   "id": "ab255024",
   "metadata": {},
   "outputs": [],
   "source": [
    "#### Test model ####\n",
    "\n",
    "# Scale the testing data\n",
    "scaler = MinMaxScaler(feature_range=(0,1))\n",
    "scaled_test_data = scaler.fit_transform(close_df_test.values.reshape(-1,1))\n",
    "scaled_test_data.shape"
   ]
  },
  {
   "cell_type": "code",
   "execution_count": null,
   "id": "0a77c36d",
   "metadata": {},
   "outputs": [],
   "source": [
    "# Create X_test and y_test\n",
    "X_test = []\n",
    "y_test = []\n",
    "\n",
    "for i in range(previous_days, len(scaled_test_data)):\n",
    "    X_test.append(scaled_test_data[i-previous_days:i, 0])\n",
    "    y_test.append(scaled_test_data[i, 0])"
   ]
  },
  {
   "cell_type": "code",
   "execution_count": null,
   "id": "47bee9e3",
   "metadata": {},
   "outputs": [],
   "source": [
    "# Convert the X_test and y_test to numpy arrays\n",
    "X_test = np.array(X_test)\n",
    "print(X_test.shape)"
   ]
  },
  {
   "cell_type": "code",
   "execution_count": null,
   "id": "912dee39",
   "metadata": {},
   "outputs": [],
   "source": [
    "# reshape\n",
    "X_test = np.reshape(X_test, (X_test.shape[0], X_test.shape[1], 1))\n",
    "\n",
    "print(X_test.shape)\n",
    "print(y_test)"
   ]
  },
  {
   "cell_type": "code",
   "execution_count": null,
   "id": "f4145f46",
   "metadata": {},
   "outputs": [],
   "source": [
    "# Predict the data\n",
    "\n",
    "prediction = model.predict(X_test)\n",
    "prediction = scaler.inverse_transform(prediction)"
   ]
  },
  {
   "cell_type": "code",
   "execution_count": null,
   "id": "05b50ac7",
   "metadata": {},
   "outputs": [],
   "source": [
    "# plot test predictions\n",
    "\n",
    "plt.figure(figsize=(12, 8))\n",
    "plt.plot(y_test, color='red', label='Actual')\n",
    "plt.plot(prediction, color='green', label='Predicted')\n",
    "plt.xlabel('Date')\n",
    "plt.ylabel('Stock Price')\n",
    "\n",
    "plt.title(\"Stock Price predicted by LSTM Model\")\n",
    "plt.grid()\n",
    "plt.legend()\n",
    "plt.show()"
   ]
  },
  {
   "cell_type": "markdown",
   "id": "2279b97d",
   "metadata": {},
   "source": [
    "# Using LSTM model to predict GOOGLE stock price"
   ]
  },
  {
   "cell_type": "code",
   "execution_count": null,
   "id": "5505b816",
   "metadata": {},
   "outputs": [],
   "source": [
    "# Choose \"Closed\" price column as our input variable\n",
    "close_df= gg_df['close_price']\n",
    "\n",
    "data_len = round(len(close_df) * 0.8)\n",
    "\n",
    "close_df_train = close_df.loc[close_df.index < data_len]\n",
    "close_df_test = close_df.loc[close_df.index >= data_len]\n",
    "\n",
    "print(close_df_train.head())\n",
    "print()\n",
    "print(close_df_test.head())"
   ]
  },
  {
   "cell_type": "code",
   "execution_count": null,
   "id": "19cf7eab",
   "metadata": {},
   "outputs": [],
   "source": [
    "# Scale the training data\n",
    "scaler = MinMaxScaler(feature_range=(0,1))\n",
    "scaled_data = scaler.fit_transform(close_df_train.values.reshape(-1,1))\n",
    "scaled_data.shape"
   ]
  },
  {
   "cell_type": "code",
   "execution_count": null,
   "id": "430b57fd",
   "metadata": {},
   "outputs": [],
   "source": [
    "# Use the previous 30 days 'close' price to predict the 31st day's price\n",
    "previous_days = 30"
   ]
  },
  {
   "cell_type": "code",
   "execution_count": null,
   "id": "7c1d87db",
   "metadata": {},
   "outputs": [],
   "source": [
    "# Splite data into X_train and y_train\n",
    "X_train = []\n",
    "y_train = []\n",
    "\n",
    "for i in range(previous_days, len(scaled_data)):\n",
    "    X_train.append(scaled_data[i-previous_days:i, 0])\n",
    "    y_train.append(scaled_data[i, 0])"
   ]
  },
  {
   "cell_type": "code",
   "execution_count": null,
   "id": "f07b59db",
   "metadata": {},
   "outputs": [],
   "source": [
    "# Convert the X_train and y_train to numpy arrays\n",
    "X_train, y_train = np.array(X_train), np.array(y_train)\n",
    "\n",
    "print(X_train.shape)\n",
    "print(y_train.shape)"
   ]
  },
  {
   "cell_type": "code",
   "execution_count": null,
   "id": "5cfc9791",
   "metadata": {},
   "outputs": [],
   "source": [
    "# Reshape the X_train since LSTM needs 3-dimensional inputs\n",
    "X_train = np.reshape(X_train, (X_train.shape[0], X_train.shape[1], 1))\n",
    "X_train.shape"
   ]
  },
  {
   "cell_type": "code",
   "execution_count": null,
   "id": "f99926cc",
   "metadata": {},
   "outputs": [],
   "source": [
    "# Build the LSTM model\n",
    "model = Sequential()\n",
    "# Add LSTM layer\n",
    "model.add(LSTM(units = 50, return_sequences=True, input_shape = (X_train.shape[1],1)))\n",
    "model.add(LSTM(units = 50, return_sequences=True))\n",
    "model.add(LSTM(units = 50))\n",
    "# prediction output layer\n",
    "model.add(Dense(units=1))"
   ]
  },
  {
   "cell_type": "code",
   "execution_count": null,
   "id": "77bc06fc",
   "metadata": {},
   "outputs": [],
   "source": [
    "# compile and train the data\n",
    "model.compile(optimizer='adam', loss='mean_squared_error')\n",
    "model.fit(X_train, y_train, batch_size =32, epochs=20)"
   ]
  },
  {
   "cell_type": "code",
   "execution_count": null,
   "id": "95a23312",
   "metadata": {},
   "outputs": [],
   "source": [
    "model.summary()"
   ]
  },
  {
   "cell_type": "code",
   "execution_count": null,
   "id": "0d81dfc8",
   "metadata": {},
   "outputs": [],
   "source": [
    "#### Test model ####\n",
    "\n",
    "# Scale the testing data\n",
    "scaler = MinMaxScaler(feature_range=(0,1))\n",
    "scaled_test_data = scaler.fit_transform(close_df_test.values.reshape(-1,1))\n",
    "scaled_test_data.shape"
   ]
  },
  {
   "cell_type": "code",
   "execution_count": null,
   "id": "7b4d1b37",
   "metadata": {},
   "outputs": [],
   "source": [
    "# Create X_test and y_test\n",
    "X_test = []\n",
    "y_test = []\n",
    "\n",
    "for i in range(previous_days, len(scaled_test_data)):\n",
    "    X_test.append(scaled_test_data[i-previous_days:i, 0])\n",
    "    y_test.append(scaled_test_data[i, 0])"
   ]
  },
  {
   "cell_type": "code",
   "execution_count": null,
   "id": "71e7e26f",
   "metadata": {},
   "outputs": [],
   "source": [
    "# Convert the X_test to numpy arrays\n",
    "X_test = np.array(X_test)\n",
    "print(X_test.shape)"
   ]
  },
  {
   "cell_type": "code",
   "execution_count": null,
   "id": "9503f7e2",
   "metadata": {},
   "outputs": [],
   "source": [
    "# reshape\n",
    "X_test = np.reshape(X_test, (X_test.shape[0], X_test.shape[1], 1))\n",
    "\n",
    "print(X_test.shape)"
   ]
  },
  {
   "cell_type": "code",
   "execution_count": null,
   "id": "03ce5c04",
   "metadata": {},
   "outputs": [],
   "source": [
    "# Predict the data\n",
    "\n",
    "prediction = model.predict(X_test)\n",
    "prediction = scaler.inverse_transform(prediction)"
   ]
  },
  {
   "cell_type": "code",
   "execution_count": null,
   "id": "28b1ae05",
   "metadata": {},
   "outputs": [],
   "source": [
    "# plot test predictions\n",
    "\n",
    "plt.figure(figsize=(12, 8))\n",
    "plt.plot(y_test, color='red', label='Actual')\n",
    "plt.plot(prediction, color='green', label='Predicted')\n",
    "plt.xlabel('Date')\n",
    "plt.ylabel('Stock Price')\n",
    "\n",
    "plt.title(\"Stock Price predicted by LSTM Model\")\n",
    "plt.grid()\n",
    "plt.legend()\n",
    "plt.show()"
   ]
  },
  {
   "cell_type": "code",
   "execution_count": null,
   "id": "e5de97cd",
   "metadata": {},
   "outputs": [],
   "source": []
  }
 ],
 "metadata": {
  "kernelspec": {
   "display_name": "mlenv",
   "language": "python",
   "name": "mlenv"
  },
  "language_info": {
   "codemirror_mode": {
    "name": "ipython",
    "version": 3
   },
   "file_extension": ".py",
   "mimetype": "text/x-python",
   "name": "python",
   "nbconvert_exporter": "python",
   "pygments_lexer": "ipython3",
   "version": "3.7.13"
  }
 },
 "nbformat": 4,
 "nbformat_minor": 5
}
