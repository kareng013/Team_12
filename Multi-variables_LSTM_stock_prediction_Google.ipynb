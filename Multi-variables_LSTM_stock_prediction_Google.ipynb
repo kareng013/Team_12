{
 "cells": [
  {
   "cell_type": "code",
   "execution_count": 1,
   "id": "c674b192",
   "metadata": {},
   "outputs": [],
   "source": [
    "# Import dependencies\n",
    "import pandas as pd\n",
    "import numpy as np\n",
    "import matplotlib.pyplot as plt\n",
    "import psycopg2\n",
    "from config import PGHOST, PGDATABASE, PGUSER, PGPASSWORD\n",
    "\n",
    "\n",
    "from sklearn.preprocessing import MinMaxScaler\n",
    "from sklearn.preprocessing import StandardScaler\n",
    "from tensorflow.keras.models import Sequential\n",
    "from tensorflow.keras.optimizers import Adam\n",
    "from tensorflow.keras.layers import Dense, LSTM\n",
    "from sklearn.metrics import mean_squared_error"
   ]
  },
  {
   "cell_type": "code",
   "execution_count": 2,
   "id": "a14f9d77",
   "metadata": {},
   "outputs": [],
   "source": [
    "# Define a function to connect to AWS database instance\n",
    "\n",
    "def connect():\n",
    "    \n",
    "    # Set up a connection to the postgres server.\n",
    "    conn_string = \"host=\"+PGHOST +\" port=\"+ \"5432\" +\" dbname=\"+PGDATABASE +\" user=\" + PGUSER \\\n",
    "                  +\" password=\"+ PGPASSWORD\n",
    "    \n",
    "    conn = psycopg2.connect(conn_string)\n",
    "    print(\"Connected!\")\n",
    "\n",
    "    # Create a cursor object\n",
    "    cursor = conn.cursor()\n",
    "    \n",
    "    return conn, cursor"
   ]
  },
  {
   "cell_type": "code",
   "execution_count": 3,
   "id": "d33174ed",
   "metadata": {},
   "outputs": [
    {
     "name": "stdout",
     "output_type": "stream",
     "text": [
      "Connected!\n"
     ]
    }
   ],
   "source": [
    "conn, cursor = connect()"
   ]
  },
  {
   "cell_type": "code",
   "execution_count": 4,
   "id": "4f4b5f5e",
   "metadata": {},
   "outputs": [
    {
     "data": {
      "text/html": [
       "<div>\n",
       "<style scoped>\n",
       "    .dataframe tbody tr th:only-of-type {\n",
       "        vertical-align: middle;\n",
       "    }\n",
       "\n",
       "    .dataframe tbody tr th {\n",
       "        vertical-align: top;\n",
       "    }\n",
       "\n",
       "    .dataframe thead th {\n",
       "        text-align: right;\n",
       "    }\n",
       "</style>\n",
       "<table border=\"1\" class=\"dataframe\">\n",
       "  <thead>\n",
       "    <tr style=\"text-align: right;\">\n",
       "      <th></th>\n",
       "      <th>Date</th>\n",
       "      <th>open_price</th>\n",
       "      <th>high_price</th>\n",
       "      <th>low_price</th>\n",
       "      <th>close_price</th>\n",
       "      <th>adj_close</th>\n",
       "      <th>volume</th>\n",
       "    </tr>\n",
       "  </thead>\n",
       "  <tbody>\n",
       "    <tr>\n",
       "      <th>0</th>\n",
       "      <td>2004-08-19</td>\n",
       "      <td>2.502503</td>\n",
       "      <td>2.604104</td>\n",
       "      <td>2.401401</td>\n",
       "      <td>2.511011</td>\n",
       "      <td>2.511011</td>\n",
       "      <td>893181924</td>\n",
       "    </tr>\n",
       "    <tr>\n",
       "      <th>1</th>\n",
       "      <td>2004-08-20</td>\n",
       "      <td>2.527778</td>\n",
       "      <td>2.729730</td>\n",
       "      <td>2.515015</td>\n",
       "      <td>2.710460</td>\n",
       "      <td>2.710460</td>\n",
       "      <td>456686856</td>\n",
       "    </tr>\n",
       "    <tr>\n",
       "      <th>2</th>\n",
       "      <td>2004-08-23</td>\n",
       "      <td>2.771522</td>\n",
       "      <td>2.839840</td>\n",
       "      <td>2.728979</td>\n",
       "      <td>2.737738</td>\n",
       "      <td>2.737738</td>\n",
       "      <td>365122512</td>\n",
       "    </tr>\n",
       "    <tr>\n",
       "      <th>3</th>\n",
       "      <td>2004-08-24</td>\n",
       "      <td>2.783784</td>\n",
       "      <td>2.792793</td>\n",
       "      <td>2.591842</td>\n",
       "      <td>2.624374</td>\n",
       "      <td>2.624374</td>\n",
       "      <td>304946748</td>\n",
       "    </tr>\n",
       "    <tr>\n",
       "      <th>4</th>\n",
       "      <td>2004-08-25</td>\n",
       "      <td>2.626627</td>\n",
       "      <td>2.702703</td>\n",
       "      <td>2.599600</td>\n",
       "      <td>2.652653</td>\n",
       "      <td>2.652653</td>\n",
       "      <td>183772044</td>\n",
       "    </tr>\n",
       "  </tbody>\n",
       "</table>\n",
       "</div>"
      ],
      "text/plain": [
       "         Date  open_price  high_price  low_price  close_price  adj_close  \\\n",
       "0  2004-08-19    2.502503    2.604104   2.401401     2.511011   2.511011   \n",
       "1  2004-08-20    2.527778    2.729730   2.515015     2.710460   2.710460   \n",
       "2  2004-08-23    2.771522    2.839840   2.728979     2.737738   2.737738   \n",
       "3  2004-08-24    2.783784    2.792793   2.591842     2.624374   2.624374   \n",
       "4  2004-08-25    2.626627    2.702703   2.599600     2.652653   2.652653   \n",
       "\n",
       "      volume  \n",
       "0  893181924  \n",
       "1  456686856  \n",
       "2  365122512  \n",
       "3  304946748  \n",
       "4  183772044  "
      ]
     },
     "execution_count": 4,
     "metadata": {},
     "output_type": "execute_result"
    }
   ],
   "source": [
    "# Get the data, read SQL query into data frame\n",
    "gg_data = pd.read_sql_query(\"SELECT * FROM google\", con=conn)\n",
    "gg_df = pd.DataFrame(gg_data)\n",
    "gg_df.head()"
   ]
  },
  {
   "cell_type": "code",
   "execution_count": 5,
   "id": "43023996",
   "metadata": {},
   "outputs": [
    {
     "name": "stdout",
     "output_type": "stream",
     "text": [
      "(4553, 7)\n"
     ]
    }
   ],
   "source": [
    "# Check the rows and columns of dfs\n",
    "print(gg_df.shape)"
   ]
  },
  {
   "cell_type": "code",
   "execution_count": 6,
   "id": "0b936cb6",
   "metadata": {},
   "outputs": [
    {
     "data": {
      "text/plain": [
       "Date           0\n",
       "open_price     0\n",
       "high_price     0\n",
       "low_price      0\n",
       "close_price    0\n",
       "adj_close      0\n",
       "volume         0\n",
       "dtype: int64"
      ]
     },
     "execution_count": 6,
     "metadata": {},
     "output_type": "execute_result"
    }
   ],
   "source": [
    "# Check if there is null values\n",
    "gg_df.isnull().sum()"
   ]
  },
  {
   "cell_type": "code",
   "execution_count": 7,
   "id": "79b7e410",
   "metadata": {},
   "outputs": [
    {
     "name": "stdout",
     "output_type": "stream",
     "text": [
      "<class 'pandas.core.frame.DataFrame'>\n",
      "RangeIndex: 4553 entries, 0 to 4552\n",
      "Data columns (total 7 columns):\n",
      " #   Column       Non-Null Count  Dtype  \n",
      "---  ------       --------------  -----  \n",
      " 0   Date         4553 non-null   object \n",
      " 1   open_price   4553 non-null   float64\n",
      " 2   high_price   4553 non-null   float64\n",
      " 3   low_price    4553 non-null   float64\n",
      " 4   close_price  4553 non-null   float64\n",
      " 5   adj_close    4553 non-null   float64\n",
      " 6   volume       4553 non-null   int64  \n",
      "dtypes: float64(5), int64(1), object(1)\n",
      "memory usage: 249.1+ KB\n"
     ]
    }
   ],
   "source": [
    "# Check the data types in df\n",
    "gg_df.info()"
   ]
  },
  {
   "cell_type": "code",
   "execution_count": 8,
   "id": "d7aa1bcd",
   "metadata": {},
   "outputs": [
    {
     "data": {
      "text/html": [
       "<div>\n",
       "<style scoped>\n",
       "    .dataframe tbody tr th:only-of-type {\n",
       "        vertical-align: middle;\n",
       "    }\n",
       "\n",
       "    .dataframe tbody tr th {\n",
       "        vertical-align: top;\n",
       "    }\n",
       "\n",
       "    .dataframe thead th {\n",
       "        text-align: right;\n",
       "    }\n",
       "</style>\n",
       "<table border=\"1\" class=\"dataframe\">\n",
       "  <thead>\n",
       "    <tr style=\"text-align: right;\">\n",
       "      <th></th>\n",
       "      <th>Date</th>\n",
       "      <th>open_price</th>\n",
       "      <th>high_price</th>\n",
       "      <th>low_price</th>\n",
       "      <th>close_price</th>\n",
       "      <th>adj_close</th>\n",
       "      <th>volume</th>\n",
       "    </tr>\n",
       "  </thead>\n",
       "  <tbody>\n",
       "    <tr>\n",
       "      <th>3115</th>\n",
       "      <td>2017-01-03</td>\n",
       "      <td>40.0310</td>\n",
       "      <td>40.5720</td>\n",
       "      <td>39.8445</td>\n",
       "      <td>40.4005</td>\n",
       "      <td>40.4005</td>\n",
       "      <td>39180000</td>\n",
       "    </tr>\n",
       "    <tr>\n",
       "      <th>3116</th>\n",
       "      <td>2017-01-04</td>\n",
       "      <td>40.4945</td>\n",
       "      <td>40.6715</td>\n",
       "      <td>40.2055</td>\n",
       "      <td>40.3885</td>\n",
       "      <td>40.3885</td>\n",
       "      <td>30306000</td>\n",
       "    </tr>\n",
       "    <tr>\n",
       "      <th>3117</th>\n",
       "      <td>2017-01-05</td>\n",
       "      <td>40.3750</td>\n",
       "      <td>40.6870</td>\n",
       "      <td>40.2960</td>\n",
       "      <td>40.6510</td>\n",
       "      <td>40.6510</td>\n",
       "      <td>26810000</td>\n",
       "    </tr>\n",
       "    <tr>\n",
       "      <th>3118</th>\n",
       "      <td>2017-01-06</td>\n",
       "      <td>40.7495</td>\n",
       "      <td>41.4480</td>\n",
       "      <td>40.5750</td>\n",
       "      <td>41.2605</td>\n",
       "      <td>41.2605</td>\n",
       "      <td>40342000</td>\n",
       "    </tr>\n",
       "    <tr>\n",
       "      <th>3119</th>\n",
       "      <td>2017-01-09</td>\n",
       "      <td>41.3185</td>\n",
       "      <td>41.5215</td>\n",
       "      <td>41.0810</td>\n",
       "      <td>41.3590</td>\n",
       "      <td>41.3590</td>\n",
       "      <td>28178000</td>\n",
       "    </tr>\n",
       "  </tbody>\n",
       "</table>\n",
       "</div>"
      ],
      "text/plain": [
       "           Date  open_price  high_price  low_price  close_price  adj_close  \\\n",
       "3115 2017-01-03     40.0310     40.5720    39.8445      40.4005    40.4005   \n",
       "3116 2017-01-04     40.4945     40.6715    40.2055      40.3885    40.3885   \n",
       "3117 2017-01-05     40.3750     40.6870    40.2960      40.6510    40.6510   \n",
       "3118 2017-01-06     40.7495     41.4480    40.5750      41.2605    41.2605   \n",
       "3119 2017-01-09     41.3185     41.5215    41.0810      41.3590    41.3590   \n",
       "\n",
       "        volume  \n",
       "3115  39180000  \n",
       "3116  30306000  \n",
       "3117  26810000  \n",
       "3118  40342000  \n",
       "3119  28178000  "
      ]
     },
     "execution_count": 8,
     "metadata": {},
     "output_type": "execute_result"
    }
   ],
   "source": [
    "# change the date column data tpye\n",
    "gg_df['Date'] = pd.to_datetime(gg_df.Date)\n",
    "# set date as frame index\n",
    "gg_df.set_index('Date')\n",
    "# select data after year 2017\n",
    "gg_df = gg_df.loc[gg_df.Date >='2017-01-01']\n",
    "\n",
    "gg_df.head()"
   ]
  },
  {
   "cell_type": "code",
   "execution_count": 9,
   "id": "eaad3fd4",
   "metadata": {},
   "outputs": [
    {
     "data": {
      "text/html": [
       "<div>\n",
       "<style scoped>\n",
       "    .dataframe tbody tr th:only-of-type {\n",
       "        vertical-align: middle;\n",
       "    }\n",
       "\n",
       "    .dataframe tbody tr th {\n",
       "        vertical-align: top;\n",
       "    }\n",
       "\n",
       "    .dataframe thead th {\n",
       "        text-align: right;\n",
       "    }\n",
       "</style>\n",
       "<table border=\"1\" class=\"dataframe\">\n",
       "  <thead>\n",
       "    <tr style=\"text-align: right;\">\n",
       "      <th></th>\n",
       "      <th>Date</th>\n",
       "      <th>open_price</th>\n",
       "      <th>high_price</th>\n",
       "      <th>low_price</th>\n",
       "      <th>close_price</th>\n",
       "    </tr>\n",
       "  </thead>\n",
       "  <tbody>\n",
       "    <tr>\n",
       "      <th>3115</th>\n",
       "      <td>2017-01-03</td>\n",
       "      <td>40.0310</td>\n",
       "      <td>40.5720</td>\n",
       "      <td>39.8445</td>\n",
       "      <td>40.4005</td>\n",
       "    </tr>\n",
       "    <tr>\n",
       "      <th>3116</th>\n",
       "      <td>2017-01-04</td>\n",
       "      <td>40.4945</td>\n",
       "      <td>40.6715</td>\n",
       "      <td>40.2055</td>\n",
       "      <td>40.3885</td>\n",
       "    </tr>\n",
       "    <tr>\n",
       "      <th>3117</th>\n",
       "      <td>2017-01-05</td>\n",
       "      <td>40.3750</td>\n",
       "      <td>40.6870</td>\n",
       "      <td>40.2960</td>\n",
       "      <td>40.6510</td>\n",
       "    </tr>\n",
       "    <tr>\n",
       "      <th>3118</th>\n",
       "      <td>2017-01-06</td>\n",
       "      <td>40.7495</td>\n",
       "      <td>41.4480</td>\n",
       "      <td>40.5750</td>\n",
       "      <td>41.2605</td>\n",
       "    </tr>\n",
       "    <tr>\n",
       "      <th>3119</th>\n",
       "      <td>2017-01-09</td>\n",
       "      <td>41.3185</td>\n",
       "      <td>41.5215</td>\n",
       "      <td>41.0810</td>\n",
       "      <td>41.3590</td>\n",
       "    </tr>\n",
       "  </tbody>\n",
       "</table>\n",
       "</div>"
      ],
      "text/plain": [
       "           Date  open_price  high_price  low_price  close_price\n",
       "3115 2017-01-03     40.0310     40.5720    39.8445      40.4005\n",
       "3116 2017-01-04     40.4945     40.6715    40.2055      40.3885\n",
       "3117 2017-01-05     40.3750     40.6870    40.2960      40.6510\n",
       "3118 2017-01-06     40.7495     41.4480    40.5750      41.2605\n",
       "3119 2017-01-09     41.3185     41.5215    41.0810      41.3590"
      ]
     },
     "execution_count": 9,
     "metadata": {},
     "output_type": "execute_result"
    }
   ],
   "source": [
    "gg_df = gg_df.drop(['adj_close','volume'], axis=1)\n",
    "\n",
    "gg_df.head()"
   ]
  },
  {
   "cell_type": "code",
   "execution_count": 10,
   "id": "f76cd750",
   "metadata": {},
   "outputs": [
    {
     "data": {
      "text/plain": [
       "3115   2017-01-03\n",
       "3116   2017-01-04\n",
       "3117   2017-01-05\n",
       "3118   2017-01-06\n",
       "3119   2017-01-09\n",
       "Name: Date, dtype: datetime64[ns]"
      ]
     },
     "execution_count": 10,
     "metadata": {},
     "output_type": "execute_result"
    }
   ],
   "source": [
    "# Create a date series for plotting purpose\n",
    "date_train = pd.to_datetime(gg_df['Date'])\n",
    "\n",
    "date_train.head()"
   ]
  },
  {
   "cell_type": "code",
   "execution_count": 11,
   "id": "9af7c5c6",
   "metadata": {},
   "outputs": [
    {
     "name": "stdout",
     "output_type": "stream",
     "text": [
      "['open_price', 'high_price', 'low_price', 'close_price']\n"
     ]
    }
   ],
   "source": [
    "# Select \"open, high, low, close\" as input features\n",
    "\n",
    "columns = list(gg_df)[1:5]\n",
    "\n",
    "print(columns)"
   ]
  },
  {
   "cell_type": "code",
   "execution_count": 12,
   "id": "bbd49dc7",
   "metadata": {},
   "outputs": [
    {
     "data": {
      "text/html": [
       "<div>\n",
       "<style scoped>\n",
       "    .dataframe tbody tr th:only-of-type {\n",
       "        vertical-align: middle;\n",
       "    }\n",
       "\n",
       "    .dataframe tbody tr th {\n",
       "        vertical-align: top;\n",
       "    }\n",
       "\n",
       "    .dataframe thead th {\n",
       "        text-align: right;\n",
       "    }\n",
       "</style>\n",
       "<table border=\"1\" class=\"dataframe\">\n",
       "  <thead>\n",
       "    <tr style=\"text-align: right;\">\n",
       "      <th></th>\n",
       "      <th>open_price</th>\n",
       "      <th>high_price</th>\n",
       "      <th>low_price</th>\n",
       "      <th>close_price</th>\n",
       "    </tr>\n",
       "  </thead>\n",
       "  <tbody>\n",
       "    <tr>\n",
       "      <th>3115</th>\n",
       "      <td>40.0310</td>\n",
       "      <td>40.5720</td>\n",
       "      <td>39.8445</td>\n",
       "      <td>40.4005</td>\n",
       "    </tr>\n",
       "    <tr>\n",
       "      <th>3116</th>\n",
       "      <td>40.4945</td>\n",
       "      <td>40.6715</td>\n",
       "      <td>40.2055</td>\n",
       "      <td>40.3885</td>\n",
       "    </tr>\n",
       "    <tr>\n",
       "      <th>3117</th>\n",
       "      <td>40.3750</td>\n",
       "      <td>40.6870</td>\n",
       "      <td>40.2960</td>\n",
       "      <td>40.6510</td>\n",
       "    </tr>\n",
       "    <tr>\n",
       "      <th>3118</th>\n",
       "      <td>40.7495</td>\n",
       "      <td>41.4480</td>\n",
       "      <td>40.5750</td>\n",
       "      <td>41.2605</td>\n",
       "    </tr>\n",
       "    <tr>\n",
       "      <th>3119</th>\n",
       "      <td>41.3185</td>\n",
       "      <td>41.5215</td>\n",
       "      <td>41.0810</td>\n",
       "      <td>41.3590</td>\n",
       "    </tr>\n",
       "  </tbody>\n",
       "</table>\n",
       "</div>"
      ],
      "text/plain": [
       "      open_price  high_price  low_price  close_price\n",
       "3115     40.0310     40.5720    39.8445      40.4005\n",
       "3116     40.4945     40.6715    40.2055      40.3885\n",
       "3117     40.3750     40.6870    40.2960      40.6510\n",
       "3118     40.7495     41.4480    40.5750      41.2605\n",
       "3119     41.3185     41.5215    41.0810      41.3590"
      ]
     },
     "execution_count": 12,
     "metadata": {},
     "output_type": "execute_result"
    }
   ],
   "source": [
    "# Create a new dataframe with only training data - 4 columns\n",
    "\n",
    "gg_training_df = gg_df[columns].astype(float)\n",
    "\n",
    "gg_training_df.head()"
   ]
  },
  {
   "cell_type": "code",
   "execution_count": 13,
   "id": "590596c0",
   "metadata": {},
   "outputs": [
    {
     "name": "stdout",
     "output_type": "stream",
     "text": [
      "(1438, 4)\n"
     ]
    }
   ],
   "source": [
    "# LSTM uses sigmoid and tanh that are sensitive to magnitude so values need to be normalized\n",
    "# scaled the traing dataset\n",
    "\n",
    "scaler = MinMaxScaler(feature_range=(0,1))\n",
    "# scaler = StandardScaler()\n",
    "scaler = scaler.fit(gg_training_df)\n",
    "scaled_training_data = scaler.transform(gg_training_df)\n",
    "\n",
    "print(scaled_training_data.shape)"
   ]
  },
  {
   "cell_type": "code",
   "execution_count": 14,
   "id": "06b89092",
   "metadata": {},
   "outputs": [],
   "source": [
    "# LSTM require to reshape the input data into (n_samples, timesteps, n_features). \n",
    "# This project we choose n_features=4 and timesteps = 30 (past days data used for training). \n",
    "# Create empty X_train and y_train list \n",
    "X_train = []\n",
    "y_train = []\n",
    "\n",
    "training_data_len = round(len(scaled_training_data)*0.8)\n",
    "# Define future days we want to predict and look-back days used for prediction\n",
    "\n",
    "look_back = 30 # number of days to be used for prediction\n",
    "num_future_days = 1 # number of days to be prediced\n",
    "\n",
    "for i in range(look_back, training_data_len-num_future_days+1):\n",
    "    X_train.append(scaled_training_data[i-look_back:i, 0:scaled_training_data.shape[1]])\n",
    "    y_train.append(scaled_training_data[i+num_future_days-1:i+num_future_days, 3])\n",
    "\n",
    "# Create X_test list\n",
    "\n",
    "X_test = []\n",
    "\n",
    "for j in range(training_data_len, len(scaled_training_data)-num_future_days+1):\n",
    "    X_test.append(scaled_training_data[j-look_back:j, 0:scaled_training_data.shape[1]])"
   ]
  },
  {
   "cell_type": "code",
   "execution_count": 15,
   "id": "a88ff3c6",
   "metadata": {},
   "outputs": [],
   "source": [
    "X_train, y_train, X_test = np.array(X_train), np.array(y_train), np.array(X_test)"
   ]
  },
  {
   "cell_type": "code",
   "execution_count": 16,
   "id": "62fb360f",
   "metadata": {},
   "outputs": [
    {
     "name": "stdout",
     "output_type": "stream",
     "text": [
      "(1120, 30, 4)\n",
      "(1120, 1)\n",
      "(288, 30, 4)\n"
     ]
    }
   ],
   "source": [
    "print(X_train.shape)\n",
    "print(y_train.shape)\n",
    "print(X_test.shape)"
   ]
  },
  {
   "cell_type": "code",
   "execution_count": 17,
   "id": "acf9b408",
   "metadata": {},
   "outputs": [
    {
     "name": "stdout",
     "output_type": "stream",
     "text": [
      "Model: \"sequential\"\n",
      "_________________________________________________________________\n",
      " Layer (type)                Output Shape              Param #   \n",
      "=================================================================\n",
      " lstm (LSTM)                 (None, 30, 200)           164000    \n",
      "                                                                 \n",
      " lstm_1 (LSTM)               (None, 100)               120400    \n",
      "                                                                 \n",
      " dense (Dense)               (None, 1)                 101       \n",
      "                                                                 \n",
      "=================================================================\n",
      "Total params: 284,501\n",
      "Trainable params: 284,501\n",
      "Non-trainable params: 0\n",
      "_________________________________________________________________\n"
     ]
    }
   ],
   "source": [
    "# Build the LSTM model\n",
    "\n",
    "model = Sequential()\n",
    "\n",
    "# Add two hidden layers\n",
    "# model.add(LSTM(units=64, activation='relu', input_shape=(X_train.shape[1], X_train.shape[2]), return_sequences=True))\n",
    "# model.add(LSTM(units=32, activation='relu', return_sequences=False))\n",
    "\n",
    "model.add(LSTM(units=200, input_shape=(X_train.shape[1], X_train.shape[2]), return_sequences=True))\n",
    "# model.add(LSTM(units=32, return_sequences=True))\n",
    "model.add(LSTM(units=100, return_sequences=False))\n",
    "# Add output layer, which contains 1 output\n",
    "model.add(Dense(units=1))\n",
    "\n",
    "# Complile the model \n",
    "model.compile(optimizer='adam', loss='mean_squared_error')\n",
    "model.summary()"
   ]
  },
  {
   "cell_type": "code",
   "execution_count": 18,
   "id": "274cae83",
   "metadata": {},
   "outputs": [
    {
     "name": "stdout",
     "output_type": "stream",
     "text": [
      "Epoch 1/10\n",
      "9/9 [==============================] - 5s 107ms/step - loss: 0.0192\n",
      "Epoch 2/10\n",
      "9/9 [==============================] - 1s 107ms/step - loss: 0.0030\n",
      "Epoch 3/10\n",
      "9/9 [==============================] - 1s 107ms/step - loss: 0.0012\n",
      "Epoch 4/10\n",
      "9/9 [==============================] - 1s 108ms/step - loss: 6.4847e-04\n",
      "Epoch 5/10\n",
      "9/9 [==============================] - 1s 109ms/step - loss: 5.0137e-04\n",
      "Epoch 6/10\n",
      "9/9 [==============================] - 1s 105ms/step - loss: 4.3352e-04\n",
      "Epoch 7/10\n",
      "9/9 [==============================] - 1s 110ms/step - loss: 4.1133e-04\n",
      "Epoch 8/10\n",
      "9/9 [==============================] - 1s 114ms/step - loss: 3.9669e-04\n",
      "Epoch 9/10\n",
      "9/9 [==============================] - 1s 108ms/step - loss: 3.9368e-04\n",
      "Epoch 10/10\n",
      "9/9 [==============================] - 1s 108ms/step - loss: 3.8588e-04\n"
     ]
    },
    {
     "data": {
      "text/plain": [
       "<keras.callbacks.History at 0x2308c7a04c8>"
      ]
     },
     "execution_count": 18,
     "metadata": {},
     "output_type": "execute_result"
    }
   ],
   "source": [
    "# Fit the model\n",
    "\n",
    "model.fit(X_train, y_train, batch_size =128, epochs=10, verbose=1)"
   ]
  },
  {
   "cell_type": "code",
   "execution_count": 19,
   "id": "dc6f79bd",
   "metadata": {},
   "outputs": [
    {
     "name": "stdout",
     "output_type": "stream",
     "text": [
      "9/9 [==============================] - 1s 14ms/step\n",
      "(288, 1)\n"
     ]
    }
   ],
   "source": [
    "# Test the model\n",
    "# Make prediction\n",
    "\n",
    "prediction = model.predict(X_test)\n",
    "\n",
    "print(prediction.shape)"
   ]
  },
  {
   "cell_type": "code",
   "execution_count": 20,
   "id": "8f33637c",
   "metadata": {},
   "outputs": [
    {
     "name": "stdout",
     "output_type": "stream",
     "text": [
      "[[0.8278112  0.8278112  0.8278112  0.8278112 ]\n",
      " [0.83707005 0.83707005 0.83707005 0.83707005]\n",
      " [0.84521043 0.84521043 0.84521043 0.84521043]\n",
      " ...\n",
      " [0.64119154 0.64119154 0.64119154 0.64119154]\n",
      " [0.6351612  0.6351612  0.6351612  0.6351612 ]\n",
      " [0.627868   0.627868   0.627868   0.627868  ]]\n"
     ]
    }
   ],
   "source": [
    "#Perform inverse transformation to rescale back to original range\n",
    "#Since we used 4 variables for transform, the inverse expects same dimensions\n",
    "#Therefore, we copy our prediction values 4 times and discard them after inverse transform\n",
    "\n",
    "prediction_copies = np.repeat(prediction, scaled_training_data.shape[1], axis=-1)\n",
    "print(prediction_copies)"
   ]
  },
  {
   "cell_type": "code",
   "execution_count": 21,
   "id": "27754412",
   "metadata": {},
   "outputs": [
    {
     "name": "stdout",
     "output_type": "stream",
     "text": [
      "(288,)\n"
     ]
    }
   ],
   "source": [
    "# Discard the extra columns\n",
    "y_pred = scaler.inverse_transform(prediction_copies)[:,0]\n",
    "print(y_pred.shape)"
   ]
  },
  {
   "cell_type": "code",
   "execution_count": 22,
   "id": "bd087e3b",
   "metadata": {},
   "outputs": [
    {
     "data": {
      "text/html": [
       "<div>\n",
       "<style scoped>\n",
       "    .dataframe tbody tr th:only-of-type {\n",
       "        vertical-align: middle;\n",
       "    }\n",
       "\n",
       "    .dataframe tbody tr th {\n",
       "        vertical-align: top;\n",
       "    }\n",
       "\n",
       "    .dataframe thead th {\n",
       "        text-align: right;\n",
       "    }\n",
       "</style>\n",
       "<table border=\"1\" class=\"dataframe\">\n",
       "  <thead>\n",
       "    <tr style=\"text-align: right;\">\n",
       "      <th></th>\n",
       "      <th>Date</th>\n",
       "      <th>close_price</th>\n",
       "    </tr>\n",
       "  </thead>\n",
       "  <tbody>\n",
       "    <tr>\n",
       "      <th>4265</th>\n",
       "      <td>2021-07-29</td>\n",
       "      <td>135.7775</td>\n",
       "    </tr>\n",
       "    <tr>\n",
       "      <th>4266</th>\n",
       "      <td>2021-07-30</td>\n",
       "      <td>134.7265</td>\n",
       "    </tr>\n",
       "    <tr>\n",
       "      <th>4267</th>\n",
       "      <td>2021-08-02</td>\n",
       "      <td>134.8545</td>\n",
       "    </tr>\n",
       "    <tr>\n",
       "      <th>4268</th>\n",
       "      <td>2021-08-03</td>\n",
       "      <td>135.6300</td>\n",
       "    </tr>\n",
       "    <tr>\n",
       "      <th>4269</th>\n",
       "      <td>2021-08-04</td>\n",
       "      <td>135.1255</td>\n",
       "    </tr>\n",
       "  </tbody>\n",
       "</table>\n",
       "</div>"
      ],
      "text/plain": [
       "           Date  close_price\n",
       "4265 2021-07-29     135.7775\n",
       "4266 2021-07-30     134.7265\n",
       "4267 2021-08-02     134.8545\n",
       "4268 2021-08-03     135.6300\n",
       "4269 2021-08-04     135.1255"
      ]
     },
     "execution_count": 22,
     "metadata": {},
     "output_type": "execute_result"
    }
   ],
   "source": [
    "# Create the y_test data to compare with the predictions\n",
    "\n",
    "close_df = pd.DataFrame({'Date':gg_df['Date'], 'close_price':gg_training_df['close_price']})\n",
    "y_test = close_df[training_data_len:]\n",
    "y_test.head()"
   ]
  },
  {
   "cell_type": "code",
   "execution_count": 23,
   "id": "ab817664",
   "metadata": {},
   "outputs": [
    {
     "name": "stdout",
     "output_type": "stream",
     "text": [
      "(288,)\n"
     ]
    }
   ],
   "source": [
    "print(y_test['close_price'].shape)"
   ]
  },
  {
   "cell_type": "code",
   "execution_count": 24,
   "id": "5066bdac",
   "metadata": {},
   "outputs": [
    {
     "name": "stdout",
     "output_type": "stream",
     "text": [
      "29.78063219540571\n"
     ]
    }
   ],
   "source": [
    "# Calculate the MSE\n",
    "\n",
    "print(mean_squared_error(y_test['close_price'], y_pred))"
   ]
  },
  {
   "cell_type": "code",
   "execution_count": 25,
   "id": "b120d1f6",
   "metadata": {},
   "outputs": [
    {
     "data": {
      "image/png": "[encoded data removed]",
      "text/plain": [
       "<Figure size 864x576 with 1 Axes>"
      ]
     },
     "metadata": {
      "needs_background": "light"
     },
     "output_type": "display_data"
    }
   ],
   "source": [
    "# plot test predictions\n",
    "\n",
    "plt.figure(figsize=(12, 8))\n",
    "plt.plot(date_train, gg_training_df['close_price'])\n",
    "plt.plot(y_test['Date'], y_pred, color='red', label='Predicted')\n",
    "plt.plot(y_test['Date'], y_test['close_price'], color='green', label='Actual')\n",
    "plt.xlabel('Date')\n",
    "plt.ylabel('Stock Price')\n",
    "\n",
    "plt.title(\"Google Stock Price predicted by LSTM Model\")\n",
    "plt.grid()\n",
    "plt.legend()\n",
    "plt.show()"
   ]
  },
  {
   "cell_type": "code",
   "execution_count": null,
   "id": "3871e95b",
   "metadata": {},
   "outputs": [],
   "source": []
  },
  {
   "cell_type": "code",
   "execution_count": null,
   "id": "841762a1",
   "metadata": {},
   "outputs": [],
   "source": []
  }
 ],
 "metadata": {
  "kernelspec": {
   "display_name": "mlenv",
   "language": "python",
   "name": "mlenv"
  },
  "language_info": {
   "codemirror_mode": {
    "name": "ipython",
    "version": 3
   },
   "file_extension": ".py",
   "mimetype": "text/x-python",
   "name": "python",
   "nbconvert_exporter": "python",
   "pygments_lexer": "ipython3",
   "version": "3.7.13"
  }
 },
 "nbformat": 4,
 "nbformat_minor": 5
}
