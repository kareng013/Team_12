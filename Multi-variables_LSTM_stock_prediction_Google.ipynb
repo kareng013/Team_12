{
 "cells": [
  {
   "cell_type": "code",
   "execution_count": 1,
   "id": "c674b192",
   "metadata": {},
   "outputs": [],
   "source": [
    "# Import dependencies\n",
    "import pandas as pd\n",
    "import numpy as np\n",
    "import matplotlib.pyplot as plt\n",
    "import psycopg2\n",
    "from config import PGHOST, PGDATABASE, PGUSER, PGPASSWORD\n",
    "\n",
    "\n",
    "from sklearn.preprocessing import MinMaxScaler\n",
    "from sklearn.preprocessing import StandardScaler\n",
    "from tensorflow.keras.models import Sequential\n",
    "from tensorflow.keras.optimizers import Adam\n",
    "from tensorflow.keras.layers import Dense, LSTM\n",
    "from sklearn.metrics import mean_squared_error"
   ]
  },
  {
   "cell_type": "code",
   "execution_count": 2,
   "id": "a14f9d77",
   "metadata": {},
   "outputs": [],
   "source": [
    "# Define a function to connect to AWS database instance\n",
    "\n",
    "def connect():\n",
    "    \n",
    "    # Set up a connection to the postgres server.\n",
    "    conn_string = \"host=\"+PGHOST +\" port=\"+ \"5432\" +\" dbname=\"+PGDATABASE +\" user=\" + PGUSER \\\n",
    "                  +\" password=\"+ PGPASSWORD\n",
    "    \n",
    "    conn = psycopg2.connect(conn_string)\n",
    "    print(\"Connected!\")\n",
    "\n",
    "    # Create a cursor object\n",
    "    cursor = conn.cursor()\n",
    "    \n",
    "    return conn, cursor"
   ]
  },
  {
   "cell_type": "code",
   "execution_count": 3,
   "id": "d33174ed",
   "metadata": {},
   "outputs": [
    {
     "name": "stdout",
     "output_type": "stream",
     "text": [
      "Connected!\n"
     ]
    }
   ],
   "source": [
    "conn, cursor = connect()"
   ]
  },
  {
   "cell_type": "code",
   "execution_count": 4,
   "id": "4f4b5f5e",
   "metadata": {},
   "outputs": [
    {
     "data": {
      "text/html": [
       "<div>\n",
       "<style scoped>\n",
       "    .dataframe tbody tr th:only-of-type {\n",
       "        vertical-align: middle;\n",
       "    }\n",
       "\n",
       "    .dataframe tbody tr th {\n",
       "        vertical-align: top;\n",
       "    }\n",
       "\n",
       "    .dataframe thead th {\n",
       "        text-align: right;\n",
       "    }\n",
       "</style>\n",
       "<table border=\"1\" class=\"dataframe\">\n",
       "  <thead>\n",
       "    <tr style=\"text-align: right;\">\n",
       "      <th></th>\n",
       "      <th>Date</th>\n",
       "      <th>open_price</th>\n",
       "      <th>high_price</th>\n",
       "      <th>low_price</th>\n",
       "      <th>close_price</th>\n",
       "      <th>adj_close</th>\n",
       "      <th>volume</th>\n",
       "    </tr>\n",
       "  </thead>\n",
       "  <tbody>\n",
       "    <tr>\n",
       "      <th>0</th>\n",
       "      <td>2004-08-19</td>\n",
       "      <td>2.502503</td>\n",
       "      <td>2.604104</td>\n",
       "      <td>2.401401</td>\n",
       "      <td>2.511011</td>\n",
       "      <td>2.511011</td>\n",
       "      <td>893181924</td>\n",
       "    </tr>\n",
       "    <tr>\n",
       "      <th>1</th>\n",
       "      <td>2004-08-20</td>\n",
       "      <td>2.527778</td>\n",
       "      <td>2.729730</td>\n",
       "      <td>2.515015</td>\n",
       "      <td>2.710460</td>\n",
       "      <td>2.710460</td>\n",
       "      <td>456686856</td>\n",
       "    </tr>\n",
       "    <tr>\n",
       "      <th>2</th>\n",
       "      <td>2004-08-23</td>\n",
       "      <td>2.771522</td>\n",
       "      <td>2.839840</td>\n",
       "      <td>2.728979</td>\n",
       "      <td>2.737738</td>\n",
       "      <td>2.737738</td>\n",
       "      <td>365122512</td>\n",
       "    </tr>\n",
       "    <tr>\n",
       "      <th>3</th>\n",
       "      <td>2004-08-24</td>\n",
       "      <td>2.783784</td>\n",
       "      <td>2.792793</td>\n",
       "      <td>2.591842</td>\n",
       "      <td>2.624374</td>\n",
       "      <td>2.624374</td>\n",
       "      <td>304946748</td>\n",
       "    </tr>\n",
       "    <tr>\n",
       "      <th>4</th>\n",
       "      <td>2004-08-25</td>\n",
       "      <td>2.626627</td>\n",
       "      <td>2.702703</td>\n",
       "      <td>2.599600</td>\n",
       "      <td>2.652653</td>\n",
       "      <td>2.652653</td>\n",
       "      <td>183772044</td>\n",
       "    </tr>\n",
       "  </tbody>\n",
       "</table>\n",
       "</div>"
      ],
      "text/plain": [
       "         Date  open_price  high_price  low_price  close_price  adj_close  \\\n",
       "0  2004-08-19    2.502503    2.604104   2.401401     2.511011   2.511011   \n",
       "1  2004-08-20    2.527778    2.729730   2.515015     2.710460   2.710460   \n",
       "2  2004-08-23    2.771522    2.839840   2.728979     2.737738   2.737738   \n",
       "3  2004-08-24    2.783784    2.792793   2.591842     2.624374   2.624374   \n",
       "4  2004-08-25    2.626627    2.702703   2.599600     2.652653   2.652653   \n",
       "\n",
       "      volume  \n",
       "0  893181924  \n",
       "1  456686856  \n",
       "2  365122512  \n",
       "3  304946748  \n",
       "4  183772044  "
      ]
     },
     "execution_count": 4,
     "metadata": {},
     "output_type": "execute_result"
    }
   ],
   "source": [
    "# Get the data, read SQL query into data frame\n",
    "gg_data = pd.read_sql_query(\"SELECT * FROM google\", con=conn)\n",
    "gg_df = pd.DataFrame(gg_data)\n",
    "gg_df.head()"
   ]
  },
  {
   "cell_type": "code",
   "execution_count": 5,
   "id": "eaad3fd4",
   "metadata": {},
   "outputs": [
    {
     "data": {
      "text/html": [
       "<div>\n",
       "<style scoped>\n",
       "    .dataframe tbody tr th:only-of-type {\n",
       "        vertical-align: middle;\n",
       "    }\n",
       "\n",
       "    .dataframe tbody tr th {\n",
       "        vertical-align: top;\n",
       "    }\n",
       "\n",
       "    .dataframe thead th {\n",
       "        text-align: right;\n",
       "    }\n",
       "</style>\n",
       "<table border=\"1\" class=\"dataframe\">\n",
       "  <thead>\n",
       "    <tr style=\"text-align: right;\">\n",
       "      <th></th>\n",
       "      <th>Date</th>\n",
       "      <th>open_price</th>\n",
       "      <th>high_price</th>\n",
       "      <th>low_price</th>\n",
       "      <th>close_price</th>\n",
       "    </tr>\n",
       "  </thead>\n",
       "  <tbody>\n",
       "    <tr>\n",
       "      <th>0</th>\n",
       "      <td>2004-08-19</td>\n",
       "      <td>2.502503</td>\n",
       "      <td>2.604104</td>\n",
       "      <td>2.401401</td>\n",
       "      <td>2.511011</td>\n",
       "    </tr>\n",
       "    <tr>\n",
       "      <th>1</th>\n",
       "      <td>2004-08-20</td>\n",
       "      <td>2.527778</td>\n",
       "      <td>2.729730</td>\n",
       "      <td>2.515015</td>\n",
       "      <td>2.710460</td>\n",
       "    </tr>\n",
       "    <tr>\n",
       "      <th>2</th>\n",
       "      <td>2004-08-23</td>\n",
       "      <td>2.771522</td>\n",
       "      <td>2.839840</td>\n",
       "      <td>2.728979</td>\n",
       "      <td>2.737738</td>\n",
       "    </tr>\n",
       "    <tr>\n",
       "      <th>3</th>\n",
       "      <td>2004-08-24</td>\n",
       "      <td>2.783784</td>\n",
       "      <td>2.792793</td>\n",
       "      <td>2.591842</td>\n",
       "      <td>2.624374</td>\n",
       "    </tr>\n",
       "    <tr>\n",
       "      <th>4</th>\n",
       "      <td>2004-08-25</td>\n",
       "      <td>2.626627</td>\n",
       "      <td>2.702703</td>\n",
       "      <td>2.599600</td>\n",
       "      <td>2.652653</td>\n",
       "    </tr>\n",
       "  </tbody>\n",
       "</table>\n",
       "</div>"
      ],
      "text/plain": [
       "         Date  open_price  high_price  low_price  close_price\n",
       "0  2004-08-19    2.502503    2.604104   2.401401     2.511011\n",
       "1  2004-08-20    2.527778    2.729730   2.515015     2.710460\n",
       "2  2004-08-23    2.771522    2.839840   2.728979     2.737738\n",
       "3  2004-08-24    2.783784    2.792793   2.591842     2.624374\n",
       "4  2004-08-25    2.626627    2.702703   2.599600     2.652653"
      ]
     },
     "execution_count": 5,
     "metadata": {},
     "output_type": "execute_result"
    }
   ],
   "source": [
    "gg_df = gg_df.drop(['adj_close','volume'], axis=1)\n",
    "\n",
    "gg_df.head()"
   ]
  },
  {
   "cell_type": "code",
   "execution_count": 6,
   "id": "f76cd750",
   "metadata": {},
   "outputs": [
    {
     "data": {
      "text/plain": [
       "0   2004-08-19\n",
       "1   2004-08-20\n",
       "2   2004-08-23\n",
       "3   2004-08-24\n",
       "4   2004-08-25\n",
       "Name: Date, dtype: datetime64[ns]"
      ]
     },
     "execution_count": 6,
     "metadata": {},
     "output_type": "execute_result"
    }
   ],
   "source": [
    "# Create a date series for plotting purpose\n",
    "date_train = pd.to_datetime(gg_df['Date'])\n",
    "\n",
    "date_train.head()"
   ]
  },
  {
   "cell_type": "code",
   "execution_count": 7,
   "id": "9af7c5c6",
   "metadata": {},
   "outputs": [
    {
     "name": "stdout",
     "output_type": "stream",
     "text": [
      "['open_price', 'high_price', 'low_price', 'close_price']\n"
     ]
    }
   ],
   "source": [
    "# Select \"open, high, low, close\" as input features\n",
    "\n",
    "columns = list(gg_df)[1:5]\n",
    "\n",
    "print(columns)"
   ]
  },
  {
   "cell_type": "code",
   "execution_count": 8,
   "id": "bbd49dc7",
   "metadata": {},
   "outputs": [
    {
     "data": {
      "text/html": [
       "<div>\n",
       "<style scoped>\n",
       "    .dataframe tbody tr th:only-of-type {\n",
       "        vertical-align: middle;\n",
       "    }\n",
       "\n",
       "    .dataframe tbody tr th {\n",
       "        vertical-align: top;\n",
       "    }\n",
       "\n",
       "    .dataframe thead th {\n",
       "        text-align: right;\n",
       "    }\n",
       "</style>\n",
       "<table border=\"1\" class=\"dataframe\">\n",
       "  <thead>\n",
       "    <tr style=\"text-align: right;\">\n",
       "      <th></th>\n",
       "      <th>open_price</th>\n",
       "      <th>high_price</th>\n",
       "      <th>low_price</th>\n",
       "      <th>close_price</th>\n",
       "    </tr>\n",
       "  </thead>\n",
       "  <tbody>\n",
       "    <tr>\n",
       "      <th>0</th>\n",
       "      <td>2.502503</td>\n",
       "      <td>2.604104</td>\n",
       "      <td>2.401401</td>\n",
       "      <td>2.511011</td>\n",
       "    </tr>\n",
       "    <tr>\n",
       "      <th>1</th>\n",
       "      <td>2.527778</td>\n",
       "      <td>2.729730</td>\n",
       "      <td>2.515015</td>\n",
       "      <td>2.710460</td>\n",
       "    </tr>\n",
       "    <tr>\n",
       "      <th>2</th>\n",
       "      <td>2.771522</td>\n",
       "      <td>2.839840</td>\n",
       "      <td>2.728979</td>\n",
       "      <td>2.737738</td>\n",
       "    </tr>\n",
       "    <tr>\n",
       "      <th>3</th>\n",
       "      <td>2.783784</td>\n",
       "      <td>2.792793</td>\n",
       "      <td>2.591842</td>\n",
       "      <td>2.624374</td>\n",
       "    </tr>\n",
       "    <tr>\n",
       "      <th>4</th>\n",
       "      <td>2.626627</td>\n",
       "      <td>2.702703</td>\n",
       "      <td>2.599600</td>\n",
       "      <td>2.652653</td>\n",
       "    </tr>\n",
       "  </tbody>\n",
       "</table>\n",
       "</div>"
      ],
      "text/plain": [
       "   open_price  high_price  low_price  close_price\n",
       "0    2.502503    2.604104   2.401401     2.511011\n",
       "1    2.527778    2.729730   2.515015     2.710460\n",
       "2    2.771522    2.839840   2.728979     2.737738\n",
       "3    2.783784    2.792793   2.591842     2.624374\n",
       "4    2.626627    2.702703   2.599600     2.652653"
      ]
     },
     "execution_count": 8,
     "metadata": {},
     "output_type": "execute_result"
    }
   ],
   "source": [
    "# Create a new dataframe with only training data - 4 columns\n",
    "\n",
    "gg_training_df = gg_df[columns].astype(float)\n",
    "\n",
    "gg_training_df.head()"
   ]
  },
  {
   "cell_type": "code",
   "execution_count": 9,
   "id": "590596c0",
   "metadata": {},
   "outputs": [
    {
     "name": "stdout",
     "output_type": "stream",
     "text": [
      "(4553, 4)\n"
     ]
    }
   ],
   "source": [
    "# LSTM uses sigmoid and tanh that are sensitive to magnitude so values need to be normalized\n",
    "# scaled the traing dataset\n",
    "\n",
    "scaler = MinMaxScaler(feature_range=(0,1))\n",
    "# scaler = StandardScaler()\n",
    "scaler = scaler.fit(gg_training_df)\n",
    "scaled_training_data = scaler.transform(gg_training_df)\n",
    "\n",
    "print(scaled_training_data.shape)"
   ]
  },
  {
   "cell_type": "code",
   "execution_count": 10,
   "id": "06b89092",
   "metadata": {},
   "outputs": [],
   "source": [
    "# LSTM require to reshape the input data into (n_samples, timesteps, n_features). \n",
    "# This project we choose n_features=4 and timesteps = 30 (past days data used for training). \n",
    "# Create empty X_train and y_train list \n",
    "X_train = []\n",
    "y_train = []\n",
    "\n",
    "training_data_len = round(len(scaled_training_data)*0.8)\n",
    "# Define future days we want to predict and look-back days used for prediction\n",
    "\n",
    "look_back = 30 # number of days to be used for prediction\n",
    "num_future_days = 1 # number of days to be prediced\n",
    "\n",
    "for i in range(look_back, training_data_len-num_future_days+1):\n",
    "    X_train.append(scaled_training_data[i-look_back:i, 0:scaled_training_data.shape[1]])\n",
    "    y_train.append(scaled_training_data[i+num_future_days-1:i+num_future_days, 3])\n",
    "\n",
    "# Create X_test list\n",
    "\n",
    "X_test = []\n",
    "\n",
    "for j in range(training_data_len, len(scaled_training_data)-num_future_days+1):\n",
    "    X_test.append(scaled_training_data[j-look_back:j, 0:scaled_training_data.shape[1]])"
   ]
  },
  {
   "cell_type": "code",
   "execution_count": 11,
   "id": "a88ff3c6",
   "metadata": {},
   "outputs": [],
   "source": [
    "X_train, y_train, X_test = np.array(X_train), np.array(y_train), np.array(X_test)"
   ]
  },
  {
   "cell_type": "code",
   "execution_count": 12,
   "id": "62fb360f",
   "metadata": {},
   "outputs": [
    {
     "name": "stdout",
     "output_type": "stream",
     "text": [
      "(3612, 30, 4)\n",
      "(3612, 1)\n",
      "(911, 30, 4)\n"
     ]
    }
   ],
   "source": [
    "print(X_train.shape)\n",
    "print(y_train.shape)\n",
    "print(X_test.shape)"
   ]
  },
  {
   "cell_type": "code",
   "execution_count": 13,
   "id": "acf9b408",
   "metadata": {},
   "outputs": [
    {
     "name": "stdout",
     "output_type": "stream",
     "text": [
      "Model: \"sequential\"\n",
      "_________________________________________________________________\n",
      " Layer (type)                Output Shape              Param #   \n",
      "=================================================================\n",
      " lstm (LSTM)                 (None, 30, 64)            17664     \n",
      "                                                                 \n",
      " lstm_1 (LSTM)               (None, 32)                12416     \n",
      "                                                                 \n",
      " dense (Dense)               (None, 1)                 33        \n",
      "                                                                 \n",
      "=================================================================\n",
      "Total params: 30,113\n",
      "Trainable params: 30,113\n",
      "Non-trainable params: 0\n",
      "_________________________________________________________________\n"
     ]
    }
   ],
   "source": [
    "# Build the LSTM model\n",
    "\n",
    "model = Sequential()\n",
    "\n",
    "# Add two hidden layers\n",
    "# model.add(LSTM(units=64, activation='relu', input_shape=(X_train.shape[1], X_train.shape[2]), return_sequences=True))\n",
    "# model.add(LSTM(units=32, activation='relu', return_sequences=False))\n",
    "\n",
    "model.add(LSTM(units=64, input_shape=(X_train.shape[1], X_train.shape[2]), return_sequences=True))\n",
    "model.add(LSTM(units=32, return_sequences=False))\n",
    "# Add output layer, which contains 1 output\n",
    "model.add(Dense(units=1))\n",
    "\n",
    "# Complile the model \n",
    "model.compile(optimizer='adam', loss='mean_squared_error')\n",
    "# model.compile(loss='categorical_crossentropy', optimizer='adam', \n",
    "#               metrics=[tf.keras.metrics.CategoricalAccuracy(), metrics.AUC(), metrics.Precision(), metrics.Recall()])\n",
    "model.summary()"
   ]
  },
  {
   "cell_type": "code",
   "execution_count": 14,
   "id": "274cae83",
   "metadata": {},
   "outputs": [
    {
     "name": "stdout",
     "output_type": "stream",
     "text": [
      "Epoch 1/20\n",
      "113/113 [==============================] - 6s 17ms/step - loss: 6.6612e-04\n",
      "Epoch 2/20\n",
      "113/113 [==============================] - 2s 17ms/step - loss: 4.3136e-05\n",
      "Epoch 3/20\n",
      "113/113 [==============================] - 2s 16ms/step - loss: 4.0508e-05\n",
      "Epoch 4/20\n",
      "113/113 [==============================] - 2s 16ms/step - loss: 4.2361e-05\n",
      "Epoch 5/20\n",
      "113/113 [==============================] - 2s 16ms/step - loss: 4.0164e-05\n",
      "Epoch 6/20\n",
      "113/113 [==============================] - 2s 16ms/step - loss: 4.1568e-05\n",
      "Epoch 7/20\n",
      "113/113 [==============================] - 2s 16ms/step - loss: 3.9055e-05\n",
      "Epoch 8/20\n",
      "113/113 [==============================] - 2s 16ms/step - loss: 3.9809e-05\n",
      "Epoch 9/20\n",
      "113/113 [==============================] - 2s 16ms/step - loss: 4.1726e-05\n",
      "Epoch 10/20\n",
      "113/113 [==============================] - 2s 15ms/step - loss: 3.8251e-05\n",
      "Epoch 11/20\n",
      "113/113 [==============================] - 2s 16ms/step - loss: 3.7851e-05\n",
      "Epoch 12/20\n",
      "113/113 [==============================] - 2s 16ms/step - loss: 3.7159e-05\n",
      "Epoch 13/20\n",
      "113/113 [==============================] - 2s 16ms/step - loss: 3.6845e-05\n",
      "Epoch 14/20\n",
      "113/113 [==============================] - 2s 16ms/step - loss: 2.9769e-05\n",
      "Epoch 15/20\n",
      "113/113 [==============================] - 2s 17ms/step - loss: 3.0618e-05\n",
      "Epoch 16/20\n",
      "113/113 [==============================] - 2s 17ms/step - loss: 3.6379e-05\n",
      "Epoch 17/20\n",
      "113/113 [==============================] - 2s 16ms/step - loss: 3.4798e-05\n",
      "Epoch 18/20\n",
      "113/113 [==============================] - 2s 16ms/step - loss: 2.8258e-05\n",
      "Epoch 19/20\n",
      "113/113 [==============================] - 2s 16ms/step - loss: 2.9587e-05\n",
      "Epoch 20/20\n",
      "113/113 [==============================] - 2s 16ms/step - loss: 3.0034e-05\n"
     ]
    },
    {
     "data": {
      "text/plain": [
       "<keras.callbacks.History at 0x21c7a01a348>"
      ]
     },
     "execution_count": 14,
     "metadata": {},
     "output_type": "execute_result"
    }
   ],
   "source": [
    "# Fit the model\n",
    "\n",
    "model.fit(X_train, y_train, batch_size =32, epochs=20, verbose=1)"
   ]
  },
  {
   "cell_type": "code",
   "execution_count": 15,
   "id": "dc6f79bd",
   "metadata": {},
   "outputs": [
    {
     "name": "stdout",
     "output_type": "stream",
     "text": [
      "29/29 [==============================] - 1s 6ms/step\n",
      "(911, 1)\n"
     ]
    }
   ],
   "source": [
    "# Test the model\n",
    "# Make prediction\n",
    "\n",
    "prediction = model.predict(X_test)\n",
    "\n",
    "print(prediction.shape)"
   ]
  },
  {
   "cell_type": "code",
   "execution_count": 16,
   "id": "8f33637c",
   "metadata": {},
   "outputs": [
    {
     "name": "stdout",
     "output_type": "stream",
     "text": [
      "[[0.36591765 0.36591765 0.36591765 0.36591765]\n",
      " [0.36613688 0.36613688 0.36613688 0.36613688]\n",
      " [0.3650403  0.3650403  0.3650403  0.3650403 ]\n",
      " ...\n",
      " [0.6994227  0.6994227  0.6994227  0.6994227 ]\n",
      " [0.69254065 0.69254065 0.69254065 0.69254065]\n",
      " [0.68473876 0.68473876 0.68473876 0.68473876]]\n"
     ]
    }
   ],
   "source": [
    "#Perform inverse transformation to rescale back to original range\n",
    "#Since we used 4 variables for transform, the inverse expects same dimensions\n",
    "#Therefore, we copy our prediction values 4 times and discard them after inverse transform\n",
    "\n",
    "prediction_copies = np.repeat(prediction, scaled_training_data.shape[1], axis=-1)\n",
    "print(prediction_copies)"
   ]
  },
  {
   "cell_type": "code",
   "execution_count": 17,
   "id": "27754412",
   "metadata": {},
   "outputs": [
    {
     "name": "stdout",
     "output_type": "stream",
     "text": [
      "(911,)\n"
     ]
    }
   ],
   "source": [
    "# Discard the extra columns\n",
    "y_pred = scaler.inverse_transform(prediction_copies)[:,0]\n",
    "print(y_pred.shape)"
   ]
  },
  {
   "cell_type": "code",
   "execution_count": 18,
   "id": "bd087e3b",
   "metadata": {},
   "outputs": [
    {
     "data": {
      "text/html": [
       "<div>\n",
       "<style scoped>\n",
       "    .dataframe tbody tr th:only-of-type {\n",
       "        vertical-align: middle;\n",
       "    }\n",
       "\n",
       "    .dataframe tbody tr th {\n",
       "        vertical-align: top;\n",
       "    }\n",
       "\n",
       "    .dataframe thead th {\n",
       "        text-align: right;\n",
       "    }\n",
       "</style>\n",
       "<table border=\"1\" class=\"dataframe\">\n",
       "  <thead>\n",
       "    <tr style=\"text-align: right;\">\n",
       "      <th></th>\n",
       "      <th>Date</th>\n",
       "      <th>close_price</th>\n",
       "    </tr>\n",
       "  </thead>\n",
       "  <tbody>\n",
       "    <tr>\n",
       "      <th>3642</th>\n",
       "      <td>2019-02-07</td>\n",
       "      <td>55.2955</td>\n",
       "    </tr>\n",
       "    <tr>\n",
       "      <th>3643</th>\n",
       "      <td>2019-02-08</td>\n",
       "      <td>55.1190</td>\n",
       "    </tr>\n",
       "    <tr>\n",
       "      <th>3644</th>\n",
       "      <td>2019-02-11</td>\n",
       "      <td>55.1060</td>\n",
       "    </tr>\n",
       "    <tr>\n",
       "      <th>3645</th>\n",
       "      <td>2019-02-12</td>\n",
       "      <td>56.3790</td>\n",
       "    </tr>\n",
       "    <tr>\n",
       "      <th>3646</th>\n",
       "      <td>2019-02-13</td>\n",
       "      <td>56.4315</td>\n",
       "    </tr>\n",
       "  </tbody>\n",
       "</table>\n",
       "</div>"
      ],
      "text/plain": [
       "            Date  close_price\n",
       "3642  2019-02-07      55.2955\n",
       "3643  2019-02-08      55.1190\n",
       "3644  2019-02-11      55.1060\n",
       "3645  2019-02-12      56.3790\n",
       "3646  2019-02-13      56.4315"
      ]
     },
     "execution_count": 18,
     "metadata": {},
     "output_type": "execute_result"
    }
   ],
   "source": [
    "# Create the y_test data to compare with the predictions\n",
    "\n",
    "close_df = pd.DataFrame({'Date':gg_df['Date'], 'close_price':gg_training_df['close_price']})\n",
    "y_test = close_df[training_data_len:]\n",
    "y_test.head()"
   ]
  },
  {
   "cell_type": "code",
   "execution_count": 19,
   "id": "ab817664",
   "metadata": {},
   "outputs": [
    {
     "name": "stdout",
     "output_type": "stream",
     "text": [
      "(911,)\n"
     ]
    }
   ],
   "source": [
    "print(y_test['close_price'].shape)"
   ]
  },
  {
   "cell_type": "code",
   "execution_count": 20,
   "id": "5066bdac",
   "metadata": {},
   "outputs": [
    {
     "name": "stdout",
     "output_type": "stream",
     "text": [
      "11.934827472076943\n"
     ]
    }
   ],
   "source": [
    "# Calculate the MSE\n",
    "\n",
    "print(mean_squared_error(y_test['close_price'], y_pred))"
   ]
  },
  {
   "cell_type": "code",
   "execution_count": 21,
   "id": "b120d1f6",
   "metadata": {},
   "outputs": [
    {
     "data": {
      "image/png": "[encoded data removed]",
      "text/plain": [
       "<Figure size 864x576 with 1 Axes>"
      ]
     },
     "metadata": {
      "needs_background": "light"
     },
     "output_type": "display_data"
    }
   ],
   "source": [
    "# plot test predictions\n",
    "\n",
    "plt.figure(figsize=(12, 8))\n",
    "plt.plot(date_train, gg_training_df['close_price'])\n",
    "plt.plot(y_test['Date'], y_pred, color='red', label='Predicted')\n",
    "plt.plot(y_test['Date'], y_test['close_price'], color='green', label='Actual')\n",
    "plt.xlabel('Date')\n",
    "plt.ylabel('Stock Price')\n",
    "\n",
    "plt.title(\"Google Stock Price predicted by LSTM Model\")\n",
    "plt.grid()\n",
    "plt.legend()\n",
    "plt.show()"
   ]
  },
  {
   "cell_type": "code",
   "execution_count": null,
   "id": "3871e95b",
   "metadata": {},
   "outputs": [],
   "source": []
  },
  {
   "cell_type": "code",
   "execution_count": null,
   "id": "841762a1",
   "metadata": {},
   "outputs": [],
   "source": []
  }
 ],
 "metadata": {
  "kernelspec": {
   "display_name": "mlenv",
   "language": "python",
   "name": "mlenv"
  },
  "language_info": {
   "codemirror_mode": {
    "name": "ipython",
    "version": 3
   },
   "file_extension": ".py",
   "mimetype": "text/x-python",
   "name": "python",
   "nbconvert_exporter": "python",
   "pygments_lexer": "ipython3",
   "version": "3.7.13"
  }
 },
 "nbformat": 4,
 "nbformat_minor": 5
}
