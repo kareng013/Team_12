{
 "cells": [
  {
   "cell_type": "code",
   "execution_count": 1,
   "id": "c674b192",
   "metadata": {},
   "outputs": [],
   "source": [
    "# Import dependencies\n",
    "import pandas as pd\n",
    "import numpy as np\n",
    "import matplotlib.pyplot as plt\n",
    "import psycopg2\n",
    "from config import PGHOST, PGDATABASE, PGUSER, PGPASSWORD\n",
    "\n",
    "from sklearn.preprocessing import MinMaxScaler\n",
    "from sklearn.preprocessing import StandardScaler\n",
    "from tensorflow.keras.models import Sequential\n",
    "from tensorflow.keras.optimizers import Adam\n",
    "from tensorflow.keras.layers import Dense, LSTM\n",
    "from sklearn.metrics import mean_squared_error"
   ]
  },
  {
   "cell_type": "code",
   "execution_count": 2,
   "id": "a14f9d77",
   "metadata": {},
   "outputs": [],
   "source": [
    "# Define a function to connect to AWS database instance\n",
    "\n",
    "def connect():\n",
    "    \n",
    "    # Set up a connection to the postgres server.\n",
    "    conn_string = \"host=\"+PGHOST +\" port=\"+ \"5432\" +\" dbname=\"+PGDATABASE +\" user=\" + PGUSER \\\n",
    "                  +\" password=\"+ PGPASSWORD\n",
    "    \n",
    "    conn = psycopg2.connect(conn_string)\n",
    "    print(\"Connected!\")\n",
    "\n",
    "    # Create a cursor object\n",
    "    cursor = conn.cursor()\n",
    "    \n",
    "    return conn, cursor"
   ]
  },
  {
   "cell_type": "code",
   "execution_count": 3,
   "id": "d33174ed",
   "metadata": {},
   "outputs": [
    {
     "name": "stdout",
     "output_type": "stream",
     "text": [
      "Connected!\n"
     ]
    }
   ],
   "source": [
    "conn, cursor = connect()"
   ]
  },
  {
   "cell_type": "code",
   "execution_count": 4,
   "id": "4f4b5f5e",
   "metadata": {},
   "outputs": [
    {
     "data": {
      "text/html": [
       "<div>\n",
       "<style scoped>\n",
       "    .dataframe tbody tr th:only-of-type {\n",
       "        vertical-align: middle;\n",
       "    }\n",
       "\n",
       "    .dataframe tbody tr th {\n",
       "        vertical-align: top;\n",
       "    }\n",
       "\n",
       "    .dataframe thead th {\n",
       "        text-align: right;\n",
       "    }\n",
       "</style>\n",
       "<table border=\"1\" class=\"dataframe\">\n",
       "  <thead>\n",
       "    <tr style=\"text-align: right;\">\n",
       "      <th></th>\n",
       "      <th>Date</th>\n",
       "      <th>open_price</th>\n",
       "      <th>high_price</th>\n",
       "      <th>low_price</th>\n",
       "      <th>close_price</th>\n",
       "      <th>adj_close</th>\n",
       "      <th>volume</th>\n",
       "    </tr>\n",
       "  </thead>\n",
       "  <tbody>\n",
       "    <tr>\n",
       "      <th>0</th>\n",
       "      <td>1999-02-04</td>\n",
       "      <td>2.145833</td>\n",
       "      <td>2.166667</td>\n",
       "      <td>1.895833</td>\n",
       "      <td>1.924479</td>\n",
       "      <td>1.924479</td>\n",
       "      <td>16788600</td>\n",
       "    </tr>\n",
       "    <tr>\n",
       "      <th>1</th>\n",
       "      <td>1999-02-05</td>\n",
       "      <td>1.929688</td>\n",
       "      <td>1.947917</td>\n",
       "      <td>1.822917</td>\n",
       "      <td>1.833333</td>\n",
       "      <td>1.833333</td>\n",
       "      <td>3053400</td>\n",
       "    </tr>\n",
       "    <tr>\n",
       "      <th>2</th>\n",
       "      <td>1999-02-08</td>\n",
       "      <td>1.854167</td>\n",
       "      <td>1.927083</td>\n",
       "      <td>1.783854</td>\n",
       "      <td>1.812500</td>\n",
       "      <td>1.812500</td>\n",
       "      <td>1548000</td>\n",
       "    </tr>\n",
       "    <tr>\n",
       "      <th>3</th>\n",
       "      <td>1999-02-09</td>\n",
       "      <td>1.822917</td>\n",
       "      <td>1.833333</td>\n",
       "      <td>1.656250</td>\n",
       "      <td>1.666667</td>\n",
       "      <td>1.666667</td>\n",
       "      <td>3501600</td>\n",
       "    </tr>\n",
       "    <tr>\n",
       "      <th>4</th>\n",
       "      <td>1999-02-10</td>\n",
       "      <td>1.708333</td>\n",
       "      <td>1.708333</td>\n",
       "      <td>1.604167</td>\n",
       "      <td>1.677083</td>\n",
       "      <td>1.677083</td>\n",
       "      <td>1597200</td>\n",
       "    </tr>\n",
       "  </tbody>\n",
       "</table>\n",
       "</div>"
      ],
      "text/plain": [
       "         Date  open_price  high_price  low_price  close_price  adj_close  \\\n",
       "0  1999-02-04    2.145833    2.166667   1.895833     1.924479   1.924479   \n",
       "1  1999-02-05    1.929688    1.947917   1.822917     1.833333   1.833333   \n",
       "2  1999-02-08    1.854167    1.927083   1.783854     1.812500   1.812500   \n",
       "3  1999-02-09    1.822917    1.833333   1.656250     1.666667   1.666667   \n",
       "4  1999-02-10    1.708333    1.708333   1.604167     1.677083   1.677083   \n",
       "\n",
       "     volume  \n",
       "0  16788600  \n",
       "1   3053400  \n",
       "2   1548000  \n",
       "3   3501600  \n",
       "4   1597200  "
      ]
     },
     "execution_count": 4,
     "metadata": {},
     "output_type": "execute_result"
    }
   ],
   "source": [
    "# Get the data, read SQL query into data frame\n",
    "bb_data = pd.read_sql_query(\"SELECT * FROM blackberry\", con=conn)\n",
    "bb_df = pd.DataFrame(bb_data)\n",
    "bb_df.head()"
   ]
  },
  {
   "cell_type": "code",
   "execution_count": 5,
   "id": "eaad3fd4",
   "metadata": {},
   "outputs": [
    {
     "data": {
      "text/html": [
       "<div>\n",
       "<style scoped>\n",
       "    .dataframe tbody tr th:only-of-type {\n",
       "        vertical-align: middle;\n",
       "    }\n",
       "\n",
       "    .dataframe tbody tr th {\n",
       "        vertical-align: top;\n",
       "    }\n",
       "\n",
       "    .dataframe thead th {\n",
       "        text-align: right;\n",
       "    }\n",
       "</style>\n",
       "<table border=\"1\" class=\"dataframe\">\n",
       "  <thead>\n",
       "    <tr style=\"text-align: right;\">\n",
       "      <th></th>\n",
       "      <th>Date</th>\n",
       "      <th>open_price</th>\n",
       "      <th>high_price</th>\n",
       "      <th>low_price</th>\n",
       "      <th>close_price</th>\n",
       "    </tr>\n",
       "  </thead>\n",
       "  <tbody>\n",
       "    <tr>\n",
       "      <th>0</th>\n",
       "      <td>1999-02-04</td>\n",
       "      <td>2.145833</td>\n",
       "      <td>2.166667</td>\n",
       "      <td>1.895833</td>\n",
       "      <td>1.924479</td>\n",
       "    </tr>\n",
       "    <tr>\n",
       "      <th>1</th>\n",
       "      <td>1999-02-05</td>\n",
       "      <td>1.929688</td>\n",
       "      <td>1.947917</td>\n",
       "      <td>1.822917</td>\n",
       "      <td>1.833333</td>\n",
       "    </tr>\n",
       "    <tr>\n",
       "      <th>2</th>\n",
       "      <td>1999-02-08</td>\n",
       "      <td>1.854167</td>\n",
       "      <td>1.927083</td>\n",
       "      <td>1.783854</td>\n",
       "      <td>1.812500</td>\n",
       "    </tr>\n",
       "    <tr>\n",
       "      <th>3</th>\n",
       "      <td>1999-02-09</td>\n",
       "      <td>1.822917</td>\n",
       "      <td>1.833333</td>\n",
       "      <td>1.656250</td>\n",
       "      <td>1.666667</td>\n",
       "    </tr>\n",
       "    <tr>\n",
       "      <th>4</th>\n",
       "      <td>1999-02-10</td>\n",
       "      <td>1.708333</td>\n",
       "      <td>1.708333</td>\n",
       "      <td>1.604167</td>\n",
       "      <td>1.677083</td>\n",
       "    </tr>\n",
       "  </tbody>\n",
       "</table>\n",
       "</div>"
      ],
      "text/plain": [
       "         Date  open_price  high_price  low_price  close_price\n",
       "0  1999-02-04    2.145833    2.166667   1.895833     1.924479\n",
       "1  1999-02-05    1.929688    1.947917   1.822917     1.833333\n",
       "2  1999-02-08    1.854167    1.927083   1.783854     1.812500\n",
       "3  1999-02-09    1.822917    1.833333   1.656250     1.666667\n",
       "4  1999-02-10    1.708333    1.708333   1.604167     1.677083"
      ]
     },
     "execution_count": 5,
     "metadata": {},
     "output_type": "execute_result"
    }
   ],
   "source": [
    "bb_df = bb_df.drop(['adj_close','volume'], axis=1)\n",
    "\n",
    "bb_df.head()"
   ]
  },
  {
   "cell_type": "code",
   "execution_count": 6,
   "id": "f76cd750",
   "metadata": {},
   "outputs": [
    {
     "data": {
      "text/plain": [
       "0   1999-02-04\n",
       "1   1999-02-05\n",
       "2   1999-02-08\n",
       "3   1999-02-09\n",
       "4   1999-02-10\n",
       "Name: Date, dtype: datetime64[ns]"
      ]
     },
     "execution_count": 6,
     "metadata": {},
     "output_type": "execute_result"
    }
   ],
   "source": [
    "# Create a date series for plotting purpose\n",
    "date_train = pd.to_datetime(bb_df['Date'])\n",
    "\n",
    "date_train.head()"
   ]
  },
  {
   "cell_type": "code",
   "execution_count": 7,
   "id": "9af7c5c6",
   "metadata": {},
   "outputs": [
    {
     "name": "stdout",
     "output_type": "stream",
     "text": [
      "['open_price', 'high_price', 'low_price', 'close_price']\n"
     ]
    }
   ],
   "source": [
    "# Select \"open, high, low, close\" as input features\n",
    "\n",
    "columns = list(bb_df)[1:5]\n",
    "\n",
    "print(columns)"
   ]
  },
  {
   "cell_type": "code",
   "execution_count": 8,
   "id": "bbd49dc7",
   "metadata": {},
   "outputs": [
    {
     "data": {
      "text/html": [
       "<div>\n",
       "<style scoped>\n",
       "    .dataframe tbody tr th:only-of-type {\n",
       "        vertical-align: middle;\n",
       "    }\n",
       "\n",
       "    .dataframe tbody tr th {\n",
       "        vertical-align: top;\n",
       "    }\n",
       "\n",
       "    .dataframe thead th {\n",
       "        text-align: right;\n",
       "    }\n",
       "</style>\n",
       "<table border=\"1\" class=\"dataframe\">\n",
       "  <thead>\n",
       "    <tr style=\"text-align: right;\">\n",
       "      <th></th>\n",
       "      <th>open_price</th>\n",
       "      <th>high_price</th>\n",
       "      <th>low_price</th>\n",
       "      <th>close_price</th>\n",
       "    </tr>\n",
       "  </thead>\n",
       "  <tbody>\n",
       "    <tr>\n",
       "      <th>0</th>\n",
       "      <td>2.145833</td>\n",
       "      <td>2.166667</td>\n",
       "      <td>1.895833</td>\n",
       "      <td>1.924479</td>\n",
       "    </tr>\n",
       "    <tr>\n",
       "      <th>1</th>\n",
       "      <td>1.929688</td>\n",
       "      <td>1.947917</td>\n",
       "      <td>1.822917</td>\n",
       "      <td>1.833333</td>\n",
       "    </tr>\n",
       "    <tr>\n",
       "      <th>2</th>\n",
       "      <td>1.854167</td>\n",
       "      <td>1.927083</td>\n",
       "      <td>1.783854</td>\n",
       "      <td>1.812500</td>\n",
       "    </tr>\n",
       "    <tr>\n",
       "      <th>3</th>\n",
       "      <td>1.822917</td>\n",
       "      <td>1.833333</td>\n",
       "      <td>1.656250</td>\n",
       "      <td>1.666667</td>\n",
       "    </tr>\n",
       "    <tr>\n",
       "      <th>4</th>\n",
       "      <td>1.708333</td>\n",
       "      <td>1.708333</td>\n",
       "      <td>1.604167</td>\n",
       "      <td>1.677083</td>\n",
       "    </tr>\n",
       "  </tbody>\n",
       "</table>\n",
       "</div>"
      ],
      "text/plain": [
       "   open_price  high_price  low_price  close_price\n",
       "0    2.145833    2.166667   1.895833     1.924479\n",
       "1    1.929688    1.947917   1.822917     1.833333\n",
       "2    1.854167    1.927083   1.783854     1.812500\n",
       "3    1.822917    1.833333   1.656250     1.666667\n",
       "4    1.708333    1.708333   1.604167     1.677083"
      ]
     },
     "execution_count": 8,
     "metadata": {},
     "output_type": "execute_result"
    }
   ],
   "source": [
    "# Create a new dataframe with only training data - 4 columns\n",
    "\n",
    "bb_training_df = bb_df[columns].astype(float)\n",
    "\n",
    "bb_training_df.head()"
   ]
  },
  {
   "cell_type": "code",
   "execution_count": 9,
   "id": "590596c0",
   "metadata": {},
   "outputs": [
    {
     "name": "stdout",
     "output_type": "stream",
     "text": [
      "(5945, 4)\n"
     ]
    }
   ],
   "source": [
    "# LSTM uses sigmoid and tanh that are sensitive to magnitude so values need to be normalized\n",
    "# scaled the traing dataset\n",
    "\n",
    "# scaler = MinMaxScaler(feature_range=(0,1))\n",
    "scaler = StandardScaler()\n",
    "scaler = scaler.fit(bb_training_df)\n",
    "scaled_training_data = scaler.transform(bb_training_df)\n",
    "\n",
    "print(scaled_training_data.shape)"
   ]
  },
  {
   "cell_type": "code",
   "execution_count": 10,
   "id": "06b89092",
   "metadata": {},
   "outputs": [],
   "source": [
    "# LSTM require to reshape the input data into (n_samples, timesteps, n_features). \n",
    "# This project we choose n_features=4 and timesteps = 30 (past days data used for training). \n",
    "# Create empty X_train and y_train list \n",
    "X_train = []\n",
    "y_train = []\n",
    "\n",
    "training_data_len = round(len(scaled_training_data)*0.8)\n",
    "# Define future days we want to predict and look-back days used for prediction\n",
    "\n",
    "look_back = 30 # number of days to be used for prediction\n",
    "num_future_days = 1 # number of days to be prediced\n",
    "\n",
    "for i in range(look_back, training_data_len-num_future_days+1):\n",
    "    X_train.append(scaled_training_data[i-look_back:i, 0:scaled_training_data.shape[1]])\n",
    "    y_train.append(scaled_training_data[i+num_future_days-1:i+num_future_days, 3])\n",
    "\n",
    "# Create X_test list\n",
    "\n",
    "X_test = []\n",
    "\n",
    "for j in range(training_data_len, len(scaled_training_data)-num_future_days+1):\n",
    "    X_test.append(scaled_training_data[j-look_back:j, 0:scaled_training_data.shape[1]])"
   ]
  },
  {
   "cell_type": "code",
   "execution_count": 11,
   "id": "a88ff3c6",
   "metadata": {},
   "outputs": [],
   "source": [
    "X_train, y_train, X_test = np.array(X_train), np.array(y_train), np.array(X_test)"
   ]
  },
  {
   "cell_type": "code",
   "execution_count": 12,
   "id": "62fb360f",
   "metadata": {},
   "outputs": [
    {
     "name": "stdout",
     "output_type": "stream",
     "text": [
      "(4726, 30, 4)\n",
      "(4726, 1)\n",
      "(1189, 30, 4)\n"
     ]
    }
   ],
   "source": [
    "print(X_train.shape)\n",
    "print(y_train.shape)\n",
    "print(X_test.shape)"
   ]
  },
  {
   "cell_type": "code",
   "execution_count": 13,
   "id": "acf9b408",
   "metadata": {},
   "outputs": [
    {
     "name": "stdout",
     "output_type": "stream",
     "text": [
      "Model: \"sequential\"\n",
      "_________________________________________________________________\n",
      " Layer (type)                Output Shape              Param #   \n",
      "=================================================================\n",
      " lstm (LSTM)                 (None, 30, 64)            17664     \n",
      "                                                                 \n",
      " lstm_1 (LSTM)               (None, 32)                12416     \n",
      "                                                                 \n",
      " dense (Dense)               (None, 1)                 33        \n",
      "                                                                 \n",
      "=================================================================\n",
      "Total params: 30,113\n",
      "Trainable params: 30,113\n",
      "Non-trainable params: 0\n",
      "_________________________________________________________________\n"
     ]
    }
   ],
   "source": [
    "# Build the LSTM model\n",
    "\n",
    "model = Sequential()\n",
    "\n",
    "# Add two hidden layers\n",
    "model.add(LSTM(units=64, activation='relu', input_shape=(X_train.shape[1], X_train.shape[2]), return_sequences=True))\n",
    "model.add(LSTM(units=32, activation='relu', return_sequences=False))\n",
    "\n",
    "# model.add(LSTM(units=64, input_shape=(X_train.shape[1], X_train.shape[2]), return_sequences=True))\n",
    "# model.add(LSTM(units=32, return_sequences=False))\n",
    "# Add output layer, which contains 1 output\n",
    "model.add(Dense(units=1))\n",
    "\n",
    "# Complile the model \n",
    "model.compile(optimizer='adam', loss='mean_squared_error')\n",
    "model.summary()"
   ]
  },
  {
   "cell_type": "code",
   "execution_count": 14,
   "id": "274cae83",
   "metadata": {},
   "outputs": [
    {
     "name": "stdout",
     "output_type": "stream",
     "text": [
      "Epoch 1/20\n",
      "148/148 [==============================] - 5s 15ms/step - loss: 0.0848\n",
      "Epoch 2/20\n",
      "148/148 [==============================] - 2s 15ms/step - loss: 0.0104\n",
      "Epoch 3/20\n",
      "148/148 [==============================] - 2s 15ms/step - loss: 0.0077\n",
      "Epoch 4/20\n",
      "148/148 [==============================] - 2s 16ms/step - loss: 0.0059\n",
      "Epoch 5/20\n",
      "148/148 [==============================] - 3s 18ms/step - loss: 0.0060\n",
      "Epoch 6/20\n",
      "148/148 [==============================] - 2s 15ms/step - loss: 0.0048\n",
      "Epoch 7/20\n",
      "148/148 [==============================] - 2s 15ms/step - loss: 0.0054\n",
      "Epoch 8/20\n",
      "148/148 [==============================] - 2s 15ms/step - loss: 0.0046\n",
      "Epoch 9/20\n",
      "148/148 [==============================] - 2s 15ms/step - loss: 0.0043\n",
      "Epoch 10/20\n",
      "148/148 [==============================] - 2s 16ms/step - loss: 0.0041\n",
      "Epoch 11/20\n",
      "148/148 [==============================] - 2s 15ms/step - loss: 0.0044\n",
      "Epoch 12/20\n",
      "148/148 [==============================] - 2s 16ms/step - loss: 0.0045\n",
      "Epoch 13/20\n",
      "148/148 [==============================] - 2s 15ms/step - loss: 0.0039\n",
      "Epoch 14/20\n",
      "148/148 [==============================] - 2s 15ms/step - loss: 0.0038\n",
      "Epoch 15/20\n",
      "148/148 [==============================] - 2s 14ms/step - loss: 0.0038\n",
      "Epoch 16/20\n",
      "148/148 [==============================] - 2s 15ms/step - loss: 0.0037\n",
      "Epoch 17/20\n",
      "148/148 [==============================] - 2s 15ms/step - loss: 0.0041\n",
      "Epoch 18/20\n",
      "148/148 [==============================] - 2s 16ms/step - loss: 0.0040\n",
      "Epoch 19/20\n",
      "148/148 [==============================] - 2s 15ms/step - loss: 0.0035\n",
      "Epoch 20/20\n",
      "148/148 [==============================] - 2s 16ms/step - loss: 0.0037\n"
     ]
    },
    {
     "data": {
      "text/plain": [
       "<keras.callbacks.History at 0x2d6be8e4188>"
      ]
     },
     "execution_count": 14,
     "metadata": {},
     "output_type": "execute_result"
    }
   ],
   "source": [
    "# Fit the model\n",
    "\n",
    "model.fit(X_train, y_train, batch_size =32, epochs=20, verbose=1)"
   ]
  },
  {
   "cell_type": "code",
   "execution_count": 15,
   "id": "dc6f79bd",
   "metadata": {},
   "outputs": [
    {
     "name": "stdout",
     "output_type": "stream",
     "text": [
      "38/38 [==============================] - 1s 6ms/step\n",
      "(1189, 1)\n"
     ]
    }
   ],
   "source": [
    "# Test the model\n",
    "# Make prediction\n",
    "\n",
    "prediction = model.predict(X_test)\n",
    "\n",
    "print(prediction.shape)"
   ]
  },
  {
   "cell_type": "code",
   "execution_count": 16,
   "id": "8f33637c",
   "metadata": {},
   "outputs": [
    {
     "name": "stdout",
     "output_type": "stream",
     "text": [
      "[[-0.3942929  -0.3942929  -0.3942929  -0.3942929 ]\n",
      " [-0.39650145 -0.39650145 -0.39650145 -0.39650145]\n",
      " [-0.39917102 -0.39917102 -0.39917102 -0.39917102]\n",
      " ...\n",
      " [-0.5888729  -0.5888729  -0.5888729  -0.5888729 ]\n",
      " [-0.5879654  -0.5879654  -0.5879654  -0.5879654 ]\n",
      " [-0.5911099  -0.5911099  -0.5911099  -0.5911099 ]]\n"
     ]
    }
   ],
   "source": [
    "#Perform inverse transformation to rescale back to original range\n",
    "#Since we used 4 variables for transform, the inverse expects same dimensions\n",
    "#Therefore, we copy our prediction values 4 times and discard them after inverse transform\n",
    "\n",
    "prediction_copies = np.repeat(prediction, scaled_training_data.shape[1], axis=-1)\n",
    "print(prediction_copies)"
   ]
  },
  {
   "cell_type": "code",
   "execution_count": 17,
   "id": "27754412",
   "metadata": {},
   "outputs": [
    {
     "name": "stdout",
     "output_type": "stream",
     "text": [
      "(1189,)\n"
     ]
    }
   ],
   "source": [
    "# Discard the extra columns\n",
    "y_pred = scaler.inverse_transform(prediction_copies)[:,0]\n",
    "print(y_pred.shape)"
   ]
  },
  {
   "cell_type": "code",
   "execution_count": 18,
   "id": "bd087e3b",
   "metadata": {},
   "outputs": [
    {
     "data": {
      "text/html": [
       "<div>\n",
       "<style scoped>\n",
       "    .dataframe tbody tr th:only-of-type {\n",
       "        vertical-align: middle;\n",
       "    }\n",
       "\n",
       "    .dataframe tbody tr th {\n",
       "        vertical-align: top;\n",
       "    }\n",
       "\n",
       "    .dataframe thead th {\n",
       "        text-align: right;\n",
       "    }\n",
       "</style>\n",
       "<table border=\"1\" class=\"dataframe\">\n",
       "  <thead>\n",
       "    <tr style=\"text-align: right;\">\n",
       "      <th></th>\n",
       "      <th>Date</th>\n",
       "      <th>close_price</th>\n",
       "    </tr>\n",
       "  </thead>\n",
       "  <tbody>\n",
       "    <tr>\n",
       "      <th>4756</th>\n",
       "      <td>2017-12-28</td>\n",
       "      <td>11.35</td>\n",
       "    </tr>\n",
       "    <tr>\n",
       "      <th>4757</th>\n",
       "      <td>2017-12-29</td>\n",
       "      <td>11.17</td>\n",
       "    </tr>\n",
       "    <tr>\n",
       "      <th>4758</th>\n",
       "      <td>2018-01-02</td>\n",
       "      <td>12.02</td>\n",
       "    </tr>\n",
       "    <tr>\n",
       "      <th>4759</th>\n",
       "      <td>2018-01-03</td>\n",
       "      <td>13.53</td>\n",
       "    </tr>\n",
       "    <tr>\n",
       "      <th>4760</th>\n",
       "      <td>2018-01-04</td>\n",
       "      <td>13.37</td>\n",
       "    </tr>\n",
       "  </tbody>\n",
       "</table>\n",
       "</div>"
      ],
      "text/plain": [
       "            Date  close_price\n",
       "4756  2017-12-28        11.35\n",
       "4757  2017-12-29        11.17\n",
       "4758  2018-01-02        12.02\n",
       "4759  2018-01-03        13.53\n",
       "4760  2018-01-04        13.37"
      ]
     },
     "execution_count": 18,
     "metadata": {},
     "output_type": "execute_result"
    }
   ],
   "source": [
    "# Create the y_test data to compare with the predictions\n",
    "\n",
    "close_df = pd.DataFrame({'Date':bb_df['Date'], 'close_price':bb_training_df['close_price']})\n",
    "y_test = close_df[training_data_len:]\n",
    "y_test.head()"
   ]
  },
  {
   "cell_type": "code",
   "execution_count": 19,
   "id": "7e3e5f8c",
   "metadata": {},
   "outputs": [
    {
     "name": "stdout",
     "output_type": "stream",
     "text": [
      "(1189,)\n"
     ]
    }
   ],
   "source": [
    "print(y_test['close_price'].shape)"
   ]
  },
  {
   "cell_type": "code",
   "execution_count": 20,
   "id": "900f1962",
   "metadata": {},
   "outputs": [
    {
     "name": "stdout",
     "output_type": "stream",
     "text": [
      "0.4396077839080615\n"
     ]
    }
   ],
   "source": [
    "# Calculate the MSE\n",
    "\n",
    "print(mean_squared_error(y_test['close_price'], y_pred))"
   ]
  },
  {
   "cell_type": "code",
   "execution_count": 21,
   "id": "b120d1f6",
   "metadata": {},
   "outputs": [
    {
     "data": {
      "image/png": "[encoded data removed]",
      "text/plain": [
       "<Figure size 864x576 with 1 Axes>"
      ]
     },
     "metadata": {
      "needs_background": "light"
     },
     "output_type": "display_data"
    }
   ],
   "source": [
    "# plot test predictions\n",
    "\n",
    "plt.figure(figsize=(12, 8))\n",
    "plt.plot(date_train, bb_training_df['close_price'])\n",
    "plt.plot(y_test['Date'], y_pred, color='red', label='Predicted')\n",
    "plt.plot(y_test['Date'], y_test['close_price'], color='green', label='Actual')\n",
    "plt.xlabel('Date')\n",
    "plt.ylabel('Stock Price')\n",
    "\n",
    "plt.title(\"Blackberry Stock Price predicted by LSTM Model\")\n",
    "plt.grid()\n",
    "plt.legend()\n",
    "plt.show()"
   ]
  },
  {
   "cell_type": "code",
   "execution_count": null,
   "id": "3871e95b",
   "metadata": {},
   "outputs": [],
   "source": []
  },
  {
   "cell_type": "code",
   "execution_count": null,
   "id": "12c97509",
   "metadata": {},
   "outputs": [],
   "source": []
  }
 ],
 "metadata": {
  "kernelspec": {
   "display_name": "mlenv",
   "language": "python",
   "name": "mlenv"
  },
  "language_info": {
   "codemirror_mode": {
    "name": "ipython",
    "version": 3
   },
   "file_extension": ".py",
   "mimetype": "text/x-python",
   "name": "python",
   "nbconvert_exporter": "python",
   "pygments_lexer": "ipython3",
   "version": "3.7.13"
  }
 },
 "nbformat": 4,
 "nbformat_minor": 5
}
