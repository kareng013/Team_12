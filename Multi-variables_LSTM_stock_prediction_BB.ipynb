{
 "cells": [
  {
   "cell_type": "code",
   "execution_count": 1,
   "id": "c674b192",
   "metadata": {},
   "outputs": [],
   "source": [
    "# Import dependencies\n",
    "import pandas as pd\n",
    "import numpy as np\n",
    "import matplotlib.pyplot as plt\n",
    "import psycopg2\n",
    "from config import PGHOST, PGDATABASE, PGUSER, PGPASSWORD\n",
    "\n",
    "from sklearn.preprocessing import MinMaxScaler\n",
    "from sklearn.preprocessing import StandardScaler\n",
    "from tensorflow.keras.models import Sequential\n",
    "from tensorflow.keras.optimizers import Adam\n",
    "from tensorflow.keras.layers import Dense, LSTM\n",
    "from sklearn.metrics import mean_squared_error"
   ]
  },
  {
   "cell_type": "code",
   "execution_count": 2,
   "id": "a14f9d77",
   "metadata": {},
   "outputs": [],
   "source": [
    "# Define a function to connect to AWS database instance\n",
    "\n",
    "def connect():\n",
    "    \n",
    "    # Set up a connection to the postgres server.\n",
    "    conn_string = \"host=\"+PGHOST +\" port=\"+ \"5432\" +\" dbname=\"+PGDATABASE +\" user=\" + PGUSER \\\n",
    "                  +\" password=\"+ PGPASSWORD\n",
    "    \n",
    "    conn = psycopg2.connect(conn_string)\n",
    "    print(\"Connected!\")\n",
    "\n",
    "    # Create a cursor object\n",
    "    cursor = conn.cursor()\n",
    "    \n",
    "    return conn, cursor"
   ]
  },
  {
   "cell_type": "code",
   "execution_count": 3,
   "id": "d33174ed",
   "metadata": {},
   "outputs": [
    {
     "name": "stdout",
     "output_type": "stream",
     "text": [
      "Connected!\n"
     ]
    }
   ],
   "source": [
    "conn, cursor = connect()"
   ]
  },
  {
   "cell_type": "code",
   "execution_count": 4,
   "id": "4f4b5f5e",
   "metadata": {},
   "outputs": [
    {
     "data": {
      "text/html": [
       "<div>\n",
       "<style scoped>\n",
       "    .dataframe tbody tr th:only-of-type {\n",
       "        vertical-align: middle;\n",
       "    }\n",
       "\n",
       "    .dataframe tbody tr th {\n",
       "        vertical-align: top;\n",
       "    }\n",
       "\n",
       "    .dataframe thead th {\n",
       "        text-align: right;\n",
       "    }\n",
       "</style>\n",
       "<table border=\"1\" class=\"dataframe\">\n",
       "  <thead>\n",
       "    <tr style=\"text-align: right;\">\n",
       "      <th></th>\n",
       "      <th>Date</th>\n",
       "      <th>open_price</th>\n",
       "      <th>high_price</th>\n",
       "      <th>low_price</th>\n",
       "      <th>close_price</th>\n",
       "      <th>adj_close</th>\n",
       "      <th>volume</th>\n",
       "    </tr>\n",
       "  </thead>\n",
       "  <tbody>\n",
       "    <tr>\n",
       "      <th>0</th>\n",
       "      <td>1999-02-04</td>\n",
       "      <td>2.145833</td>\n",
       "      <td>2.166667</td>\n",
       "      <td>1.895833</td>\n",
       "      <td>1.924479</td>\n",
       "      <td>1.924479</td>\n",
       "      <td>16788600</td>\n",
       "    </tr>\n",
       "    <tr>\n",
       "      <th>1</th>\n",
       "      <td>1999-02-05</td>\n",
       "      <td>1.929688</td>\n",
       "      <td>1.947917</td>\n",
       "      <td>1.822917</td>\n",
       "      <td>1.833333</td>\n",
       "      <td>1.833333</td>\n",
       "      <td>3053400</td>\n",
       "    </tr>\n",
       "    <tr>\n",
       "      <th>2</th>\n",
       "      <td>1999-02-08</td>\n",
       "      <td>1.854167</td>\n",
       "      <td>1.927083</td>\n",
       "      <td>1.783854</td>\n",
       "      <td>1.812500</td>\n",
       "      <td>1.812500</td>\n",
       "      <td>1548000</td>\n",
       "    </tr>\n",
       "    <tr>\n",
       "      <th>3</th>\n",
       "      <td>1999-02-09</td>\n",
       "      <td>1.822917</td>\n",
       "      <td>1.833333</td>\n",
       "      <td>1.656250</td>\n",
       "      <td>1.666667</td>\n",
       "      <td>1.666667</td>\n",
       "      <td>3501600</td>\n",
       "    </tr>\n",
       "    <tr>\n",
       "      <th>4</th>\n",
       "      <td>1999-02-10</td>\n",
       "      <td>1.708333</td>\n",
       "      <td>1.708333</td>\n",
       "      <td>1.604167</td>\n",
       "      <td>1.677083</td>\n",
       "      <td>1.677083</td>\n",
       "      <td>1597200</td>\n",
       "    </tr>\n",
       "  </tbody>\n",
       "</table>\n",
       "</div>"
      ],
      "text/plain": [
       "         Date  open_price  high_price  low_price  close_price  adj_close  \\\n",
       "0  1999-02-04    2.145833    2.166667   1.895833     1.924479   1.924479   \n",
       "1  1999-02-05    1.929688    1.947917   1.822917     1.833333   1.833333   \n",
       "2  1999-02-08    1.854167    1.927083   1.783854     1.812500   1.812500   \n",
       "3  1999-02-09    1.822917    1.833333   1.656250     1.666667   1.666667   \n",
       "4  1999-02-10    1.708333    1.708333   1.604167     1.677083   1.677083   \n",
       "\n",
       "     volume  \n",
       "0  16788600  \n",
       "1   3053400  \n",
       "2   1548000  \n",
       "3   3501600  \n",
       "4   1597200  "
      ]
     },
     "execution_count": 4,
     "metadata": {},
     "output_type": "execute_result"
    }
   ],
   "source": [
    "# Get the data, read SQL query into data frame\n",
    "bb_data = pd.read_sql_query(\"SELECT * FROM blackberry\", con=conn)\n",
    "bb_df = pd.DataFrame(bb_data)\n",
    "bb_df.head()"
   ]
  },
  {
   "cell_type": "code",
   "execution_count": 5,
   "id": "03a17c81",
   "metadata": {},
   "outputs": [
    {
     "name": "stdout",
     "output_type": "stream",
     "text": [
      "(5945, 7)\n"
     ]
    }
   ],
   "source": [
    "# Check the rows and columns of dfs\n",
    "print(bb_df.shape)"
   ]
  },
  {
   "cell_type": "code",
   "execution_count": 6,
   "id": "7d508ff1",
   "metadata": {},
   "outputs": [
    {
     "data": {
      "text/plain": [
       "Date           0\n",
       "open_price     0\n",
       "high_price     0\n",
       "low_price      0\n",
       "close_price    0\n",
       "adj_close      0\n",
       "volume         0\n",
       "dtype: int64"
      ]
     },
     "execution_count": 6,
     "metadata": {},
     "output_type": "execute_result"
    }
   ],
   "source": [
    "# Check if there is null values\n",
    "bb_df.isnull().sum()"
   ]
  },
  {
   "cell_type": "code",
   "execution_count": 7,
   "id": "e76b5fb4",
   "metadata": {},
   "outputs": [
    {
     "name": "stdout",
     "output_type": "stream",
     "text": [
      "<class 'pandas.core.frame.DataFrame'>\n",
      "RangeIndex: 5945 entries, 0 to 5944\n",
      "Data columns (total 7 columns):\n",
      " #   Column       Non-Null Count  Dtype  \n",
      "---  ------       --------------  -----  \n",
      " 0   Date         5945 non-null   object \n",
      " 1   open_price   5945 non-null   float64\n",
      " 2   high_price   5945 non-null   float64\n",
      " 3   low_price    5945 non-null   float64\n",
      " 4   close_price  5945 non-null   float64\n",
      " 5   adj_close    5945 non-null   float64\n",
      " 6   volume       5945 non-null   int64  \n",
      "dtypes: float64(5), int64(1), object(1)\n",
      "memory usage: 325.2+ KB\n"
     ]
    }
   ],
   "source": [
    "# Check the data types in df\n",
    "bb_df.info()"
   ]
  },
  {
   "cell_type": "code",
   "execution_count": 8,
   "id": "719686a0",
   "metadata": {},
   "outputs": [
    {
     "data": {
      "text/html": [
       "<div>\n",
       "<style scoped>\n",
       "    .dataframe tbody tr th:only-of-type {\n",
       "        vertical-align: middle;\n",
       "    }\n",
       "\n",
       "    .dataframe tbody tr th {\n",
       "        vertical-align: top;\n",
       "    }\n",
       "\n",
       "    .dataframe thead th {\n",
       "        text-align: right;\n",
       "    }\n",
       "</style>\n",
       "<table border=\"1\" class=\"dataframe\">\n",
       "  <thead>\n",
       "    <tr style=\"text-align: right;\">\n",
       "      <th></th>\n",
       "      <th>Date</th>\n",
       "      <th>open_price</th>\n",
       "      <th>high_price</th>\n",
       "      <th>low_price</th>\n",
       "      <th>close_price</th>\n",
       "      <th>adj_close</th>\n",
       "      <th>volume</th>\n",
       "    </tr>\n",
       "  </thead>\n",
       "  <tbody>\n",
       "    <tr>\n",
       "      <th>4507</th>\n",
       "      <td>2017-01-03</td>\n",
       "      <td>6.93</td>\n",
       "      <td>7.01</td>\n",
       "      <td>6.86</td>\n",
       "      <td>6.96</td>\n",
       "      <td>6.96</td>\n",
       "      <td>4903000</td>\n",
       "    </tr>\n",
       "    <tr>\n",
       "      <th>4508</th>\n",
       "      <td>2017-01-04</td>\n",
       "      <td>7.04</td>\n",
       "      <td>7.15</td>\n",
       "      <td>7.00</td>\n",
       "      <td>7.11</td>\n",
       "      <td>7.11</td>\n",
       "      <td>4255700</td>\n",
       "    </tr>\n",
       "    <tr>\n",
       "      <th>4509</th>\n",
       "      <td>2017-01-05</td>\n",
       "      <td>7.13</td>\n",
       "      <td>7.24</td>\n",
       "      <td>7.09</td>\n",
       "      <td>7.12</td>\n",
       "      <td>7.12</td>\n",
       "      <td>3259300</td>\n",
       "    </tr>\n",
       "    <tr>\n",
       "      <th>4510</th>\n",
       "      <td>2017-01-06</td>\n",
       "      <td>7.11</td>\n",
       "      <td>7.16</td>\n",
       "      <td>7.04</td>\n",
       "      <td>7.16</td>\n",
       "      <td>7.16</td>\n",
       "      <td>3898000</td>\n",
       "    </tr>\n",
       "    <tr>\n",
       "      <th>4511</th>\n",
       "      <td>2017-01-09</td>\n",
       "      <td>7.15</td>\n",
       "      <td>7.19</td>\n",
       "      <td>7.07</td>\n",
       "      <td>7.12</td>\n",
       "      <td>7.12</td>\n",
       "      <td>2898500</td>\n",
       "    </tr>\n",
       "  </tbody>\n",
       "</table>\n",
       "</div>"
      ],
      "text/plain": [
       "           Date  open_price  high_price  low_price  close_price  adj_close  \\\n",
       "4507 2017-01-03        6.93        7.01       6.86         6.96       6.96   \n",
       "4508 2017-01-04        7.04        7.15       7.00         7.11       7.11   \n",
       "4509 2017-01-05        7.13        7.24       7.09         7.12       7.12   \n",
       "4510 2017-01-06        7.11        7.16       7.04         7.16       7.16   \n",
       "4511 2017-01-09        7.15        7.19       7.07         7.12       7.12   \n",
       "\n",
       "       volume  \n",
       "4507  4903000  \n",
       "4508  4255700  \n",
       "4509  3259300  \n",
       "4510  3898000  \n",
       "4511  2898500  "
      ]
     },
     "execution_count": 8,
     "metadata": {},
     "output_type": "execute_result"
    }
   ],
   "source": [
    "# change the date column data tpye\n",
    "bb_df['Date'] = pd.to_datetime(bb_df.Date)\n",
    "# set date as frame index\n",
    "bb_df.set_index('Date')\n",
    "# select data after year 2017\n",
    "bb_df = bb_df.loc[bb_df.Date >='2017-01-01']\n",
    "\n",
    "bb_df.head()"
   ]
  },
  {
   "cell_type": "code",
   "execution_count": 9,
   "id": "eaad3fd4",
   "metadata": {},
   "outputs": [
    {
     "data": {
      "text/html": [
       "<div>\n",
       "<style scoped>\n",
       "    .dataframe tbody tr th:only-of-type {\n",
       "        vertical-align: middle;\n",
       "    }\n",
       "\n",
       "    .dataframe tbody tr th {\n",
       "        vertical-align: top;\n",
       "    }\n",
       "\n",
       "    .dataframe thead th {\n",
       "        text-align: right;\n",
       "    }\n",
       "</style>\n",
       "<table border=\"1\" class=\"dataframe\">\n",
       "  <thead>\n",
       "    <tr style=\"text-align: right;\">\n",
       "      <th></th>\n",
       "      <th>Date</th>\n",
       "      <th>open_price</th>\n",
       "      <th>high_price</th>\n",
       "      <th>low_price</th>\n",
       "      <th>close_price</th>\n",
       "    </tr>\n",
       "  </thead>\n",
       "  <tbody>\n",
       "    <tr>\n",
       "      <th>4507</th>\n",
       "      <td>2017-01-03</td>\n",
       "      <td>6.93</td>\n",
       "      <td>7.01</td>\n",
       "      <td>6.86</td>\n",
       "      <td>6.96</td>\n",
       "    </tr>\n",
       "    <tr>\n",
       "      <th>4508</th>\n",
       "      <td>2017-01-04</td>\n",
       "      <td>7.04</td>\n",
       "      <td>7.15</td>\n",
       "      <td>7.00</td>\n",
       "      <td>7.11</td>\n",
       "    </tr>\n",
       "    <tr>\n",
       "      <th>4509</th>\n",
       "      <td>2017-01-05</td>\n",
       "      <td>7.13</td>\n",
       "      <td>7.24</td>\n",
       "      <td>7.09</td>\n",
       "      <td>7.12</td>\n",
       "    </tr>\n",
       "    <tr>\n",
       "      <th>4510</th>\n",
       "      <td>2017-01-06</td>\n",
       "      <td>7.11</td>\n",
       "      <td>7.16</td>\n",
       "      <td>7.04</td>\n",
       "      <td>7.16</td>\n",
       "    </tr>\n",
       "    <tr>\n",
       "      <th>4511</th>\n",
       "      <td>2017-01-09</td>\n",
       "      <td>7.15</td>\n",
       "      <td>7.19</td>\n",
       "      <td>7.07</td>\n",
       "      <td>7.12</td>\n",
       "    </tr>\n",
       "  </tbody>\n",
       "</table>\n",
       "</div>"
      ],
      "text/plain": [
       "           Date  open_price  high_price  low_price  close_price\n",
       "4507 2017-01-03        6.93        7.01       6.86         6.96\n",
       "4508 2017-01-04        7.04        7.15       7.00         7.11\n",
       "4509 2017-01-05        7.13        7.24       7.09         7.12\n",
       "4510 2017-01-06        7.11        7.16       7.04         7.16\n",
       "4511 2017-01-09        7.15        7.19       7.07         7.12"
      ]
     },
     "execution_count": 9,
     "metadata": {},
     "output_type": "execute_result"
    }
   ],
   "source": [
    "bb_df = bb_df.drop(['adj_close','volume'], axis=1)\n",
    "\n",
    "bb_df.head()"
   ]
  },
  {
   "cell_type": "code",
   "execution_count": 10,
   "id": "f76cd750",
   "metadata": {},
   "outputs": [
    {
     "data": {
      "text/plain": [
       "4507   2017-01-03\n",
       "4508   2017-01-04\n",
       "4509   2017-01-05\n",
       "4510   2017-01-06\n",
       "4511   2017-01-09\n",
       "Name: Date, dtype: datetime64[ns]"
      ]
     },
     "execution_count": 10,
     "metadata": {},
     "output_type": "execute_result"
    }
   ],
   "source": [
    "# Create a date series for plotting purpose\n",
    "date_train = pd.to_datetime(bb_df['Date'])\n",
    "\n",
    "date_train.head()"
   ]
  },
  {
   "cell_type": "code",
   "execution_count": 11,
   "id": "9af7c5c6",
   "metadata": {},
   "outputs": [
    {
     "name": "stdout",
     "output_type": "stream",
     "text": [
      "['open_price', 'high_price', 'low_price', 'close_price']\n"
     ]
    }
   ],
   "source": [
    "# Select \"open, high, low, close\" as input features\n",
    "\n",
    "columns = list(bb_df)[1:5]\n",
    "\n",
    "print(columns)"
   ]
  },
  {
   "cell_type": "code",
   "execution_count": 12,
   "id": "bbd49dc7",
   "metadata": {},
   "outputs": [
    {
     "data": {
      "text/html": [
       "<div>\n",
       "<style scoped>\n",
       "    .dataframe tbody tr th:only-of-type {\n",
       "        vertical-align: middle;\n",
       "    }\n",
       "\n",
       "    .dataframe tbody tr th {\n",
       "        vertical-align: top;\n",
       "    }\n",
       "\n",
       "    .dataframe thead th {\n",
       "        text-align: right;\n",
       "    }\n",
       "</style>\n",
       "<table border=\"1\" class=\"dataframe\">\n",
       "  <thead>\n",
       "    <tr style=\"text-align: right;\">\n",
       "      <th></th>\n",
       "      <th>open_price</th>\n",
       "      <th>high_price</th>\n",
       "      <th>low_price</th>\n",
       "      <th>close_price</th>\n",
       "    </tr>\n",
       "  </thead>\n",
       "  <tbody>\n",
       "    <tr>\n",
       "      <th>4507</th>\n",
       "      <td>6.93</td>\n",
       "      <td>7.01</td>\n",
       "      <td>6.86</td>\n",
       "      <td>6.96</td>\n",
       "    </tr>\n",
       "    <tr>\n",
       "      <th>4508</th>\n",
       "      <td>7.04</td>\n",
       "      <td>7.15</td>\n",
       "      <td>7.00</td>\n",
       "      <td>7.11</td>\n",
       "    </tr>\n",
       "    <tr>\n",
       "      <th>4509</th>\n",
       "      <td>7.13</td>\n",
       "      <td>7.24</td>\n",
       "      <td>7.09</td>\n",
       "      <td>7.12</td>\n",
       "    </tr>\n",
       "    <tr>\n",
       "      <th>4510</th>\n",
       "      <td>7.11</td>\n",
       "      <td>7.16</td>\n",
       "      <td>7.04</td>\n",
       "      <td>7.16</td>\n",
       "    </tr>\n",
       "    <tr>\n",
       "      <th>4511</th>\n",
       "      <td>7.15</td>\n",
       "      <td>7.19</td>\n",
       "      <td>7.07</td>\n",
       "      <td>7.12</td>\n",
       "    </tr>\n",
       "  </tbody>\n",
       "</table>\n",
       "</div>"
      ],
      "text/plain": [
       "      open_price  high_price  low_price  close_price\n",
       "4507        6.93        7.01       6.86         6.96\n",
       "4508        7.04        7.15       7.00         7.11\n",
       "4509        7.13        7.24       7.09         7.12\n",
       "4510        7.11        7.16       7.04         7.16\n",
       "4511        7.15        7.19       7.07         7.12"
      ]
     },
     "execution_count": 12,
     "metadata": {},
     "output_type": "execute_result"
    }
   ],
   "source": [
    "# Create a new dataframe with only training data - 4 columns\n",
    "\n",
    "bb_training_df = bb_df[columns].astype(float)\n",
    "\n",
    "bb_training_df.head()"
   ]
  },
  {
   "cell_type": "code",
   "execution_count": 13,
   "id": "590596c0",
   "metadata": {},
   "outputs": [
    {
     "name": "stdout",
     "output_type": "stream",
     "text": [
      "(1438, 4)\n"
     ]
    }
   ],
   "source": [
    "# LSTM uses sigmoid and tanh that are sensitive to magnitude so values need to be normalized\n",
    "# scaled the traing dataset\n",
    "\n",
    "scaler = MinMaxScaler(feature_range=(0,1))\n",
    "# scaler = StandardScaler()\n",
    "scaler = scaler.fit(bb_training_df)\n",
    "scaled_training_data = scaler.transform(bb_training_df)\n",
    "\n",
    "print(scaled_training_data.shape)"
   ]
  },
  {
   "cell_type": "code",
   "execution_count": 14,
   "id": "06b89092",
   "metadata": {},
   "outputs": [],
   "source": [
    "# LSTM require to reshape the input data into (n_samples, timesteps, n_features). \n",
    "# This project we choose n_features=4 and timesteps = 30 (past days data used for training). \n",
    "# Create empty X_train and y_train list \n",
    "X_train = []\n",
    "y_train = []\n",
    "\n",
    "training_data_len = round(len(scaled_training_data)*0.8)\n",
    "# Define future days we want to predict and look-back days used for prediction\n",
    "\n",
    "look_back = 30 # number of days to be used for prediction\n",
    "num_future_days = 1 # number of days to be prediced\n",
    "\n",
    "for i in range(look_back, training_data_len-num_future_days+1):\n",
    "    X_train.append(scaled_training_data[i-look_back:i, 0:scaled_training_data.shape[1]])\n",
    "    y_train.append(scaled_training_data[i+num_future_days-1:i+num_future_days, 3])\n",
    "\n",
    "# Create X_test list\n",
    "\n",
    "X_test = []\n",
    "\n",
    "for j in range(training_data_len, len(scaled_training_data)-num_future_days+1):\n",
    "    X_test.append(scaled_training_data[j-look_back:j, 0:scaled_training_data.shape[1]])"
   ]
  },
  {
   "cell_type": "code",
   "execution_count": 15,
   "id": "a88ff3c6",
   "metadata": {},
   "outputs": [],
   "source": [
    "X_train, y_train, X_test = np.array(X_train), np.array(y_train), np.array(X_test)"
   ]
  },
  {
   "cell_type": "code",
   "execution_count": 16,
   "id": "62fb360f",
   "metadata": {},
   "outputs": [
    {
     "name": "stdout",
     "output_type": "stream",
     "text": [
      "(1120, 30, 4)\n",
      "(1120, 1)\n",
      "(288, 30, 4)\n"
     ]
    }
   ],
   "source": [
    "print(X_train.shape)\n",
    "print(y_train.shape)\n",
    "print(X_test.shape)"
   ]
  },
  {
   "cell_type": "code",
   "execution_count": 17,
   "id": "acf9b408",
   "metadata": {},
   "outputs": [
    {
     "name": "stdout",
     "output_type": "stream",
     "text": [
      "Model: \"sequential\"\n",
      "_________________________________________________________________\n",
      " Layer (type)                Output Shape              Param #   \n",
      "=================================================================\n",
      " lstm (LSTM)                 (None, 30, 800)           2576000   \n",
      "                                                                 \n",
      " lstm_1 (LSTM)               (None, 500)               2602000   \n",
      "                                                                 \n",
      " dense (Dense)               (None, 1)                 501       \n",
      "                                                                 \n",
      "=================================================================\n",
      "Total params: 5,178,501\n",
      "Trainable params: 5,178,501\n",
      "Non-trainable params: 0\n",
      "_________________________________________________________________\n"
     ]
    }
   ],
   "source": [
    "# Build the LSTM model\n",
    "\n",
    "model = Sequential()\n",
    "\n",
    "# Add two hidden layers\n",
    "# model.add(LSTM(units=64, activation='relu', input_shape=(X_train.shape[1], X_train.shape[2]), return_sequences=True))\n",
    "# model.add(LSTM(units=32, activation='relu', return_sequences=False))\n",
    "\n",
    "model.add(LSTM(units=800, input_shape=(X_train.shape[1], X_train.shape[2]), return_sequences=True))\n",
    "# model.add(LSTM(units=32, return_sequences=True))\n",
    "model.add(LSTM(units=500, return_sequences=False))\n",
    "# Add output layer, which contains 1 output\n",
    "model.add(Dense(units=1))\n",
    "\n",
    "# Complile the model \n",
    "model.compile(optimizer='adam', loss='mean_squared_error')\n",
    "model.summary()"
   ]
  },
  {
   "cell_type": "code",
   "execution_count": 18,
   "id": "274cae83",
   "metadata": {},
   "outputs": [
    {
     "name": "stdout",
     "output_type": "stream",
     "text": [
      "Epoch 1/10\n",
      "9/9 [==============================] - 15s 1s/step - loss: 0.0596\n",
      "Epoch 2/10\n",
      "9/9 [==============================] - 11s 1s/step - loss: 0.0047\n",
      "Epoch 3/10\n",
      "9/9 [==============================] - 11s 1s/step - loss: 0.0027\n",
      "Epoch 4/10\n",
      "9/9 [==============================] - 11s 1s/step - loss: 0.0018\n",
      "Epoch 5/10\n",
      "9/9 [==============================] - 11s 1s/step - loss: 0.0015\n",
      "Epoch 6/10\n",
      "9/9 [==============================] - 11s 1s/step - loss: 0.0014\n",
      "Epoch 7/10\n",
      "9/9 [==============================] - 11s 1s/step - loss: 0.0013\n",
      "Epoch 8/10\n",
      "9/9 [==============================] - 11s 1s/step - loss: 0.0012\n",
      "Epoch 9/10\n",
      "9/9 [==============================] - 11s 1s/step - loss: 0.0012\n",
      "Epoch 10/10\n",
      "9/9 [==============================] - 11s 1s/step - loss: 0.0012\n"
     ]
    },
    {
     "data": {
      "text/plain": [
       "<keras.callbacks.History at 0x241800d6d48>"
      ]
     },
     "execution_count": 18,
     "metadata": {},
     "output_type": "execute_result"
    }
   ],
   "source": [
    "# Fit the model\n",
    "\n",
    "model.fit(X_train, y_train, batch_size =128, epochs=10, verbose=1)"
   ]
  },
  {
   "cell_type": "code",
   "execution_count": 19,
   "id": "dc6f79bd",
   "metadata": {},
   "outputs": [
    {
     "name": "stdout",
     "output_type": "stream",
     "text": [
      "9/9 [==============================] - 3s 249ms/step\n",
      "(288, 1)\n"
     ]
    }
   ],
   "source": [
    "# Test the model\n",
    "# Make prediction\n",
    "\n",
    "prediction = model.predict(X_test)\n",
    "\n",
    "print(prediction.shape)"
   ]
  },
  {
   "cell_type": "code",
   "execution_count": 20,
   "id": "8f33637c",
   "metadata": {},
   "outputs": [
    {
     "name": "stdout",
     "output_type": "stream",
     "text": [
      "[[0.3164823  0.3164823  0.3164823  0.3164823 ]\n",
      " [0.31784254 0.31784254 0.31784254 0.31784254]\n",
      " [0.3178612  0.3178612  0.3178612  0.3178612 ]\n",
      " ...\n",
      " [0.13254921 0.13254921 0.13254921 0.13254921]\n",
      " [0.13398626 0.13398626 0.13398626 0.13398626]\n",
      " [0.13397971 0.13397971 0.13397971 0.13397971]]\n"
     ]
    }
   ],
   "source": [
    "#Perform inverse transformation to rescale back to original range\n",
    "#Since we used 4 variables for transform, the inverse expects same dimensions\n",
    "#Therefore, we copy our prediction values 4 times and discard them after inverse transform\n",
    "\n",
    "prediction_copies = np.repeat(prediction, scaled_training_data.shape[1], axis=-1)\n",
    "print(prediction_copies)"
   ]
  },
  {
   "cell_type": "code",
   "execution_count": 21,
   "id": "27754412",
   "metadata": {},
   "outputs": [
    {
     "name": "stdout",
     "output_type": "stream",
     "text": [
      "(288,)\n"
     ]
    }
   ],
   "source": [
    "# Discard the extra columns\n",
    "y_pred = scaler.inverse_transform(prediction_copies)[:,0]\n",
    "print(y_pred.shape)"
   ]
  },
  {
   "cell_type": "code",
   "execution_count": 22,
   "id": "bd087e3b",
   "metadata": {},
   "outputs": [
    {
     "data": {
      "text/html": [
       "<div>\n",
       "<style scoped>\n",
       "    .dataframe tbody tr th:only-of-type {\n",
       "        vertical-align: middle;\n",
       "    }\n",
       "\n",
       "    .dataframe tbody tr th {\n",
       "        vertical-align: top;\n",
       "    }\n",
       "\n",
       "    .dataframe thead th {\n",
       "        text-align: right;\n",
       "    }\n",
       "</style>\n",
       "<table border=\"1\" class=\"dataframe\">\n",
       "  <thead>\n",
       "    <tr style=\"text-align: right;\">\n",
       "      <th></th>\n",
       "      <th>Date</th>\n",
       "      <th>close_price</th>\n",
       "    </tr>\n",
       "  </thead>\n",
       "  <tbody>\n",
       "    <tr>\n",
       "      <th>5657</th>\n",
       "      <td>2021-07-29</td>\n",
       "      <td>10.35</td>\n",
       "    </tr>\n",
       "    <tr>\n",
       "      <th>5658</th>\n",
       "      <td>2021-07-30</td>\n",
       "      <td>10.16</td>\n",
       "    </tr>\n",
       "    <tr>\n",
       "      <th>5659</th>\n",
       "      <td>2021-08-02</td>\n",
       "      <td>10.10</td>\n",
       "    </tr>\n",
       "    <tr>\n",
       "      <th>5660</th>\n",
       "      <td>2021-08-03</td>\n",
       "      <td>10.17</td>\n",
       "    </tr>\n",
       "    <tr>\n",
       "      <th>5661</th>\n",
       "      <td>2021-08-04</td>\n",
       "      <td>9.87</td>\n",
       "    </tr>\n",
       "  </tbody>\n",
       "</table>\n",
       "</div>"
      ],
      "text/plain": [
       "           Date  close_price\n",
       "5657 2021-07-29        10.35\n",
       "5658 2021-07-30        10.16\n",
       "5659 2021-08-02        10.10\n",
       "5660 2021-08-03        10.17\n",
       "5661 2021-08-04         9.87"
      ]
     },
     "execution_count": 22,
     "metadata": {},
     "output_type": "execute_result"
    }
   ],
   "source": [
    "# Create the y_test data to compare with the predictions\n",
    "\n",
    "close_df = pd.DataFrame({'Date':bb_df['Date'], 'close_price':bb_training_df['close_price']})\n",
    "y_test = close_df[training_data_len:]\n",
    "y_test.head()"
   ]
  },
  {
   "cell_type": "code",
   "execution_count": 23,
   "id": "7e3e5f8c",
   "metadata": {},
   "outputs": [
    {
     "name": "stdout",
     "output_type": "stream",
     "text": [
      "(288,)\n"
     ]
    }
   ],
   "source": [
    "print(y_test['close_price'].shape)"
   ]
  },
  {
   "cell_type": "code",
   "execution_count": 24,
   "id": "900f1962",
   "metadata": {},
   "outputs": [
    {
     "name": "stdout",
     "output_type": "stream",
     "text": [
      "2.1247806514924115\n"
     ]
    }
   ],
   "source": [
    "# Calculate the MSE\n",
    "\n",
    "print(mean_squared_error(y_test['close_price'], y_pred))"
   ]
  },
  {
   "cell_type": "code",
   "execution_count": 25,
   "id": "b120d1f6",
   "metadata": {},
   "outputs": [
    {
     "data": {
      "image/png": "[encoded data removed]",
      "text/plain": [
       "<Figure size 864x576 with 1 Axes>"
      ]
     },
     "metadata": {
      "needs_background": "light"
     },
     "output_type": "display_data"
    }
   ],
   "source": [
    "# plot test predictions\n",
    "\n",
    "plt.figure(figsize=(12, 8))\n",
    "plt.plot(date_train, bb_training_df['close_price'])\n",
    "plt.plot(y_test['Date'], y_pred, color='red', label='Predicted')\n",
    "plt.plot(y_test['Date'], y_test['close_price'], color='green', label='Actual')\n",
    "plt.xlabel('Date')\n",
    "plt.ylabel('Stock Price')\n",
    "\n",
    "plt.title(\"Blackberry Stock Price predicted by LSTM Model\")\n",
    "plt.grid()\n",
    "plt.legend()\n",
    "plt.show()"
   ]
  },
  {
   "cell_type": "code",
   "execution_count": null,
   "id": "3871e95b",
   "metadata": {},
   "outputs": [],
   "source": []
  },
  {
   "cell_type": "code",
   "execution_count": null,
   "id": "12c97509",
   "metadata": {},
   "outputs": [],
   "source": []
  }
 ],
 "metadata": {
  "kernelspec": {
   "display_name": "mlenv",
   "language": "python",
   "name": "mlenv"
  },
  "language_info": {
   "codemirror_mode": {
    "name": "ipython",
    "version": 3
   },
   "file_extension": ".py",
   "mimetype": "text/x-python",
   "name": "python",
   "nbconvert_exporter": "python",
   "pygments_lexer": "ipython3",
   "version": "3.7.13"
  }
 },
 "nbformat": 4,
 "nbformat_minor": 5
}
