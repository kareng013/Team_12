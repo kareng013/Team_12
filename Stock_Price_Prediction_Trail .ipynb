{
 "cells": [
  {
   "cell_type": "code",
   "execution_count": 44,
   "id": "1d4e2444",
   "metadata": {},
   "outputs": [],
   "source": [
    "# Import dependencies\n",
    "import pandas as pd\n",
    "import numpy as np\n",
    "import matplotlib.pyplot as plt\n",
    "\n",
    "from sklearn.preprocessing import MinMaxScaler\n",
    "from tensorflow.keras.models import Sequential\n",
    "from tensorflow.keras.optimizers import Adam\n",
    "from tensorflow.keras.layers import Dense, LSTM"
   ]
  },
  {
   "cell_type": "code",
   "execution_count": 45,
   "id": "4db4c610",
   "metadata": {},
   "outputs": [
    {
     "data": {
      "text/html": [
       "<div>\n",
       "<style scoped>\n",
       "    .dataframe tbody tr th:only-of-type {\n",
       "        vertical-align: middle;\n",
       "    }\n",
       "\n",
       "    .dataframe tbody tr th {\n",
       "        vertical-align: top;\n",
       "    }\n",
       "\n",
       "    .dataframe thead th {\n",
       "        text-align: right;\n",
       "    }\n",
       "</style>\n",
       "<table border=\"1\" class=\"dataframe\">\n",
       "  <thead>\n",
       "    <tr style=\"text-align: right;\">\n",
       "      <th></th>\n",
       "      <th>Date</th>\n",
       "      <th>Open</th>\n",
       "      <th>High</th>\n",
       "      <th>Low</th>\n",
       "      <th>Close</th>\n",
       "      <th>Adj Close</th>\n",
       "      <th>Volume</th>\n",
       "    </tr>\n",
       "  </thead>\n",
       "  <tbody>\n",
       "    <tr>\n",
       "      <th>0</th>\n",
       "      <td>1980-12-12</td>\n",
       "      <td>0.128348</td>\n",
       "      <td>0.128906</td>\n",
       "      <td>0.128348</td>\n",
       "      <td>0.128348</td>\n",
       "      <td>0.100039</td>\n",
       "      <td>469033600</td>\n",
       "    </tr>\n",
       "    <tr>\n",
       "      <th>1</th>\n",
       "      <td>1980-12-15</td>\n",
       "      <td>0.122210</td>\n",
       "      <td>0.122210</td>\n",
       "      <td>0.121652</td>\n",
       "      <td>0.121652</td>\n",
       "      <td>0.094820</td>\n",
       "      <td>175884800</td>\n",
       "    </tr>\n",
       "    <tr>\n",
       "      <th>2</th>\n",
       "      <td>1980-12-16</td>\n",
       "      <td>0.113281</td>\n",
       "      <td>0.113281</td>\n",
       "      <td>0.112723</td>\n",
       "      <td>0.112723</td>\n",
       "      <td>0.087861</td>\n",
       "      <td>105728000</td>\n",
       "    </tr>\n",
       "    <tr>\n",
       "      <th>3</th>\n",
       "      <td>1980-12-17</td>\n",
       "      <td>0.115513</td>\n",
       "      <td>0.116071</td>\n",
       "      <td>0.115513</td>\n",
       "      <td>0.115513</td>\n",
       "      <td>0.090035</td>\n",
       "      <td>86441600</td>\n",
       "    </tr>\n",
       "    <tr>\n",
       "      <th>4</th>\n",
       "      <td>1980-12-18</td>\n",
       "      <td>0.118862</td>\n",
       "      <td>0.119420</td>\n",
       "      <td>0.118862</td>\n",
       "      <td>0.118862</td>\n",
       "      <td>0.092646</td>\n",
       "      <td>73449600</td>\n",
       "    </tr>\n",
       "    <tr>\n",
       "      <th>...</th>\n",
       "      <td>...</td>\n",
       "      <td>...</td>\n",
       "      <td>...</td>\n",
       "      <td>...</td>\n",
       "      <td>...</td>\n",
       "      <td>...</td>\n",
       "      <td>...</td>\n",
       "    </tr>\n",
       "    <tr>\n",
       "      <th>10526</th>\n",
       "      <td>2022-09-13</td>\n",
       "      <td>159.899994</td>\n",
       "      <td>160.539993</td>\n",
       "      <td>153.369995</td>\n",
       "      <td>153.839996</td>\n",
       "      <td>153.839996</td>\n",
       "      <td>122656600</td>\n",
       "    </tr>\n",
       "    <tr>\n",
       "      <th>10527</th>\n",
       "      <td>2022-09-14</td>\n",
       "      <td>154.789993</td>\n",
       "      <td>157.100006</td>\n",
       "      <td>153.610001</td>\n",
       "      <td>155.309998</td>\n",
       "      <td>155.309998</td>\n",
       "      <td>87965400</td>\n",
       "    </tr>\n",
       "    <tr>\n",
       "      <th>10528</th>\n",
       "      <td>2022-09-15</td>\n",
       "      <td>154.649994</td>\n",
       "      <td>155.240005</td>\n",
       "      <td>151.380005</td>\n",
       "      <td>152.369995</td>\n",
       "      <td>152.369995</td>\n",
       "      <td>90481100</td>\n",
       "    </tr>\n",
       "    <tr>\n",
       "      <th>10529</th>\n",
       "      <td>2022-09-16</td>\n",
       "      <td>151.210007</td>\n",
       "      <td>151.350006</td>\n",
       "      <td>148.369995</td>\n",
       "      <td>150.699997</td>\n",
       "      <td>150.699997</td>\n",
       "      <td>162157000</td>\n",
       "    </tr>\n",
       "    <tr>\n",
       "      <th>10530</th>\n",
       "      <td>2022-09-19</td>\n",
       "      <td>149.309998</td>\n",
       "      <td>154.559998</td>\n",
       "      <td>149.100006</td>\n",
       "      <td>154.479996</td>\n",
       "      <td>154.479996</td>\n",
       "      <td>81474200</td>\n",
       "    </tr>\n",
       "  </tbody>\n",
       "</table>\n",
       "<p>10531 rows × 7 columns</p>\n",
       "</div>"
      ],
      "text/plain": [
       "             Date        Open        High         Low       Close   Adj Close  \\\n",
       "0      1980-12-12    0.128348    0.128906    0.128348    0.128348    0.100039   \n",
       "1      1980-12-15    0.122210    0.122210    0.121652    0.121652    0.094820   \n",
       "2      1980-12-16    0.113281    0.113281    0.112723    0.112723    0.087861   \n",
       "3      1980-12-17    0.115513    0.116071    0.115513    0.115513    0.090035   \n",
       "4      1980-12-18    0.118862    0.119420    0.118862    0.118862    0.092646   \n",
       "...           ...         ...         ...         ...         ...         ...   \n",
       "10526  2022-09-13  159.899994  160.539993  153.369995  153.839996  153.839996   \n",
       "10527  2022-09-14  154.789993  157.100006  153.610001  155.309998  155.309998   \n",
       "10528  2022-09-15  154.649994  155.240005  151.380005  152.369995  152.369995   \n",
       "10529  2022-09-16  151.210007  151.350006  148.369995  150.699997  150.699997   \n",
       "10530  2022-09-19  149.309998  154.559998  149.100006  154.479996  154.479996   \n",
       "\n",
       "          Volume  \n",
       "0      469033600  \n",
       "1      175884800  \n",
       "2      105728000  \n",
       "3       86441600  \n",
       "4       73449600  \n",
       "...          ...  \n",
       "10526  122656600  \n",
       "10527   87965400  \n",
       "10528   90481100  \n",
       "10529  162157000  \n",
       "10530   81474200  \n",
       "\n",
       "[10531 rows x 7 columns]"
      ]
     },
     "execution_count": 45,
     "metadata": {},
     "output_type": "execute_result"
    }
   ],
   "source": [
    "# Get the data, read csv file into data frame\n",
    "df = pd.read_csv(\"AAPL.csv\")\n",
    "df"
   ]
  },
  {
   "cell_type": "code",
   "execution_count": 47,
   "id": "5d2bfce9",
   "metadata": {},
   "outputs": [
    {
     "data": {
      "image/png": "[encoded data removed]",
      "text/plain": [
       "<Figure size 432x288 with 1 Axes>"
      ]
     },
     "metadata": {
      "needs_background": "light"
     },
     "output_type": "display_data"
    }
   ],
   "source": [
    "# Vistulize the input data frame\n",
    "plt.plot(df['Close'])\n",
    "plt.show()"
   ]
  },
  {
   "cell_type": "code",
   "execution_count": 105,
   "id": "90bd1793",
   "metadata": {},
   "outputs": [
    {
     "name": "stdout",
     "output_type": "stream",
     "text": [
      "0    0.128348\n",
      "1    0.121652\n",
      "2    0.112723\n",
      "3    0.115513\n",
      "4    0.118862\n",
      "Name: Close, dtype: float64\n",
      "\n",
      "8425    20.912144\n",
      "8426    21.172501\n",
      "8427    21.205713\n",
      "8428    21.209642\n",
      "8429    21.029285\n",
      "Name: Close, dtype: float64\n"
     ]
    }
   ],
   "source": [
    "# Choose \"Closed\" price column as our input variable\n",
    "close_df= df['Close']\n",
    "close_df_train = close_df.loc[close_df.index < len(close_df)*0.8]\n",
    "close_df_test = close_df.loc[close_df.index >= len(close_df)*0.8]\n",
    "\n",
    "print(close_df_train.head())\n",
    "print()\n",
    "print(close_df_test.head())"
   ]
  },
  {
   "cell_type": "code",
   "execution_count": 73,
   "id": "ba5f4e8e",
   "metadata": {},
   "outputs": [
    {
     "data": {
      "text/plain": [
       "(8425, 1)"
      ]
     },
     "execution_count": 73,
     "metadata": {},
     "output_type": "execute_result"
    }
   ],
   "source": [
    "# Scale the training data\n",
    "scaler = MinMaxScaler(feature_range=(0,1))\n",
    "scaled_data = scaler.fit_transform(close_df_train.values.reshape(-1,1))\n",
    "scaled_data.shape"
   ]
  },
  {
   "cell_type": "code",
   "execution_count": 70,
   "id": "e0f5cabc",
   "metadata": {},
   "outputs": [],
   "source": [
    "# Use the previous 30 days 'close' price to predict the 31st day's price\n",
    "previous_days = 30"
   ]
  },
  {
   "cell_type": "code",
   "execution_count": 71,
   "id": "b2570851",
   "metadata": {},
   "outputs": [],
   "source": [
    "# Splite data into X_train and y_train\n",
    "X_train = []\n",
    "y_train = []\n",
    "\n",
    "for i in range(previous_days, len(scaled_data)):\n",
    "    X_train.append(scaled_data[i-previous_days:i, 0])\n",
    "    y_train.append(scaled_data[i, 0])"
   ]
  },
  {
   "cell_type": "code",
   "execution_count": 100,
   "id": "35739252",
   "metadata": {},
   "outputs": [
    {
     "name": "stdout",
     "output_type": "stream",
     "text": [
      "(8365, 60, 1)\n",
      "(8365,)\n"
     ]
    }
   ],
   "source": [
    "# Convert the X_train and y_train to numpy arrays\n",
    "X_train, y_train = np.array(X_train), np.array(y_train)\n",
    "\n",
    "print(X_train.shape)\n",
    "print(y_train.shape)"
   ]
  },
  {
   "cell_type": "code",
   "execution_count": 75,
   "id": "6b21a5a6",
   "metadata": {},
   "outputs": [
    {
     "data": {
      "text/plain": [
       "(8365, 60, 1)"
      ]
     },
     "execution_count": 75,
     "metadata": {},
     "output_type": "execute_result"
    }
   ],
   "source": [
    "# Reshape the X_train since LSTM needs 3-dimensional inputs\n",
    "X_train = np.reshape(X_train, (X_train.shape[0], X_train.shape[1], 1))\n",
    "X_train.shape"
   ]
  },
  {
   "cell_type": "code",
   "execution_count": 76,
   "id": "b2e465b5",
   "metadata": {},
   "outputs": [],
   "source": [
    "# Build the LSTM model\n",
    "model = Sequential()\n",
    "# Add LSTM layer\n",
    "model.add(LSTM(units = 50, return_sequences=True, input_shape = (X_train.shape[1],1)))\n",
    "model.add(LSTM(units = 50))\n",
    "# prediction output layer\n",
    "model.add(Dense(units=1))"
   ]
  },
  {
   "cell_type": "code",
   "execution_count": 77,
   "id": "016537bf",
   "metadata": {},
   "outputs": [
    {
     "name": "stdout",
     "output_type": "stream",
     "text": [
      "Epoch 1/20\n",
      "84/84 [==============================] - 10s 68ms/step - loss: 0.0040\n",
      "Epoch 2/20\n",
      "84/84 [==============================] - 6s 70ms/step - loss: 1.1894e-04\n",
      "Epoch 3/20\n",
      "84/84 [==============================] - 6s 71ms/step - loss: 1.1103e-04\n",
      "Epoch 4/20\n",
      "84/84 [==============================] - 6s 71ms/step - loss: 1.0729e-04\n",
      "Epoch 5/20\n",
      "84/84 [==============================] - 6s 69ms/step - loss: 1.0521e-04\n",
      "Epoch 6/20\n",
      "84/84 [==============================] - 6s 71ms/step - loss: 1.0719e-04\n",
      "Epoch 7/20\n",
      "84/84 [==============================] - 6s 72ms/step - loss: 9.7802e-05\n",
      "Epoch 8/20\n",
      "84/84 [==============================] - 6s 72ms/step - loss: 8.4433e-05\n",
      "Epoch 9/20\n",
      "84/84 [==============================] - 6s 70ms/step - loss: 1.1608e-04\n",
      "Epoch 10/20\n",
      "84/84 [==============================] - 6s 71ms/step - loss: 8.4419e-05\n",
      "Epoch 11/20\n",
      "84/84 [==============================] - 6s 71ms/step - loss: 8.1992e-05\n",
      "Epoch 12/20\n",
      "84/84 [==============================] - 6s 70ms/step - loss: 7.8622e-05\n",
      "Epoch 13/20\n",
      "84/84 [==============================] - 6s 72ms/step - loss: 7.3564e-05\n",
      "Epoch 14/20\n",
      "84/84 [==============================] - 6s 71ms/step - loss: 7.2856e-05\n",
      "Epoch 15/20\n",
      "84/84 [==============================] - 6s 70ms/step - loss: 8.0290e-05\n",
      "Epoch 16/20\n",
      "84/84 [==============================] - 6s 70ms/step - loss: 7.8238e-05\n",
      "Epoch 17/20\n",
      "84/84 [==============================] - 6s 71ms/step - loss: 8.2384e-05\n",
      "Epoch 18/20\n",
      "84/84 [==============================] - 6s 72ms/step - loss: 7.9629e-05\n",
      "Epoch 19/20\n",
      "84/84 [==============================] - 6s 70ms/step - loss: 5.9497e-05\n",
      "Epoch 20/20\n",
      "84/84 [==============================] - 6s 72ms/step - loss: 6.1605e-05\n"
     ]
    },
    {
     "data": {
      "text/plain": [
       "<keras.callbacks.History at 0x1f81fcadd08>"
      ]
     },
     "execution_count": 77,
     "metadata": {},
     "output_type": "execute_result"
    }
   ],
   "source": [
    "# compile and train the data\n",
    "model.compile(optimizer='adam', loss='mean_squared_error')\n",
    "model.fit(X_train, y_train, batch_size =100, epochs=20)"
   ]
  },
  {
   "cell_type": "code",
   "execution_count": 78,
   "id": "04ae63c9",
   "metadata": {},
   "outputs": [
    {
     "name": "stdout",
     "output_type": "stream",
     "text": [
      "Model: \"sequential_2\"\n",
      "_________________________________________________________________\n",
      " Layer (type)                Output Shape              Param #   \n",
      "=================================================================\n",
      " lstm_3 (LSTM)               (None, 60, 50)            10400     \n",
      "                                                                 \n",
      " lstm_4 (LSTM)               (None, 50)                20200     \n",
      "                                                                 \n",
      " dense_3 (Dense)             (None, 1)                 51        \n",
      "                                                                 \n",
      "=================================================================\n",
      "Total params: 30,651\n",
      "Trainable params: 30,651\n",
      "Non-trainable params: 0\n",
      "_________________________________________________________________\n"
     ]
    }
   ],
   "source": [
    "model.summary()"
   ]
  },
  {
   "cell_type": "code",
   "execution_count": 81,
   "id": "ab255024",
   "metadata": {},
   "outputs": [
    {
     "data": {
      "text/plain": [
       "(2106, 1)"
      ]
     },
     "execution_count": 81,
     "metadata": {},
     "output_type": "execute_result"
    }
   ],
   "source": [
    "#### Test model ####\n",
    "\n",
    "# Scale the testing data\n",
    "scaler = MinMaxScaler(feature_range=(0,1))\n",
    "scaled_test_data = scaler.fit_transform(close_df_test.values.reshape(-1,1))\n",
    "scaled_test_data.shape"
   ]
  },
  {
   "cell_type": "code",
   "execution_count": 82,
   "id": "0a77c36d",
   "metadata": {},
   "outputs": [],
   "source": [
    "# Create X_test and y_test\n",
    "X_test = []\n",
    "y_test = []\n",
    "\n",
    "for i in range(previous_days, len(scaled_test_data)):\n",
    "    X_test.append(scaled_test_data[i-previous_days:i, 0])\n",
    "    y_test.append(scaled_test_data[i, 0])"
   ]
  },
  {
   "cell_type": "code",
   "execution_count": 83,
   "id": "47bee9e3",
   "metadata": {},
   "outputs": [
    {
     "name": "stdout",
     "output_type": "stream",
     "text": [
      "(2046, 60)\n"
     ]
    }
   ],
   "source": [
    "# Convert the X_test and y_test to numpy arrays\n",
    "X_test = np.array(X_test)\n",
    "print(X_test.shape)"
   ]
  },
  {
   "cell_type": "code",
   "execution_count": 84,
   "id": "912dee39",
   "metadata": {},
   "outputs": [
    {
     "name": "stdout",
     "output_type": "stream",
     "text": [
      "(2046, 60, 1)\n"
     ]
    }
   ],
   "source": [
    "# reshape\n",
    "X_test = np.reshape(X_test, (X_test.shape[0], X_test.shape[1], 1))\n",
    "\n",
    "print(X_test.shape)"
   ]
  },
  {
   "cell_type": "code",
   "execution_count": 87,
   "id": "f4145f46",
   "metadata": {},
   "outputs": [
    {
     "name": "stdout",
     "output_type": "stream",
     "text": [
      "64/64 [==============================] - 1s 12ms/step\n"
     ]
    }
   ],
   "source": [
    "# Predict the data\n",
    "\n",
    "prediction = model.predict(X_test)\n",
    "prediction = scaler.inverse_transform(predictions)"
   ]
  },
  {
   "cell_type": "code",
   "execution_count": 106,
   "id": "05b50ac7",
   "metadata": {},
   "outputs": [
    {
     "data": {
      "image/png": "[encoded data removed]",
      "text/plain": [
       "<Figure size 432x288 with 1 Axes>"
      ]
     },
     "metadata": {
      "needs_background": "light"
     },
     "output_type": "display_data"
    }
   ],
   "source": [
    "# plot test predictions\n",
    "\n",
    "plt.plot(prediction, color = 'orange')\n",
    "plt.plot(close_df_test, color = 'black')\n",
    "plt.show()"
   ]
  },
  {
   "cell_type": "code",
   "execution_count": null,
   "id": "bb2ae3bf",
   "metadata": {},
   "outputs": [],
   "source": []
  },
  {
   "cell_type": "code",
   "execution_count": null,
   "id": "5505b816",
   "metadata": {},
   "outputs": [],
   "source": []
  },
  {
   "cell_type": "code",
   "execution_count": null,
   "id": "19cf7eab",
   "metadata": {},
   "outputs": [],
   "source": []
  }
 ],
 "metadata": {
  "kernelspec": {
   "display_name": "mlenv",
   "language": "python",
   "name": "mlenv"
  },
  "language_info": {
   "codemirror_mode": {
    "name": "ipython",
    "version": 3
   },
   "file_extension": ".py",
   "mimetype": "text/x-python",
   "name": "python",
   "nbconvert_exporter": "python",
   "pygments_lexer": "ipython3",
   "version": "3.7.13"
  }
 },
 "nbformat": 4,
 "nbformat_minor": 5
}
