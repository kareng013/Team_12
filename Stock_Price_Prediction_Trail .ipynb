{
 "cells": [
  {
   "cell_type": "code",
   "execution_count": 3,
   "id": "1d4e2444",
   "metadata": {},
   "outputs": [],
   "source": [
    "# Import dependencies\n",
    "import pandas as pd\n",
    "import numpy as np\n",
    "import matplotlib.pyplot as plt\n",
    "import psycopg2\n",
    "\n",
    "from sklearn.preprocessing import MinMaxScaler\n",
    "from tensorflow.keras.models import Sequential\n",
    "from tensorflow.keras.optimizers import Adam\n",
    "from tensorflow.keras.layers import Dense, LSTM"
   ]
  },
  {
   "cell_type": "code",
   "execution_count": 4,
   "id": "6850ca83",
   "metadata": {},
   "outputs": [],
   "source": [
    "PGHOST = 'stocksdb.cndg3gmolxwq.us-east-1.rds.amazonaws.com'\n",
    "PGDATABASE = 'postgres'\n",
    "PGUSER = 'root'\n",
    "PGPASSWORD = 'team122022'\n",
    "\n",
    "\n",
    "def connect():\n",
    "    \n",
    "    # Set up a connection to the postgres server.\n",
    "    conn_string = \"host=\"+PGHOST +\" port=\"+ \"5432\" +\" dbname=\"+PGDATABASE +\" user=\" + PGUSER \\\n",
    "                  +\" password=\"+ PGPASSWORD\n",
    "    \n",
    "    conn = psycopg2.connect(conn_string)\n",
    "    print(\"Connected!\")\n",
    "\n",
    "    # Create a cursor object\n",
    "    cursor = conn.cursor()\n",
    "    \n",
    "    return conn, cursor"
   ]
  },
  {
   "cell_type": "code",
   "execution_count": 5,
   "id": "2ad07eee",
   "metadata": {},
   "outputs": [
    {
     "name": "stdout",
     "output_type": "stream",
     "text": [
      "Connected!\n"
     ]
    }
   ],
   "source": [
    "conn, cursor = connect()"
   ]
  },
  {
   "cell_type": "code",
   "execution_count": 12,
   "id": "499202ed",
   "metadata": {},
   "outputs": [
    {
     "ename": "DatabaseError",
     "evalue": "Execution failed on sql 'SELECT * FROM stocksDB.blackberry': relation \"stocksdb.blackberry\" does not exist\nLINE 1: SELECT * FROM stocksDB.blackberry\n                      ^\n",
     "output_type": "error",
     "traceback": [
      "\u001b[1;31m---------------------------------------------------------------------------\u001b[0m",
      "\u001b[1;31mUndefinedTable\u001b[0m                            Traceback (most recent call last)",
      "\u001b[1;32m~\\anaconda3\\envs\\PythonData\\envs\\mlenv\\lib\\site-packages\\pandas\\io\\sql.py\u001b[0m in \u001b[0;36mexecute\u001b[1;34m(self, *args, **kwargs)\u001b[0m\n\u001b[0;32m   2055\u001b[0m         \u001b[1;32mtry\u001b[0m\u001b[1;33m:\u001b[0m\u001b[1;33m\u001b[0m\u001b[1;33m\u001b[0m\u001b[0m\n\u001b[1;32m-> 2056\u001b[1;33m             \u001b[0mcur\u001b[0m\u001b[1;33m.\u001b[0m\u001b[0mexecute\u001b[0m\u001b[1;33m(\u001b[0m\u001b[1;33m*\u001b[0m\u001b[0margs\u001b[0m\u001b[1;33m,\u001b[0m \u001b[1;33m**\u001b[0m\u001b[0mkwargs\u001b[0m\u001b[1;33m)\u001b[0m\u001b[1;33m\u001b[0m\u001b[1;33m\u001b[0m\u001b[0m\n\u001b[0m\u001b[0;32m   2057\u001b[0m             \u001b[1;32mreturn\u001b[0m \u001b[0mcur\u001b[0m\u001b[1;33m\u001b[0m\u001b[1;33m\u001b[0m\u001b[0m\n",
      "\u001b[1;31mUndefinedTable\u001b[0m: relation \"stocksdb.blackberry\" does not exist\nLINE 1: SELECT * FROM stocksDB.blackberry\n                      ^\n",
      "\nThe above exception was the direct cause of the following exception:\n",
      "\u001b[1;31mDatabaseError\u001b[0m                             Traceback (most recent call last)",
      "\u001b[1;32m~\\AppData\\Local\\Temp\\ipykernel_22700\\4673430.py\u001b[0m in \u001b[0;36m<module>\u001b[1;34m\u001b[0m\n\u001b[1;32m----> 1\u001b[1;33m \u001b[0mdf\u001b[0m \u001b[1;33m=\u001b[0m \u001b[0mpd\u001b[0m\u001b[1;33m.\u001b[0m\u001b[0mread_sql_query\u001b[0m\u001b[1;33m(\u001b[0m\u001b[1;34m\"SELECT * FROM stocksDB.blackberry\"\u001b[0m\u001b[1;33m,\u001b[0m \u001b[0mcon\u001b[0m\u001b[1;33m=\u001b[0m\u001b[0mconn\u001b[0m\u001b[1;33m)\u001b[0m\u001b[1;33m\u001b[0m\u001b[1;33m\u001b[0m\u001b[0m\n\u001b[0m",
      "\u001b[1;32m~\\anaconda3\\envs\\PythonData\\envs\\mlenv\\lib\\site-packages\\pandas\\io\\sql.py\u001b[0m in \u001b[0;36mread_sql_query\u001b[1;34m(sql, con, index_col, coerce_float, params, parse_dates, chunksize, dtype)\u001b[0m\n\u001b[0;32m    441\u001b[0m         \u001b[0mparse_dates\u001b[0m\u001b[1;33m=\u001b[0m\u001b[0mparse_dates\u001b[0m\u001b[1;33m,\u001b[0m\u001b[1;33m\u001b[0m\u001b[1;33m\u001b[0m\u001b[0m\n\u001b[0;32m    442\u001b[0m         \u001b[0mchunksize\u001b[0m\u001b[1;33m=\u001b[0m\u001b[0mchunksize\u001b[0m\u001b[1;33m,\u001b[0m\u001b[1;33m\u001b[0m\u001b[1;33m\u001b[0m\u001b[0m\n\u001b[1;32m--> 443\u001b[1;33m         \u001b[0mdtype\u001b[0m\u001b[1;33m=\u001b[0m\u001b[0mdtype\u001b[0m\u001b[1;33m,\u001b[0m\u001b[1;33m\u001b[0m\u001b[1;33m\u001b[0m\u001b[0m\n\u001b[0m\u001b[0;32m    444\u001b[0m     )\n\u001b[0;32m    445\u001b[0m \u001b[1;33m\u001b[0m\u001b[0m\n",
      "\u001b[1;32m~\\anaconda3\\envs\\PythonData\\envs\\mlenv\\lib\\site-packages\\pandas\\io\\sql.py\u001b[0m in \u001b[0;36mread_query\u001b[1;34m(self, sql, index_col, coerce_float, params, parse_dates, chunksize, dtype)\u001b[0m\n\u001b[0;32m   2114\u001b[0m \u001b[1;33m\u001b[0m\u001b[0m\n\u001b[0;32m   2115\u001b[0m         \u001b[0margs\u001b[0m \u001b[1;33m=\u001b[0m \u001b[0m_convert_params\u001b[0m\u001b[1;33m(\u001b[0m\u001b[0msql\u001b[0m\u001b[1;33m,\u001b[0m \u001b[0mparams\u001b[0m\u001b[1;33m)\u001b[0m\u001b[1;33m\u001b[0m\u001b[1;33m\u001b[0m\u001b[0m\n\u001b[1;32m-> 2116\u001b[1;33m         \u001b[0mcursor\u001b[0m \u001b[1;33m=\u001b[0m \u001b[0mself\u001b[0m\u001b[1;33m.\u001b[0m\u001b[0mexecute\u001b[0m\u001b[1;33m(\u001b[0m\u001b[1;33m*\u001b[0m\u001b[0margs\u001b[0m\u001b[1;33m)\u001b[0m\u001b[1;33m\u001b[0m\u001b[1;33m\u001b[0m\u001b[0m\n\u001b[0m\u001b[0;32m   2117\u001b[0m         \u001b[0mcolumns\u001b[0m \u001b[1;33m=\u001b[0m \u001b[1;33m[\u001b[0m\u001b[0mcol_desc\u001b[0m\u001b[1;33m[\u001b[0m\u001b[1;36m0\u001b[0m\u001b[1;33m]\u001b[0m \u001b[1;32mfor\u001b[0m \u001b[0mcol_desc\u001b[0m \u001b[1;32min\u001b[0m \u001b[0mcursor\u001b[0m\u001b[1;33m.\u001b[0m\u001b[0mdescription\u001b[0m\u001b[1;33m]\u001b[0m\u001b[1;33m\u001b[0m\u001b[1;33m\u001b[0m\u001b[0m\n\u001b[0;32m   2118\u001b[0m \u001b[1;33m\u001b[0m\u001b[0m\n",
      "\u001b[1;32m~\\anaconda3\\envs\\PythonData\\envs\\mlenv\\lib\\site-packages\\pandas\\io\\sql.py\u001b[0m in \u001b[0;36mexecute\u001b[1;34m(self, *args, **kwargs)\u001b[0m\n\u001b[0;32m   2066\u001b[0m \u001b[1;33m\u001b[0m\u001b[0m\n\u001b[0;32m   2067\u001b[0m             \u001b[0mex\u001b[0m \u001b[1;33m=\u001b[0m \u001b[0mDatabaseError\u001b[0m\u001b[1;33m(\u001b[0m\u001b[1;34mf\"Execution failed on sql '{args[0]}': {exc}\"\u001b[0m\u001b[1;33m)\u001b[0m\u001b[1;33m\u001b[0m\u001b[1;33m\u001b[0m\u001b[0m\n\u001b[1;32m-> 2068\u001b[1;33m             \u001b[1;32mraise\u001b[0m \u001b[0mex\u001b[0m \u001b[1;32mfrom\u001b[0m \u001b[0mexc\u001b[0m\u001b[1;33m\u001b[0m\u001b[1;33m\u001b[0m\u001b[0m\n\u001b[0m\u001b[0;32m   2069\u001b[0m \u001b[1;33m\u001b[0m\u001b[0m\n\u001b[0;32m   2070\u001b[0m     \u001b[1;33m@\u001b[0m\u001b[0mstaticmethod\u001b[0m\u001b[1;33m\u001b[0m\u001b[1;33m\u001b[0m\u001b[0m\n",
      "\u001b[1;31mDatabaseError\u001b[0m: Execution failed on sql 'SELECT * FROM stocksDB.blackberry': relation \"stocksdb.blackberry\" does not exist\nLINE 1: SELECT * FROM stocksDB.blackberry\n                      ^\n"
     ]
    }
   ],
   "source": [
    "df = pd.read_sql_query(\"SELECT * FROM stocksDB.blackberry\", con=conn)"
   ]
  },
  {
   "cell_type": "code",
   "execution_count": 12,
   "id": "4db4c610",
   "metadata": {},
   "outputs": [
    {
     "data": {
      "text/html": [
       "<div>\n",
       "<style scoped>\n",
       "    .dataframe tbody tr th:only-of-type {\n",
       "        vertical-align: middle;\n",
       "    }\n",
       "\n",
       "    .dataframe tbody tr th {\n",
       "        vertical-align: top;\n",
       "    }\n",
       "\n",
       "    .dataframe thead th {\n",
       "        text-align: right;\n",
       "    }\n",
       "</style>\n",
       "<table border=\"1\" class=\"dataframe\">\n",
       "  <thead>\n",
       "    <tr style=\"text-align: right;\">\n",
       "      <th></th>\n",
       "      <th>Date</th>\n",
       "      <th>Open</th>\n",
       "      <th>High</th>\n",
       "      <th>Low</th>\n",
       "      <th>Close</th>\n",
       "      <th>Adj Close</th>\n",
       "      <th>Volume</th>\n",
       "    </tr>\n",
       "  </thead>\n",
       "  <tbody>\n",
       "    <tr>\n",
       "      <th>0</th>\n",
       "      <td>1980-12-12</td>\n",
       "      <td>0.128348</td>\n",
       "      <td>0.128906</td>\n",
       "      <td>0.128348</td>\n",
       "      <td>0.128348</td>\n",
       "      <td>0.100039</td>\n",
       "      <td>469033600</td>\n",
       "    </tr>\n",
       "    <tr>\n",
       "      <th>1</th>\n",
       "      <td>1980-12-15</td>\n",
       "      <td>0.122210</td>\n",
       "      <td>0.122210</td>\n",
       "      <td>0.121652</td>\n",
       "      <td>0.121652</td>\n",
       "      <td>0.094820</td>\n",
       "      <td>175884800</td>\n",
       "    </tr>\n",
       "    <tr>\n",
       "      <th>2</th>\n",
       "      <td>1980-12-16</td>\n",
       "      <td>0.113281</td>\n",
       "      <td>0.113281</td>\n",
       "      <td>0.112723</td>\n",
       "      <td>0.112723</td>\n",
       "      <td>0.087861</td>\n",
       "      <td>105728000</td>\n",
       "    </tr>\n",
       "    <tr>\n",
       "      <th>3</th>\n",
       "      <td>1980-12-17</td>\n",
       "      <td>0.115513</td>\n",
       "      <td>0.116071</td>\n",
       "      <td>0.115513</td>\n",
       "      <td>0.115513</td>\n",
       "      <td>0.090035</td>\n",
       "      <td>86441600</td>\n",
       "    </tr>\n",
       "    <tr>\n",
       "      <th>4</th>\n",
       "      <td>1980-12-18</td>\n",
       "      <td>0.118862</td>\n",
       "      <td>0.119420</td>\n",
       "      <td>0.118862</td>\n",
       "      <td>0.118862</td>\n",
       "      <td>0.092646</td>\n",
       "      <td>73449600</td>\n",
       "    </tr>\n",
       "    <tr>\n",
       "      <th>5</th>\n",
       "      <td>1980-12-19</td>\n",
       "      <td>0.126116</td>\n",
       "      <td>0.126674</td>\n",
       "      <td>0.126116</td>\n",
       "      <td>0.126116</td>\n",
       "      <td>0.098300</td>\n",
       "      <td>48630400</td>\n",
       "    </tr>\n",
       "    <tr>\n",
       "      <th>6</th>\n",
       "      <td>1980-12-22</td>\n",
       "      <td>0.132254</td>\n",
       "      <td>0.132813</td>\n",
       "      <td>0.132254</td>\n",
       "      <td>0.132254</td>\n",
       "      <td>0.103084</td>\n",
       "      <td>37363200</td>\n",
       "    </tr>\n",
       "    <tr>\n",
       "      <th>7</th>\n",
       "      <td>1980-12-23</td>\n",
       "      <td>0.137835</td>\n",
       "      <td>0.138393</td>\n",
       "      <td>0.137835</td>\n",
       "      <td>0.137835</td>\n",
       "      <td>0.107434</td>\n",
       "      <td>46950400</td>\n",
       "    </tr>\n",
       "    <tr>\n",
       "      <th>8</th>\n",
       "      <td>1980-12-24</td>\n",
       "      <td>0.145089</td>\n",
       "      <td>0.145647</td>\n",
       "      <td>0.145089</td>\n",
       "      <td>0.145089</td>\n",
       "      <td>0.113088</td>\n",
       "      <td>48003200</td>\n",
       "    </tr>\n",
       "    <tr>\n",
       "      <th>9</th>\n",
       "      <td>1980-12-26</td>\n",
       "      <td>0.158482</td>\n",
       "      <td>0.159040</td>\n",
       "      <td>0.158482</td>\n",
       "      <td>0.158482</td>\n",
       "      <td>0.123527</td>\n",
       "      <td>55574400</td>\n",
       "    </tr>\n",
       "    <tr>\n",
       "      <th>10</th>\n",
       "      <td>1980-12-29</td>\n",
       "      <td>0.160714</td>\n",
       "      <td>0.161272</td>\n",
       "      <td>0.160714</td>\n",
       "      <td>0.160714</td>\n",
       "      <td>0.125267</td>\n",
       "      <td>93161600</td>\n",
       "    </tr>\n",
       "    <tr>\n",
       "      <th>11</th>\n",
       "      <td>1980-12-30</td>\n",
       "      <td>0.157366</td>\n",
       "      <td>0.157366</td>\n",
       "      <td>0.156808</td>\n",
       "      <td>0.156808</td>\n",
       "      <td>0.122222</td>\n",
       "      <td>68880000</td>\n",
       "    </tr>\n",
       "    <tr>\n",
       "      <th>12</th>\n",
       "      <td>1980-12-31</td>\n",
       "      <td>0.152902</td>\n",
       "      <td>0.152902</td>\n",
       "      <td>0.152344</td>\n",
       "      <td>0.152344</td>\n",
       "      <td>0.118743</td>\n",
       "      <td>35750400</td>\n",
       "    </tr>\n",
       "    <tr>\n",
       "      <th>13</th>\n",
       "      <td>1981-01-02</td>\n",
       "      <td>0.154018</td>\n",
       "      <td>0.155134</td>\n",
       "      <td>0.154018</td>\n",
       "      <td>0.154018</td>\n",
       "      <td>0.120048</td>\n",
       "      <td>21660800</td>\n",
       "    </tr>\n",
       "    <tr>\n",
       "      <th>14</th>\n",
       "      <td>1981-01-05</td>\n",
       "      <td>0.151228</td>\n",
       "      <td>0.151228</td>\n",
       "      <td>0.150670</td>\n",
       "      <td>0.150670</td>\n",
       "      <td>0.117438</td>\n",
       "      <td>35728000</td>\n",
       "    </tr>\n",
       "    <tr>\n",
       "      <th>15</th>\n",
       "      <td>1981-01-06</td>\n",
       "      <td>0.144531</td>\n",
       "      <td>0.144531</td>\n",
       "      <td>0.143973</td>\n",
       "      <td>0.143973</td>\n",
       "      <td>0.112218</td>\n",
       "      <td>45158400</td>\n",
       "    </tr>\n",
       "    <tr>\n",
       "      <th>16</th>\n",
       "      <td>1981-01-07</td>\n",
       "      <td>0.138393</td>\n",
       "      <td>0.138393</td>\n",
       "      <td>0.137835</td>\n",
       "      <td>0.137835</td>\n",
       "      <td>0.107434</td>\n",
       "      <td>55686400</td>\n",
       "    </tr>\n",
       "    <tr>\n",
       "      <th>17</th>\n",
       "      <td>1981-01-08</td>\n",
       "      <td>0.135603</td>\n",
       "      <td>0.135603</td>\n",
       "      <td>0.135045</td>\n",
       "      <td>0.135045</td>\n",
       "      <td>0.105259</td>\n",
       "      <td>39827200</td>\n",
       "    </tr>\n",
       "    <tr>\n",
       "      <th>18</th>\n",
       "      <td>1981-01-09</td>\n",
       "      <td>0.142299</td>\n",
       "      <td>0.142857</td>\n",
       "      <td>0.142299</td>\n",
       "      <td>0.142299</td>\n",
       "      <td>0.110913</td>\n",
       "      <td>21504000</td>\n",
       "    </tr>\n",
       "    <tr>\n",
       "      <th>19</th>\n",
       "      <td>1981-01-12</td>\n",
       "      <td>0.142299</td>\n",
       "      <td>0.142299</td>\n",
       "      <td>0.141183</td>\n",
       "      <td>0.141183</td>\n",
       "      <td>0.110044</td>\n",
       "      <td>23699200</td>\n",
       "    </tr>\n",
       "    <tr>\n",
       "      <th>20</th>\n",
       "      <td>1981-01-13</td>\n",
       "      <td>0.136719</td>\n",
       "      <td>0.136719</td>\n",
       "      <td>0.136161</td>\n",
       "      <td>0.136161</td>\n",
       "      <td>0.106129</td>\n",
       "      <td>23049600</td>\n",
       "    </tr>\n",
       "    <tr>\n",
       "      <th>21</th>\n",
       "      <td>1981-01-14</td>\n",
       "      <td>0.136719</td>\n",
       "      <td>0.137277</td>\n",
       "      <td>0.136719</td>\n",
       "      <td>0.136719</td>\n",
       "      <td>0.106564</td>\n",
       "      <td>14291200</td>\n",
       "    </tr>\n",
       "    <tr>\n",
       "      <th>22</th>\n",
       "      <td>1981-01-15</td>\n",
       "      <td>0.139509</td>\n",
       "      <td>0.140625</td>\n",
       "      <td>0.139509</td>\n",
       "      <td>0.139509</td>\n",
       "      <td>0.108739</td>\n",
       "      <td>14067200</td>\n",
       "    </tr>\n",
       "    <tr>\n",
       "      <th>23</th>\n",
       "      <td>1981-01-16</td>\n",
       "      <td>0.138951</td>\n",
       "      <td>0.138951</td>\n",
       "      <td>0.138393</td>\n",
       "      <td>0.138393</td>\n",
       "      <td>0.107869</td>\n",
       "      <td>13395200</td>\n",
       "    </tr>\n",
       "    <tr>\n",
       "      <th>24</th>\n",
       "      <td>1981-01-19</td>\n",
       "      <td>0.146763</td>\n",
       "      <td>0.147321</td>\n",
       "      <td>0.146763</td>\n",
       "      <td>0.146763</td>\n",
       "      <td>0.114393</td>\n",
       "      <td>41574400</td>\n",
       "    </tr>\n",
       "    <tr>\n",
       "      <th>25</th>\n",
       "      <td>1981-01-20</td>\n",
       "      <td>0.142857</td>\n",
       "      <td>0.142857</td>\n",
       "      <td>0.142299</td>\n",
       "      <td>0.142299</td>\n",
       "      <td>0.110913</td>\n",
       "      <td>30083200</td>\n",
       "    </tr>\n",
       "    <tr>\n",
       "      <th>26</th>\n",
       "      <td>1981-01-21</td>\n",
       "      <td>0.145089</td>\n",
       "      <td>0.146205</td>\n",
       "      <td>0.145089</td>\n",
       "      <td>0.145089</td>\n",
       "      <td>0.113088</td>\n",
       "      <td>15904000</td>\n",
       "    </tr>\n",
       "    <tr>\n",
       "      <th>27</th>\n",
       "      <td>1981-01-22</td>\n",
       "      <td>0.146763</td>\n",
       "      <td>0.147879</td>\n",
       "      <td>0.146763</td>\n",
       "      <td>0.146763</td>\n",
       "      <td>0.114393</td>\n",
       "      <td>35548800</td>\n",
       "    </tr>\n",
       "    <tr>\n",
       "      <th>28</th>\n",
       "      <td>1981-01-23</td>\n",
       "      <td>0.146763</td>\n",
       "      <td>0.147321</td>\n",
       "      <td>0.146205</td>\n",
       "      <td>0.146205</td>\n",
       "      <td>0.113958</td>\n",
       "      <td>11222400</td>\n",
       "    </tr>\n",
       "    <tr>\n",
       "      <th>29</th>\n",
       "      <td>1981-01-26</td>\n",
       "      <td>0.144531</td>\n",
       "      <td>0.144531</td>\n",
       "      <td>0.143973</td>\n",
       "      <td>0.143973</td>\n",
       "      <td>0.112218</td>\n",
       "      <td>24640000</td>\n",
       "    </tr>\n",
       "    <tr>\n",
       "      <th>30</th>\n",
       "      <td>1981-01-27</td>\n",
       "      <td>0.143973</td>\n",
       "      <td>0.143973</td>\n",
       "      <td>0.142857</td>\n",
       "      <td>0.142857</td>\n",
       "      <td>0.111348</td>\n",
       "      <td>23699200</td>\n",
       "    </tr>\n",
       "  </tbody>\n",
       "</table>\n",
       "</div>"
      ],
      "text/plain": [
       "          Date      Open      High       Low     Close  Adj Close     Volume\n",
       "0   1980-12-12  0.128348  0.128906  0.128348  0.128348   0.100039  469033600\n",
       "1   1980-12-15  0.122210  0.122210  0.121652  0.121652   0.094820  175884800\n",
       "2   1980-12-16  0.113281  0.113281  0.112723  0.112723   0.087861  105728000\n",
       "3   1980-12-17  0.115513  0.116071  0.115513  0.115513   0.090035   86441600\n",
       "4   1980-12-18  0.118862  0.119420  0.118862  0.118862   0.092646   73449600\n",
       "5   1980-12-19  0.126116  0.126674  0.126116  0.126116   0.098300   48630400\n",
       "6   1980-12-22  0.132254  0.132813  0.132254  0.132254   0.103084   37363200\n",
       "7   1980-12-23  0.137835  0.138393  0.137835  0.137835   0.107434   46950400\n",
       "8   1980-12-24  0.145089  0.145647  0.145089  0.145089   0.113088   48003200\n",
       "9   1980-12-26  0.158482  0.159040  0.158482  0.158482   0.123527   55574400\n",
       "10  1980-12-29  0.160714  0.161272  0.160714  0.160714   0.125267   93161600\n",
       "11  1980-12-30  0.157366  0.157366  0.156808  0.156808   0.122222   68880000\n",
       "12  1980-12-31  0.152902  0.152902  0.152344  0.152344   0.118743   35750400\n",
       "13  1981-01-02  0.154018  0.155134  0.154018  0.154018   0.120048   21660800\n",
       "14  1981-01-05  0.151228  0.151228  0.150670  0.150670   0.117438   35728000\n",
       "15  1981-01-06  0.144531  0.144531  0.143973  0.143973   0.112218   45158400\n",
       "16  1981-01-07  0.138393  0.138393  0.137835  0.137835   0.107434   55686400\n",
       "17  1981-01-08  0.135603  0.135603  0.135045  0.135045   0.105259   39827200\n",
       "18  1981-01-09  0.142299  0.142857  0.142299  0.142299   0.110913   21504000\n",
       "19  1981-01-12  0.142299  0.142299  0.141183  0.141183   0.110044   23699200\n",
       "20  1981-01-13  0.136719  0.136719  0.136161  0.136161   0.106129   23049600\n",
       "21  1981-01-14  0.136719  0.137277  0.136719  0.136719   0.106564   14291200\n",
       "22  1981-01-15  0.139509  0.140625  0.139509  0.139509   0.108739   14067200\n",
       "23  1981-01-16  0.138951  0.138951  0.138393  0.138393   0.107869   13395200\n",
       "24  1981-01-19  0.146763  0.147321  0.146763  0.146763   0.114393   41574400\n",
       "25  1981-01-20  0.142857  0.142857  0.142299  0.142299   0.110913   30083200\n",
       "26  1981-01-21  0.145089  0.146205  0.145089  0.145089   0.113088   15904000\n",
       "27  1981-01-22  0.146763  0.147879  0.146763  0.146763   0.114393   35548800\n",
       "28  1981-01-23  0.146763  0.147321  0.146205  0.146205   0.113958   11222400\n",
       "29  1981-01-26  0.144531  0.144531  0.143973  0.143973   0.112218   24640000\n",
       "30  1981-01-27  0.143973  0.143973  0.142857  0.142857   0.111348   23699200"
      ]
     },
     "execution_count": 12,
     "metadata": {},
     "output_type": "execute_result"
    }
   ],
   "source": [
    "# Get the data, read csv file into data frame\n",
    "df = pd.read_csv(\"AAPL.csv\")\n",
    "df.head(31)"
   ]
  },
  {
   "cell_type": "code",
   "execution_count": 4,
   "id": "5d2bfce9",
   "metadata": {},
   "outputs": [
    {
     "data": {
      "image/png": "[encoded data removed]",
      "text/plain": [
       "<Figure size 432x288 with 1 Axes>"
      ]
     },
     "metadata": {
      "needs_background": "light"
     },
     "output_type": "display_data"
    }
   ],
   "source": [
    "# Vistulize the input data frame\n",
    "plt.plot(df['Close'])\n",
    "plt.show()"
   ]
  },
  {
   "cell_type": "code",
   "execution_count": 5,
   "id": "90bd1793",
   "metadata": {},
   "outputs": [
    {
     "name": "stdout",
     "output_type": "stream",
     "text": [
      "0    0.128348\n",
      "1    0.121652\n",
      "2    0.112723\n",
      "3    0.115513\n",
      "4    0.118862\n",
      "Name: Close, dtype: float64\n",
      "\n",
      "8425    20.912144\n",
      "8426    21.172501\n",
      "8427    21.205713\n",
      "8428    21.209642\n",
      "8429    21.029285\n",
      "Name: Close, dtype: float64\n"
     ]
    }
   ],
   "source": [
    "# Choose \"Closed\" price column as our input variable\n",
    "close_df= df['Close']\n",
    "close_df_train = close_df.loc[close_df.index < len(close_df)*0.8]\n",
    "close_df_test = close_df.loc[close_df.index >= len(close_df)*0.8]\n",
    "\n",
    "print(close_df_train.head())\n",
    "print()\n",
    "print(close_df_test.head())"
   ]
  },
  {
   "cell_type": "code",
   "execution_count": 6,
   "id": "ba5f4e8e",
   "metadata": {},
   "outputs": [
    {
     "data": {
      "text/plain": [
       "(8425, 1)"
      ]
     },
     "execution_count": 6,
     "metadata": {},
     "output_type": "execute_result"
    }
   ],
   "source": [
    "# Scale the training data\n",
    "scaler = MinMaxScaler(feature_range=(0,1))\n",
    "scaled_data = scaler.fit_transform(close_df_train.values.reshape(-1,1))\n",
    "scaled_data.shape"
   ]
  },
  {
   "cell_type": "code",
   "execution_count": 7,
   "id": "e0f5cabc",
   "metadata": {},
   "outputs": [],
   "source": [
    "# Use the previous 30 days 'close' price to predict the 31st day's price\n",
    "previous_days = 30"
   ]
  },
  {
   "cell_type": "code",
   "execution_count": 13,
   "id": "b2570851",
   "metadata": {},
   "outputs": [
    {
     "name": "stdout",
     "output_type": "stream",
     "text": [
      "[array([0.00316636, 0.0028988 , 0.00254201, 0.00265349, 0.00278731,\n",
      "       0.00307717, 0.00332244, 0.00354545, 0.00383531, 0.00437047,\n",
      "       0.00445966, 0.00430358, 0.00412521, 0.0041921 , 0.00405832,\n",
      "       0.00379071, 0.00354545, 0.00343396, 0.00372382, 0.00367923,\n",
      "       0.00347856, 0.00350085, 0.00361234, 0.00356774, 0.0039022 ,\n",
      "       0.00372382, 0.00383531, 0.0039022 , 0.0038799 , 0.00379071])]\n",
      "[0.00374611991883287]\n",
      "[array([0.00316636, 0.0028988 , 0.00254201, 0.00265349, 0.00278731,\n",
      "       0.00307717, 0.00332244, 0.00354545, 0.00383531, 0.00437047,\n",
      "       0.00445966, 0.00430358, 0.00412521, 0.0041921 , 0.00405832,\n",
      "       0.00379071, 0.00354545, 0.00343396, 0.00372382, 0.00367923,\n",
      "       0.00347856, 0.00350085, 0.00361234, 0.00356774, 0.0039022 ,\n",
      "       0.00372382, 0.00383531, 0.0039022 , 0.0038799 , 0.00379071]), array([0.0028988 , 0.00254201, 0.00265349, 0.00278731, 0.00307717,\n",
      "       0.00332244, 0.00354545, 0.00383531, 0.00437047, 0.00445966,\n",
      "       0.00430358, 0.00412521, 0.0041921 , 0.00405832, 0.00379071,\n",
      "       0.00354545, 0.00343396, 0.00372382, 0.00367923, 0.00347856,\n",
      "       0.00350085, 0.00361234, 0.00356774, 0.0039022 , 0.00372382,\n",
      "       0.00383531, 0.0039022 , 0.0038799 , 0.00379071, 0.00374612])]\n",
      "[0.00374611991883287, 0.0035677446727777236]\n"
     ]
    }
   ],
   "source": [
    "# Splite data into X_train and y_train\n",
    "X_train = []\n",
    "y_train = []\n",
    "\n",
    "for i in range(previous_days, len(scaled_data)):\n",
    "    X_train.append(scaled_data[i-previous_days:i, 0])\n",
    "    y_train.append(scaled_data[i, 0])\n",
    "    \n",
    "    if i<=previous_days+1:\n",
    "        print(X_train)\n",
    "        print(y_train)"
   ]
  },
  {
   "cell_type": "code",
   "execution_count": 100,
   "id": "35739252",
   "metadata": {},
   "outputs": [
    {
     "name": "stdout",
     "output_type": "stream",
     "text": [
      "(8365, 60, 1)\n",
      "(8365,)\n"
     ]
    }
   ],
   "source": [
    "# Convert the X_train and y_train to numpy arrays\n",
    "X_train, y_train = np.array(X_train), np.array(y_train)\n",
    "\n",
    "print(X_train.shape)\n",
    "print(y_train.shape)"
   ]
  },
  {
   "cell_type": "code",
   "execution_count": 75,
   "id": "6b21a5a6",
   "metadata": {},
   "outputs": [
    {
     "data": {
      "text/plain": [
       "(8365, 60, 1)"
      ]
     },
     "execution_count": 75,
     "metadata": {},
     "output_type": "execute_result"
    }
   ],
   "source": [
    "# Reshape the X_train since LSTM needs 3-dimensional inputs\n",
    "X_train = np.reshape(X_train, (X_train.shape[0], X_train.shape[1], 1))\n",
    "X_train.shape"
   ]
  },
  {
   "cell_type": "code",
   "execution_count": 76,
   "id": "b2e465b5",
   "metadata": {},
   "outputs": [],
   "source": [
    "# Build the LSTM model\n",
    "model = Sequential()\n",
    "# Add LSTM layer\n",
    "model.add(LSTM(units = 50, return_sequences=True, input_shape = (X_train.shape[1],1)))\n",
    "model.add(LSTM(units = 50))\n",
    "# prediction output layer\n",
    "model.add(Dense(units=1))"
   ]
  },
  {
   "cell_type": "code",
   "execution_count": 77,
   "id": "016537bf",
   "metadata": {},
   "outputs": [
    {
     "name": "stdout",
     "output_type": "stream",
     "text": [
      "Epoch 1/20\n",
      "84/84 [==============================] - 10s 68ms/step - loss: 0.0040\n",
      "Epoch 2/20\n",
      "84/84 [==============================] - 6s 70ms/step - loss: 1.1894e-04\n",
      "Epoch 3/20\n",
      "84/84 [==============================] - 6s 71ms/step - loss: 1.1103e-04\n",
      "Epoch 4/20\n",
      "84/84 [==============================] - 6s 71ms/step - loss: 1.0729e-04\n",
      "Epoch 5/20\n",
      "84/84 [==============================] - 6s 69ms/step - loss: 1.0521e-04\n",
      "Epoch 6/20\n",
      "84/84 [==============================] - 6s 71ms/step - loss: 1.0719e-04\n",
      "Epoch 7/20\n",
      "84/84 [==============================] - 6s 72ms/step - loss: 9.7802e-05\n",
      "Epoch 8/20\n",
      "84/84 [==============================] - 6s 72ms/step - loss: 8.4433e-05\n",
      "Epoch 9/20\n",
      "84/84 [==============================] - 6s 70ms/step - loss: 1.1608e-04\n",
      "Epoch 10/20\n",
      "84/84 [==============================] - 6s 71ms/step - loss: 8.4419e-05\n",
      "Epoch 11/20\n",
      "84/84 [==============================] - 6s 71ms/step - loss: 8.1992e-05\n",
      "Epoch 12/20\n",
      "84/84 [==============================] - 6s 70ms/step - loss: 7.8622e-05\n",
      "Epoch 13/20\n",
      "84/84 [==============================] - 6s 72ms/step - loss: 7.3564e-05\n",
      "Epoch 14/20\n",
      "84/84 [==============================] - 6s 71ms/step - loss: 7.2856e-05\n",
      "Epoch 15/20\n",
      "84/84 [==============================] - 6s 70ms/step - loss: 8.0290e-05\n",
      "Epoch 16/20\n",
      "84/84 [==============================] - 6s 70ms/step - loss: 7.8238e-05\n",
      "Epoch 17/20\n",
      "84/84 [==============================] - 6s 71ms/step - loss: 8.2384e-05\n",
      "Epoch 18/20\n",
      "84/84 [==============================] - 6s 72ms/step - loss: 7.9629e-05\n",
      "Epoch 19/20\n",
      "84/84 [==============================] - 6s 70ms/step - loss: 5.9497e-05\n",
      "Epoch 20/20\n",
      "84/84 [==============================] - 6s 72ms/step - loss: 6.1605e-05\n"
     ]
    },
    {
     "data": {
      "text/plain": [
       "<keras.callbacks.History at 0x1f81fcadd08>"
      ]
     },
     "execution_count": 77,
     "metadata": {},
     "output_type": "execute_result"
    }
   ],
   "source": [
    "# compile and train the data\n",
    "model.compile(optimizer='adam', loss='mean_squared_error')\n",
    "model.fit(X_train, y_train, batch_size =100, epochs=20)"
   ]
  },
  {
   "cell_type": "code",
   "execution_count": 78,
   "id": "04ae63c9",
   "metadata": {},
   "outputs": [
    {
     "name": "stdout",
     "output_type": "stream",
     "text": [
      "Model: \"sequential_2\"\n",
      "_________________________________________________________________\n",
      " Layer (type)                Output Shape              Param #   \n",
      "=================================================================\n",
      " lstm_3 (LSTM)               (None, 60, 50)            10400     \n",
      "                                                                 \n",
      " lstm_4 (LSTM)               (None, 50)                20200     \n",
      "                                                                 \n",
      " dense_3 (Dense)             (None, 1)                 51        \n",
      "                                                                 \n",
      "=================================================================\n",
      "Total params: 30,651\n",
      "Trainable params: 30,651\n",
      "Non-trainable params: 0\n",
      "_________________________________________________________________\n"
     ]
    }
   ],
   "source": [
    "model.summary()"
   ]
  },
  {
   "cell_type": "code",
   "execution_count": 81,
   "id": "ab255024",
   "metadata": {},
   "outputs": [
    {
     "data": {
      "text/plain": [
       "(2106, 1)"
      ]
     },
     "execution_count": 81,
     "metadata": {},
     "output_type": "execute_result"
    }
   ],
   "source": [
    "#### Test model ####\n",
    "\n",
    "# Scale the testing data\n",
    "scaler = MinMaxScaler(feature_range=(0,1))\n",
    "scaled_test_data = scaler.fit_transform(close_df_test.values.reshape(-1,1))\n",
    "scaled_test_data.shape"
   ]
  },
  {
   "cell_type": "code",
   "execution_count": 82,
   "id": "0a77c36d",
   "metadata": {},
   "outputs": [],
   "source": [
    "# Create X_test and y_test\n",
    "X_test = []\n",
    "y_test = []\n",
    "\n",
    "for i in range(previous_days, len(scaled_test_data)):\n",
    "    X_test.append(scaled_test_data[i-previous_days:i, 0])\n",
    "    y_test.append(scaled_test_data[i, 0])"
   ]
  },
  {
   "cell_type": "code",
   "execution_count": 83,
   "id": "47bee9e3",
   "metadata": {},
   "outputs": [
    {
     "name": "stdout",
     "output_type": "stream",
     "text": [
      "(2046, 60)\n"
     ]
    }
   ],
   "source": [
    "# Convert the X_test and y_test to numpy arrays\n",
    "X_test = np.array(X_test)\n",
    "print(X_test.shape)"
   ]
  },
  {
   "cell_type": "code",
   "execution_count": 84,
   "id": "912dee39",
   "metadata": {},
   "outputs": [
    {
     "name": "stdout",
     "output_type": "stream",
     "text": [
      "(2046, 60, 1)\n"
     ]
    }
   ],
   "source": [
    "# reshape\n",
    "X_test = np.reshape(X_test, (X_test.shape[0], X_test.shape[1], 1))\n",
    "\n",
    "print(X_test.shape)"
   ]
  },
  {
   "cell_type": "code",
   "execution_count": 87,
   "id": "f4145f46",
   "metadata": {},
   "outputs": [
    {
     "name": "stdout",
     "output_type": "stream",
     "text": [
      "64/64 [==============================] - 1s 12ms/step\n"
     ]
    }
   ],
   "source": [
    "# Predict the data\n",
    "\n",
    "prediction = model.predict(X_test)\n",
    "prediction = scaler.inverse_transform(predictions)"
   ]
  },
  {
   "cell_type": "code",
   "execution_count": 106,
   "id": "05b50ac7",
   "metadata": {},
   "outputs": [
    {
     "data": {
      "image/png": "[encoded data removed]",
      "text/plain": [
       "<Figure size 432x288 with 1 Axes>"
      ]
     },
     "metadata": {
      "needs_background": "light"
     },
     "output_type": "display_data"
    }
   ],
   "source": [
    "# plot test predictions\n",
    "\n",
    "plt.plot(prediction, color = 'orange')\n",
    "plt.plot(close_df_test, color = 'black')\n",
    "plt.show()"
   ]
  },
  {
   "cell_type": "code",
   "execution_count": null,
   "id": "bb2ae3bf",
   "metadata": {},
   "outputs": [],
   "source": []
  },
  {
   "cell_type": "code",
   "execution_count": null,
   "id": "5505b816",
   "metadata": {},
   "outputs": [],
   "source": []
  },
  {
   "cell_type": "code",
   "execution_count": null,
   "id": "19cf7eab",
   "metadata": {},
   "outputs": [],
   "source": []
  }
 ],
 "metadata": {
  "kernelspec": {
   "display_name": "mlenv",
   "language": "python",
   "name": "mlenv"
  },
  "language_info": {
   "codemirror_mode": {
    "name": "ipython",
    "version": 3
   },
   "file_extension": ".py",
   "mimetype": "text/x-python",
   "name": "python",
   "nbconvert_exporter": "python",
   "pygments_lexer": "ipython3",
   "version": "3.7.13"
  }
 },
 "nbformat": 4,
 "nbformat_minor": 5
}
